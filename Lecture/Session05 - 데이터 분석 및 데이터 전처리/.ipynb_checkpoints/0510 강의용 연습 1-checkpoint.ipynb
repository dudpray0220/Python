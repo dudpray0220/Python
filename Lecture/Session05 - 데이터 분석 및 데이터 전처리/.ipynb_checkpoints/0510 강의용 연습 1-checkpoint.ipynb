{
 "cells": [
  {
   "cell_type": "markdown",
   "metadata": {},
   "source": [
    "## 1. 라이브러리 선언"
   ]
  },
  {
   "cell_type": "code",
   "execution_count": 1,
   "metadata": {},
   "outputs": [],
   "source": [
    "import pandas as pd\n",
    "import numpy as np"
   ]
  },
  {
   "cell_type": "markdown",
   "metadata": {},
   "source": [
    "## 2. 데이터 불러오기"
   ]
  },
  {
   "cell_type": "code",
   "execution_count": 2,
   "metadata": {},
   "outputs": [
    {
     "data": {
      "text/html": [
       "<div>\n",
       "<style scoped>\n",
       "    .dataframe tbody tr th:only-of-type {\n",
       "        vertical-align: middle;\n",
       "    }\n",
       "\n",
       "    .dataframe tbody tr th {\n",
       "        vertical-align: top;\n",
       "    }\n",
       "\n",
       "    .dataframe thead th {\n",
       "        text-align: right;\n",
       "    }\n",
       "</style>\n",
       "<table border=\"1\" class=\"dataframe\">\n",
       "  <thead>\n",
       "    <tr style=\"text-align: right;\">\n",
       "      <th></th>\n",
       "      <th>CUSTID</th>\n",
       "      <th>AVGPRICE</th>\n",
       "      <th>EMI</th>\n",
       "      <th>DEVICECOUNT</th>\n",
       "      <th>PRODUCTAGE</th>\n",
       "      <th>CUSTTYPE</th>\n",
       "    </tr>\n",
       "  </thead>\n",
       "  <tbody>\n",
       "    <tr>\n",
       "      <th>0</th>\n",
       "      <td>A13566</td>\n",
       "      <td>4273.900000</td>\n",
       "      <td>3</td>\n",
       "      <td>6</td>\n",
       "      <td>1.679181</td>\n",
       "      <td>Big-Screen-lover</td>\n",
       "    </tr>\n",
       "    <tr>\n",
       "      <th>1</th>\n",
       "      <td>A14219</td>\n",
       "      <td>3642.441950</td>\n",
       "      <td>2</td>\n",
       "      <td>4</td>\n",
       "      <td>2.682023</td>\n",
       "      <td>Sleeping-dog</td>\n",
       "    </tr>\n",
       "    <tr>\n",
       "      <th>2</th>\n",
       "      <td>A15312</td>\n",
       "      <td>3653.884565</td>\n",
       "      <td>2</td>\n",
       "      <td>5</td>\n",
       "      <td>3.208202</td>\n",
       "      <td>Sleeping-dog</td>\n",
       "    </tr>\n",
       "    <tr>\n",
       "      <th>3</th>\n",
       "      <td>A16605</td>\n",
       "      <td>3713.211107</td>\n",
       "      <td>2</td>\n",
       "      <td>6</td>\n",
       "      <td>0.900000</td>\n",
       "      <td>Early-bird</td>\n",
       "    </tr>\n",
       "    <tr>\n",
       "      <th>4</th>\n",
       "      <td>B10634</td>\n",
       "      <td>3391.074215</td>\n",
       "      <td>2</td>\n",
       "      <td>4</td>\n",
       "      <td>2.453656</td>\n",
       "      <td>Sleeping-dog</td>\n",
       "    </tr>\n",
       "    <tr>\n",
       "      <th>...</th>\n",
       "      <td>...</td>\n",
       "      <td>...</td>\n",
       "      <td>...</td>\n",
       "      <td>...</td>\n",
       "      <td>...</td>\n",
       "      <td>...</td>\n",
       "    </tr>\n",
       "    <tr>\n",
       "      <th>145</th>\n",
       "      <td>Z13253</td>\n",
       "      <td>3678.800000</td>\n",
       "      <td>2</td>\n",
       "      <td>5</td>\n",
       "      <td>2.463670</td>\n",
       "      <td>Big-Screen-lover</td>\n",
       "    </tr>\n",
       "    <tr>\n",
       "      <th>146</th>\n",
       "      <td>Z13534</td>\n",
       "      <td>3662.437527</td>\n",
       "      <td>3</td>\n",
       "      <td>6</td>\n",
       "      <td>0.900000</td>\n",
       "      <td>Early-bird</td>\n",
       "    </tr>\n",
       "    <tr>\n",
       "      <th>147</th>\n",
       "      <td>Z16428</td>\n",
       "      <td>3516.500000</td>\n",
       "      <td>2</td>\n",
       "      <td>5</td>\n",
       "      <td>2.371301</td>\n",
       "      <td>Big-Screen-lover</td>\n",
       "    </tr>\n",
       "    <tr>\n",
       "      <th>148</th>\n",
       "      <td>Z16735</td>\n",
       "      <td>3300.100000</td>\n",
       "      <td>2</td>\n",
       "      <td>5</td>\n",
       "      <td>1.704942</td>\n",
       "      <td>Big-Screen-lover</td>\n",
       "    </tr>\n",
       "    <tr>\n",
       "      <th>149</th>\n",
       "      <td>Z19835</td>\n",
       "      <td>3326.526183</td>\n",
       "      <td>2</td>\n",
       "      <td>6</td>\n",
       "      <td>1.200000</td>\n",
       "      <td>Early-bird</td>\n",
       "    </tr>\n",
       "  </tbody>\n",
       "</table>\n",
       "<p>150 rows × 6 columns</p>\n",
       "</div>"
      ],
      "text/plain": [
       "     CUSTID     AVGPRICE  EMI  DEVICECOUNT  PRODUCTAGE          CUSTTYPE\n",
       "0    A13566  4273.900000    3            6    1.679181  Big-Screen-lover\n",
       "1    A14219  3642.441950    2            4    2.682023      Sleeping-dog\n",
       "2    A15312  3653.884565    2            5    3.208202      Sleeping-dog\n",
       "3    A16605  3713.211107    2            6    0.900000        Early-bird\n",
       "4    B10634  3391.074215    2            4    2.453656      Sleeping-dog\n",
       "..      ...          ...  ...          ...         ...               ...\n",
       "145  Z13253  3678.800000    2            5    2.463670  Big-Screen-lover\n",
       "146  Z13534  3662.437527    3            6    0.900000        Early-bird\n",
       "147  Z16428  3516.500000    2            5    2.371301  Big-Screen-lover\n",
       "148  Z16735  3300.100000    2            5    1.704942  Big-Screen-lover\n",
       "149  Z19835  3326.526183    2            6    1.200000        Early-bird\n",
       "\n",
       "[150 rows x 6 columns]"
      ]
     },
     "execution_count": 2,
     "metadata": {},
     "output_type": "execute_result"
    }
   ],
   "source": [
    "csData = pd.read_csv(\"../dataset/customerdata.csv\", encoding=\"ms949\")\n",
    "csData"
   ]
  },
  {
   "cell_type": "code",
   "execution_count": 39,
   "metadata": {},
   "outputs": [
    {
     "name": "stdout",
     "output_type": "stream",
     "text": [
      "<class 'pandas.core.frame.DataFrame'>\n",
      "RangeIndex: 150 entries, 0 to 149\n",
      "Data columns (total 6 columns):\n",
      " #   Column       Non-Null Count  Dtype  \n",
      "---  ------       --------------  -----  \n",
      " 0   CUSTID       150 non-null    object \n",
      " 1   AVGPRICE     150 non-null    float64\n",
      " 2   EMI          150 non-null    int64  \n",
      " 3   DEVICECOUNT  150 non-null    int64  \n",
      " 4   PRODUCTAGE   150 non-null    float64\n",
      " 5   CUSTTYPE     150 non-null    object \n",
      "dtypes: float64(2), int64(2), object(2)\n",
      "memory usage: 7.2+ KB\n"
     ]
    }
   ],
   "source": [
    "# 데이터프레임 요약\n",
    "csData.info()"
   ]
  },
  {
   "cell_type": "code",
   "execution_count": 5,
   "metadata": {},
   "outputs": [
    {
     "data": {
      "text/plain": [
       "<bound method DataFrame.to_markdown of      CUSTID     AVGPRICE  EMI  DEVICECOUNT  PRODUCTAGE          CUSTTYPE\n",
       "0    A13566  4273.900000    3            6    1.679181  Big-Screen-lover\n",
       "1    A14219  3642.441950    2            4    2.682023      Sleeping-dog\n",
       "2    A15312  3653.884565    2            5    3.208202      Sleeping-dog\n",
       "3    A16605  3713.211107    2            6    0.900000        Early-bird\n",
       "4    B10634  3391.074215    2            4    2.453656      Sleeping-dog\n",
       "..      ...          ...  ...          ...         ...               ...\n",
       "145  Z13253  3678.800000    2            5    2.463670  Big-Screen-lover\n",
       "146  Z13534  3662.437527    3            6    0.900000        Early-bird\n",
       "147  Z16428  3516.500000    2            5    2.371301  Big-Screen-lover\n",
       "148  Z16735  3300.100000    2            5    1.704942  Big-Screen-lover\n",
       "149  Z19835  3326.526183    2            6    1.200000        Early-bird\n",
       "\n",
       "[150 rows x 6 columns]>"
      ]
     },
     "execution_count": 5,
     "metadata": {},
     "output_type": "execute_result"
    }
   ],
   "source": [
    "csData.to_markdown"
   ]
  },
  {
   "cell_type": "code",
   "execution_count": 6,
   "metadata": {},
   "outputs": [
    {
     "data": {
      "text/html": [
       "<div>\n",
       "<style scoped>\n",
       "    .dataframe tbody tr th:only-of-type {\n",
       "        vertical-align: middle;\n",
       "    }\n",
       "\n",
       "    .dataframe tbody tr th {\n",
       "        vertical-align: top;\n",
       "    }\n",
       "\n",
       "    .dataframe thead th {\n",
       "        text-align: right;\n",
       "    }\n",
       "</style>\n",
       "<table border=\"1\" class=\"dataframe\">\n",
       "  <thead>\n",
       "    <tr style=\"text-align: right;\">\n",
       "      <th></th>\n",
       "      <th>CUSTID</th>\n",
       "      <th>AVGPRICE</th>\n",
       "      <th>EMI</th>\n",
       "      <th>DEVICECOUNT</th>\n",
       "      <th>PRODUCTAGE</th>\n",
       "      <th>CUSTTYPE</th>\n",
       "    </tr>\n",
       "  </thead>\n",
       "  <tbody>\n",
       "    <tr>\n",
       "      <th>0</th>\n",
       "      <td>A13566</td>\n",
       "      <td>4273.900000</td>\n",
       "      <td>3</td>\n",
       "      <td>6</td>\n",
       "      <td>1.679181</td>\n",
       "      <td>Big-Screen-lover</td>\n",
       "    </tr>\n",
       "    <tr>\n",
       "      <th>1</th>\n",
       "      <td>A14219</td>\n",
       "      <td>3642.441950</td>\n",
       "      <td>2</td>\n",
       "      <td>4</td>\n",
       "      <td>2.682023</td>\n",
       "      <td>Sleeping-dog</td>\n",
       "    </tr>\n",
       "    <tr>\n",
       "      <th>2</th>\n",
       "      <td>A15312</td>\n",
       "      <td>3653.884565</td>\n",
       "      <td>2</td>\n",
       "      <td>5</td>\n",
       "      <td>3.208202</td>\n",
       "      <td>Sleeping-dog</td>\n",
       "    </tr>\n",
       "  </tbody>\n",
       "</table>\n",
       "</div>"
      ],
      "text/plain": [
       "   CUSTID     AVGPRICE  EMI  DEVICECOUNT  PRODUCTAGE          CUSTTYPE\n",
       "0  A13566  4273.900000    3            6    1.679181  Big-Screen-lover\n",
       "1  A14219  3642.441950    2            4    2.682023      Sleeping-dog\n",
       "2  A15312  3653.884565    2            5    3.208202      Sleeping-dog"
      ]
     },
     "execution_count": 6,
     "metadata": {},
     "output_type": "execute_result"
    }
   ],
   "source": [
    "csData.head(3)"
   ]
  },
  {
   "cell_type": "markdown",
   "metadata": {},
   "source": [
    "## 리스트에서 데이터프레임 생성"
   ]
  },
  {
   "cell_type": "code",
   "execution_count": 32,
   "metadata": {},
   "outputs": [],
   "source": [
    "productList = \\\n",
    "    [\"aproduct\", \"bproduct\", \"cproduct\", \"dproduct\"]"
   ]
  },
  {
   "cell_type": "code",
   "execution_count": 33,
   "metadata": {},
   "outputs": [],
   "source": [
    "priceList = [1000, 2000, 3000, 4000]"
   ]
  },
  {
   "cell_type": "code",
   "execution_count": 34,
   "metadata": {},
   "outputs": [
    {
     "data": {
      "text/html": [
       "<div>\n",
       "<style scoped>\n",
       "    .dataframe tbody tr th:only-of-type {\n",
       "        vertical-align: middle;\n",
       "    }\n",
       "\n",
       "    .dataframe tbody tr th {\n",
       "        vertical-align: top;\n",
       "    }\n",
       "\n",
       "    .dataframe thead th {\n",
       "        text-align: right;\n",
       "    }\n",
       "</style>\n",
       "<table border=\"1\" class=\"dataframe\">\n",
       "  <thead>\n",
       "    <tr style=\"text-align: right;\">\n",
       "      <th></th>\n",
       "      <th>0</th>\n",
       "    </tr>\n",
       "  </thead>\n",
       "  <tbody>\n",
       "    <tr>\n",
       "      <th>0</th>\n",
       "      <td>aproduct</td>\n",
       "    </tr>\n",
       "    <tr>\n",
       "      <th>1</th>\n",
       "      <td>bproduct</td>\n",
       "    </tr>\n",
       "    <tr>\n",
       "      <th>2</th>\n",
       "      <td>cproduct</td>\n",
       "    </tr>\n",
       "    <tr>\n",
       "      <th>3</th>\n",
       "      <td>dproduct</td>\n",
       "    </tr>\n",
       "  </tbody>\n",
       "</table>\n",
       "</div>"
      ],
      "text/plain": [
       "          0\n",
       "0  aproduct\n",
       "1  bproduct\n",
       "2  cproduct\n",
       "3  dproduct"
      ]
     },
     "execution_count": 34,
     "metadata": {},
     "output_type": "execute_result"
    }
   ],
   "source": [
    "pd.DataFrame(productList)"
   ]
  },
  {
   "cell_type": "code",
   "execution_count": 35,
   "metadata": {},
   "outputs": [
    {
     "data": {
      "text/html": [
       "<div>\n",
       "<style scoped>\n",
       "    .dataframe tbody tr th:only-of-type {\n",
       "        vertical-align: middle;\n",
       "    }\n",
       "\n",
       "    .dataframe tbody tr th {\n",
       "        vertical-align: top;\n",
       "    }\n",
       "\n",
       "    .dataframe thead th {\n",
       "        text-align: right;\n",
       "    }\n",
       "</style>\n",
       "<table border=\"1\" class=\"dataframe\">\n",
       "  <thead>\n",
       "    <tr style=\"text-align: right;\">\n",
       "      <th></th>\n",
       "      <th>0</th>\n",
       "    </tr>\n",
       "  </thead>\n",
       "  <tbody>\n",
       "    <tr>\n",
       "      <th>0</th>\n",
       "      <td>1000</td>\n",
       "    </tr>\n",
       "    <tr>\n",
       "      <th>1</th>\n",
       "      <td>2000</td>\n",
       "    </tr>\n",
       "    <tr>\n",
       "      <th>2</th>\n",
       "      <td>3000</td>\n",
       "    </tr>\n",
       "    <tr>\n",
       "      <th>3</th>\n",
       "      <td>4000</td>\n",
       "    </tr>\n",
       "  </tbody>\n",
       "</table>\n",
       "</div>"
      ],
      "text/plain": [
       "      0\n",
       "0  1000\n",
       "1  2000\n",
       "2  3000\n",
       "3  4000"
      ]
     },
     "execution_count": 35,
     "metadata": {},
     "output_type": "execute_result"
    }
   ],
   "source": [
    "pd.DataFrame(priceList)"
   ]
  },
  {
   "cell_type": "code",
   "execution_count": 36,
   "metadata": {},
   "outputs": [],
   "source": [
    "zipList = zip (productList, priceList)"
   ]
  },
  {
   "cell_type": "code",
   "execution_count": 37,
   "metadata": {},
   "outputs": [],
   "source": [
    "productInfoDf = \\\n",
    "    pd.DataFrame(zipList, columns = [\"productname\", \"price\"])"
   ]
  },
  {
   "cell_type": "code",
   "execution_count": 38,
   "metadata": {},
   "outputs": [
    {
     "data": {
      "text/html": [
       "<div>\n",
       "<style scoped>\n",
       "    .dataframe tbody tr th:only-of-type {\n",
       "        vertical-align: middle;\n",
       "    }\n",
       "\n",
       "    .dataframe tbody tr th {\n",
       "        vertical-align: top;\n",
       "    }\n",
       "\n",
       "    .dataframe thead th {\n",
       "        text-align: right;\n",
       "    }\n",
       "</style>\n",
       "<table border=\"1\" class=\"dataframe\">\n",
       "  <thead>\n",
       "    <tr style=\"text-align: right;\">\n",
       "      <th></th>\n",
       "      <th>productname</th>\n",
       "      <th>price</th>\n",
       "    </tr>\n",
       "  </thead>\n",
       "  <tbody>\n",
       "    <tr>\n",
       "      <th>0</th>\n",
       "      <td>aproduct</td>\n",
       "      <td>1000</td>\n",
       "    </tr>\n",
       "    <tr>\n",
       "      <th>1</th>\n",
       "      <td>bproduct</td>\n",
       "      <td>2000</td>\n",
       "    </tr>\n",
       "    <tr>\n",
       "      <th>2</th>\n",
       "      <td>cproduct</td>\n",
       "      <td>3000</td>\n",
       "    </tr>\n",
       "    <tr>\n",
       "      <th>3</th>\n",
       "      <td>dproduct</td>\n",
       "      <td>4000</td>\n",
       "    </tr>\n",
       "  </tbody>\n",
       "</table>\n",
       "</div>"
      ],
      "text/plain": [
       "  productname  price\n",
       "0    aproduct   1000\n",
       "1    bproduct   2000\n",
       "2    cproduct   3000\n",
       "3    dproduct   4000"
      ]
     },
     "execution_count": 38,
     "metadata": {},
     "output_type": "execute_result"
    }
   ],
   "source": [
    "productInfoDf"
   ]
  },
  {
   "cell_type": "code",
   "execution_count": 43,
   "metadata": {},
   "outputs": [
    {
     "data": {
      "text/plain": [
       "productname    object\n",
       "price           int64\n",
       "dtype: object"
      ]
     },
     "execution_count": 43,
     "metadata": {},
     "output_type": "execute_result"
    }
   ],
   "source": [
    "# 데이터프레임 기본정보 확인\n",
    "productInfoDf.dtypes"
   ]
  },
  {
   "cell_type": "code",
   "execution_count": 55,
   "metadata": {},
   "outputs": [],
   "source": [
    "# 걍 EMI라 하면 안됨. 데이터명을 써줘야 함! (csData.EMI 이렇게!)\n",
    "csDataEmi3 = csData.loc[ csData.EMI >= 3]\n",
    "# csDataEmi3 = csData.loc[ csData.EMI >= \"3\"] 으로 하면 에러. dtypes로 보면 EMI가 int여서. \n",
    "# 먼저 모든 데이터를 문자로 바꾸고, 숫자계산시만 숫자로 바꿔서 하는 것도 방법. (교수님 삼성에서 이렇게 함)"
   ]
  },
  {
   "cell_type": "code",
   "execution_count": 53,
   "metadata": {},
   "outputs": [],
   "source": [
    "# 복수조건을 쓸 떄는 괄호를 친다!\n",
    "csData2 = csData.loc[ (csData.EMI >= 3) &\n",
    "                      (csData.AVGPRICE > 3500)]"
   ]
  },
  {
   "cell_type": "code",
   "execution_count": 47,
   "metadata": {},
   "outputs": [
    {
     "data": {
      "text/plain": [
       "(150, 6)"
      ]
     },
     "execution_count": 47,
     "metadata": {},
     "output_type": "execute_result"
    }
   ],
   "source": [
    "# 행이 150개, 열이 6개 / 교수님은 shape을 많이 씀\n",
    "csData.shape"
   ]
  },
  {
   "cell_type": "code",
   "execution_count": 48,
   "metadata": {},
   "outputs": [
    {
     "data": {
      "text/plain": [
       "(19, 6)"
      ]
     },
     "execution_count": 48,
     "metadata": {},
     "output_type": "execute_result"
    }
   ],
   "source": [
    "csDataEmi3.shape"
   ]
  },
  {
   "cell_type": "code",
   "execution_count": 56,
   "metadata": {},
   "outputs": [
    {
     "data": {
      "text/plain": [
       "(11, 6)"
      ]
     },
     "execution_count": 56,
     "metadata": {},
     "output_type": "execute_result"
    }
   ],
   "source": [
    "csData2.shape"
   ]
  },
  {
   "cell_type": "code",
   "execution_count": 52,
   "metadata": {},
   "outputs": [
    {
     "data": {
      "text/html": [
       "<div>\n",
       "<style scoped>\n",
       "    .dataframe tbody tr th:only-of-type {\n",
       "        vertical-align: middle;\n",
       "    }\n",
       "\n",
       "    .dataframe tbody tr th {\n",
       "        vertical-align: top;\n",
       "    }\n",
       "\n",
       "    .dataframe thead th {\n",
       "        text-align: right;\n",
       "    }\n",
       "</style>\n",
       "<table border=\"1\" class=\"dataframe\">\n",
       "  <thead>\n",
       "    <tr style=\"text-align: right;\">\n",
       "      <th></th>\n",
       "      <th>CUSTID</th>\n",
       "      <th>AVGPRICE</th>\n",
       "      <th>EMI</th>\n",
       "      <th>DEVICECOUNT</th>\n",
       "      <th>PRODUCTAGE</th>\n",
       "      <th>CUSTTYPE</th>\n",
       "    </tr>\n",
       "  </thead>\n",
       "  <tbody>\n",
       "    <tr>\n",
       "      <th>0</th>\n",
       "      <td>A13566</td>\n",
       "      <td>4273.900000</td>\n",
       "      <td>3</td>\n",
       "      <td>6</td>\n",
       "      <td>1.679181</td>\n",
       "      <td>Big-Screen-lover</td>\n",
       "    </tr>\n",
       "    <tr>\n",
       "      <th>1</th>\n",
       "      <td>A14219</td>\n",
       "      <td>3642.441950</td>\n",
       "      <td>2</td>\n",
       "      <td>4</td>\n",
       "      <td>2.682023</td>\n",
       "      <td>Sleeping-dog</td>\n",
       "    </tr>\n",
       "    <tr>\n",
       "      <th>2</th>\n",
       "      <td>A15312</td>\n",
       "      <td>3653.884565</td>\n",
       "      <td>2</td>\n",
       "      <td>5</td>\n",
       "      <td>3.208202</td>\n",
       "      <td>Sleeping-dog</td>\n",
       "    </tr>\n",
       "    <tr>\n",
       "      <th>3</th>\n",
       "      <td>A16605</td>\n",
       "      <td>3713.211107</td>\n",
       "      <td>2</td>\n",
       "      <td>6</td>\n",
       "      <td>0.900000</td>\n",
       "      <td>Early-bird</td>\n",
       "    </tr>\n",
       "  </tbody>\n",
       "</table>\n",
       "</div>"
      ],
      "text/plain": [
       "   CUSTID     AVGPRICE  EMI  DEVICECOUNT  PRODUCTAGE          CUSTTYPE\n",
       "0  A13566  4273.900000    3            6    1.679181  Big-Screen-lover\n",
       "1  A14219  3642.441950    2            4    2.682023      Sleeping-dog\n",
       "2  A15312  3653.884565    2            5    3.208202      Sleeping-dog\n",
       "3  A16605  3713.211107    2            6    0.900000        Early-bird"
      ]
     },
     "execution_count": 52,
     "metadata": {},
     "output_type": "execute_result"
    }
   ],
   "source": [
    "# .loc은 인덱스와 다르게 0부터 3까지 다 나옴!\n",
    "csDataEmi3 = csData.loc[0:3]\n",
    "csDataEmi3"
   ]
  },
  {
   "cell_type": "code",
   "execution_count": 54,
   "metadata": {},
   "outputs": [
    {
     "data": {
      "text/html": [
       "<div>\n",
       "<style scoped>\n",
       "    .dataframe tbody tr th:only-of-type {\n",
       "        vertical-align: middle;\n",
       "    }\n",
       "\n",
       "    .dataframe tbody tr th {\n",
       "        vertical-align: top;\n",
       "    }\n",
       "\n",
       "    .dataframe thead th {\n",
       "        text-align: right;\n",
       "    }\n",
       "</style>\n",
       "<table border=\"1\" class=\"dataframe\">\n",
       "  <thead>\n",
       "    <tr style=\"text-align: right;\">\n",
       "      <th></th>\n",
       "      <th>CUSTID</th>\n",
       "      <th>AVGPRICE</th>\n",
       "      <th>EMI</th>\n",
       "      <th>DEVICECOUNT</th>\n",
       "      <th>PRODUCTAGE</th>\n",
       "      <th>CUSTTYPE</th>\n",
       "    </tr>\n",
       "  </thead>\n",
       "  <tbody>\n",
       "  </tbody>\n",
       "</table>\n",
       "</div>"
      ],
      "text/plain": [
       "Empty DataFrame\n",
       "Columns: [CUSTID, AVGPRICE, EMI, DEVICECOUNT, PRODUCTAGE, CUSTTYPE]\n",
       "Index: []"
      ]
     },
     "execution_count": 54,
     "metadata": {},
     "output_type": "execute_result"
    }
   ],
   "source": [
    "# 로직이 제대로 반영이 되었나 검증 필!!\n",
    "csData2.loc[csData2.AVGPRICE <= 3500]"
   ]
  },
  {
   "cell_type": "code",
   "execution_count": 57,
   "metadata": {},
   "outputs": [],
   "source": [
    "seekId = \"a13566\""
   ]
  },
  {
   "cell_type": "code",
   "execution_count": 58,
   "metadata": {},
   "outputs": [
    {
     "data": {
      "text/html": [
       "<div>\n",
       "<style scoped>\n",
       "    .dataframe tbody tr th:only-of-type {\n",
       "        vertical-align: middle;\n",
       "    }\n",
       "\n",
       "    .dataframe tbody tr th {\n",
       "        vertical-align: top;\n",
       "    }\n",
       "\n",
       "    .dataframe thead th {\n",
       "        text-align: right;\n",
       "    }\n",
       "</style>\n",
       "<table border=\"1\" class=\"dataframe\">\n",
       "  <thead>\n",
       "    <tr style=\"text-align: right;\">\n",
       "      <th></th>\n",
       "      <th>CUSTID</th>\n",
       "      <th>AVGPRICE</th>\n",
       "      <th>EMI</th>\n",
       "      <th>DEVICECOUNT</th>\n",
       "      <th>PRODUCTAGE</th>\n",
       "      <th>CUSTTYPE</th>\n",
       "    </tr>\n",
       "  </thead>\n",
       "  <tbody>\n",
       "    <tr>\n",
       "      <th>0</th>\n",
       "      <td>A13566</td>\n",
       "      <td>4273.9</td>\n",
       "      <td>3</td>\n",
       "      <td>6</td>\n",
       "      <td>1.679181</td>\n",
       "      <td>Big-Screen-lover</td>\n",
       "    </tr>\n",
       "  </tbody>\n",
       "</table>\n",
       "</div>"
      ],
      "text/plain": [
       "   CUSTID  AVGPRICE  EMI  DEVICECOUNT  PRODUCTAGE          CUSTTYPE\n",
       "0  A13566    4273.9    3            6    1.679181  Big-Screen-lover"
      ]
     },
     "execution_count": 58,
     "metadata": {},
     "output_type": "execute_result"
    }
   ],
   "source": [
    "csData.loc [ csData.CUSTID.str.upper() == seekId.upper()] "
   ]
  },
  {
   "cell_type": "code",
   "execution_count": 59,
   "metadata": {},
   "outputs": [],
   "source": [
    "customerData = csData"
   ]
  },
  {
   "cell_type": "code",
   "execution_count": 62,
   "metadata": {},
   "outputs": [],
   "source": [
    "# EMI 컬럼을 STR으로 변환해라 -> EMI 컬럼에 다시대입!\n",
    "customerData.EMI= customerData.EMI.astype(str)"
   ]
  },
  {
   "cell_type": "code",
   "execution_count": 64,
   "metadata": {},
   "outputs": [],
   "source": [
    "customerData[\"EMI\"] = customerData[\"EMI\"].astype(int)"
   ]
  },
  {
   "cell_type": "code",
   "execution_count": 66,
   "metadata": {},
   "outputs": [
    {
     "name": "stderr",
     "output_type": "stream",
     "text": [
      "<ipython-input-66-fddd52f30523>:1: UserWarning: Pandas doesn't allow columns to be created via a new attribute name - see https://pandas.pydata.org/pandas-docs/stable/indexing.html#attribute-access\n",
      "  customerData.EMI2= customerData.EMI.astype(float)\n"
     ]
    }
   ],
   "source": [
    "# 이건 안됨. EMI2가 존재하지 않으므로\n",
    "customerData.EMI2= customerData.EMI.astype(float)"
   ]
  },
  {
   "cell_type": "code",
   "execution_count": 67,
   "metadata": {},
   "outputs": [],
   "source": [
    "# 이건 됨. EMI2라는 컬럼을 새롭게 만드는 것이므로\n",
    "customerData[\"EMI2\"] = customerData[\"EMI\"].astype(float)"
   ]
  },
  {
   "cell_type": "code",
   "execution_count": 65,
   "metadata": {},
   "outputs": [
    {
     "data": {
      "text/plain": [
       "CUSTID          object\n",
       "AVGPRICE       float64\n",
       "EMI              int32\n",
       "DEVICECOUNT      int64\n",
       "PRODUCTAGE     float64\n",
       "CUSTTYPE        object\n",
       "dtype: object"
      ]
     },
     "execution_count": 65,
     "metadata": {},
     "output_type": "execute_result"
    }
   ],
   "source": [
    "customerData.dtypes"
   ]
  },
  {
   "cell_type": "code",
   "execution_count": 69,
   "metadata": {
    "scrolled": true
   },
   "outputs": [
    {
     "data": {
      "text/html": [
       "<div>\n",
       "<style scoped>\n",
       "    .dataframe tbody tr th:only-of-type {\n",
       "        vertical-align: middle;\n",
       "    }\n",
       "\n",
       "    .dataframe tbody tr th {\n",
       "        vertical-align: top;\n",
       "    }\n",
       "\n",
       "    .dataframe thead th {\n",
       "        text-align: right;\n",
       "    }\n",
       "</style>\n",
       "<table border=\"1\" class=\"dataframe\">\n",
       "  <thead>\n",
       "    <tr style=\"text-align: right;\">\n",
       "      <th></th>\n",
       "      <th>CUSTID</th>\n",
       "      <th>AVGPRICE</th>\n",
       "      <th>EMI</th>\n",
       "      <th>DEVICECOUNT</th>\n",
       "      <th>PRODUCTAGE</th>\n",
       "      <th>CUSTTYPE</th>\n",
       "      <th>EMI2</th>\n",
       "    </tr>\n",
       "  </thead>\n",
       "  <tbody>\n",
       "    <tr>\n",
       "      <th>0</th>\n",
       "      <td>A13566</td>\n",
       "      <td>4273.900000</td>\n",
       "      <td>3</td>\n",
       "      <td>6</td>\n",
       "      <td>1.679181</td>\n",
       "      <td>Big-Screen-lover</td>\n",
       "      <td>3.0</td>\n",
       "    </tr>\n",
       "    <tr>\n",
       "      <th>1</th>\n",
       "      <td>A14219</td>\n",
       "      <td>3642.441950</td>\n",
       "      <td>2</td>\n",
       "      <td>4</td>\n",
       "      <td>2.682023</td>\n",
       "      <td>Sleeping-dog</td>\n",
       "      <td>2.0</td>\n",
       "    </tr>\n",
       "    <tr>\n",
       "      <th>2</th>\n",
       "      <td>A15312</td>\n",
       "      <td>3653.884565</td>\n",
       "      <td>2</td>\n",
       "      <td>5</td>\n",
       "      <td>3.208202</td>\n",
       "      <td>Sleeping-dog</td>\n",
       "      <td>2.0</td>\n",
       "    </tr>\n",
       "    <tr>\n",
       "      <th>3</th>\n",
       "      <td>A16605</td>\n",
       "      <td>3713.211107</td>\n",
       "      <td>2</td>\n",
       "      <td>6</td>\n",
       "      <td>0.900000</td>\n",
       "      <td>Early-bird</td>\n",
       "      <td>2.0</td>\n",
       "    </tr>\n",
       "    <tr>\n",
       "      <th>4</th>\n",
       "      <td>B10634</td>\n",
       "      <td>3391.074215</td>\n",
       "      <td>2</td>\n",
       "      <td>4</td>\n",
       "      <td>2.453656</td>\n",
       "      <td>Sleeping-dog</td>\n",
       "      <td>2.0</td>\n",
       "    </tr>\n",
       "  </tbody>\n",
       "</table>\n",
       "</div>"
      ],
      "text/plain": [
       "   CUSTID     AVGPRICE  EMI  DEVICECOUNT  PRODUCTAGE          CUSTTYPE  EMI2\n",
       "0  A13566  4273.900000    3            6    1.679181  Big-Screen-lover   3.0\n",
       "1  A14219  3642.441950    2            4    2.682023      Sleeping-dog   2.0\n",
       "2  A15312  3653.884565    2            5    3.208202      Sleeping-dog   2.0\n",
       "3  A16605  3713.211107    2            6    0.900000        Early-bird   2.0\n",
       "4  B10634  3391.074215    2            4    2.453656      Sleeping-dog   2.0"
      ]
     },
     "execution_count": 69,
     "metadata": {},
     "output_type": "execute_result"
    }
   ],
   "source": [
    "customerData.head()"
   ]
  },
  {
   "cell_type": "code",
   "execution_count": 73,
   "metadata": {},
   "outputs": [],
   "source": [
    "csDataTypeStr = customerData.astype( { \"CUSTID\":str,\n",
    "                       \"AVGPRICE\":str,\n",
    "                       \"EMI\":str,\n",
    "                       \"DEVICECOUNT\":str,\n",
    "                       \"PRODUCTAGE\":str,\n",
    "                       \"CUSTTYPE\":str,\n",
    "                       \"EMI2\":str } )"
   ]
  },
  {
   "cell_type": "code",
   "execution_count": 74,
   "metadata": {},
   "outputs": [
    {
     "data": {
      "text/plain": [
       "CUSTID         object\n",
       "AVGPRICE       object\n",
       "EMI            object\n",
       "DEVICECOUNT    object\n",
       "PRODUCTAGE     object\n",
       "CUSTTYPE       object\n",
       "EMI2           object\n",
       "dtype: object"
      ]
     },
     "execution_count": 74,
     "metadata": {},
     "output_type": "execute_result"
    }
   ],
   "source": [
    "csDataTypeStr.dtypes"
   ]
  },
  {
   "cell_type": "code",
   "execution_count": 76,
   "metadata": {},
   "outputs": [],
   "source": [
    "emiCondition = \"3\"\n",
    "priceCondition = \"3500\""
   ]
  },
  {
   "cell_type": "code",
   "execution_count": 82,
   "metadata": {},
   "outputs": [],
   "source": [
    "csData2 = csData.loc [ (csData.EMI.astype(int) >= int(emiCondition)) &\n",
    "                       (csData.AVGPRICE.astype(int) > int (priceCondition)) ]"
   ]
  },
  {
   "cell_type": "code",
   "execution_count": 83,
   "metadata": {},
   "outputs": [
    {
     "data": {
      "text/plain": [
       "CUSTID          object\n",
       "AVGPRICE       float64\n",
       "EMI              int32\n",
       "DEVICECOUNT      int64\n",
       "PRODUCTAGE     float64\n",
       "CUSTTYPE        object\n",
       "EMI2           float64\n",
       "dtype: object"
      ]
     },
     "execution_count": 83,
     "metadata": {},
     "output_type": "execute_result"
    }
   ],
   "source": [
    "csData2.dtypes"
   ]
  },
  {
   "cell_type": "code",
   "execution_count": 105,
   "metadata": {},
   "outputs": [],
   "source": [
    "angryCustomer = \\\n",
    "    pd.DataFrame( list(csData.CUSTID[0:3]),\n",
    "                  columns=[\"CSID\"]) "
   ]
  },
  {
   "cell_type": "code",
   "execution_count": 106,
   "metadata": {},
   "outputs": [
    {
     "data": {
      "text/html": [
       "<div>\n",
       "<style scoped>\n",
       "    .dataframe tbody tr th:only-of-type {\n",
       "        vertical-align: middle;\n",
       "    }\n",
       "\n",
       "    .dataframe tbody tr th {\n",
       "        vertical-align: top;\n",
       "    }\n",
       "\n",
       "    .dataframe thead th {\n",
       "        text-align: right;\n",
       "    }\n",
       "</style>\n",
       "<table border=\"1\" class=\"dataframe\">\n",
       "  <thead>\n",
       "    <tr style=\"text-align: right;\">\n",
       "      <th></th>\n",
       "      <th>CSID</th>\n",
       "    </tr>\n",
       "  </thead>\n",
       "  <tbody>\n",
       "    <tr>\n",
       "      <th>0</th>\n",
       "      <td>A13566</td>\n",
       "    </tr>\n",
       "    <tr>\n",
       "      <th>1</th>\n",
       "      <td>A14219</td>\n",
       "    </tr>\n",
       "    <tr>\n",
       "      <th>2</th>\n",
       "      <td>A15312</td>\n",
       "    </tr>\n",
       "  </tbody>\n",
       "</table>\n",
       "</div>"
      ],
      "text/plain": [
       "     CSID\n",
       "0  A13566\n",
       "1  A14219\n",
       "2  A15312"
      ]
     },
     "execution_count": 106,
     "metadata": {},
     "output_type": "execute_result"
    }
   ],
   "source": [
    "angryCustomer"
   ]
  },
  {
   "cell_type": "code",
   "execution_count": 87,
   "metadata": {},
   "outputs": [],
   "source": [
    "angryList = list(angryCustomer.CSID)"
   ]
  },
  {
   "cell_type": "code",
   "execution_count": 91,
   "metadata": {},
   "outputs": [
    {
     "data": {
      "text/plain": [
       "(3, 7)"
      ]
     },
     "execution_count": 91,
     "metadata": {},
     "output_type": "execute_result"
    }
   ],
   "source": [
    "csData.loc[ csData.CUSTID.isin(angryList)].shape"
   ]
  },
  {
   "cell_type": "code",
   "execution_count": 92,
   "metadata": {},
   "outputs": [
    {
     "data": {
      "text/plain": [
       "(147, 7)"
      ]
     },
     "execution_count": 92,
     "metadata": {},
     "output_type": "execute_result"
    }
   ],
   "source": [
    "csData.loc[ ~csData.CUSTID.isin(angryList)].shape"
   ]
  },
  {
   "cell_type": "code",
   "execution_count": 93,
   "metadata": {},
   "outputs": [
    {
     "data": {
      "text/html": [
       "<div>\n",
       "<style scoped>\n",
       "    .dataframe tbody tr th:only-of-type {\n",
       "        vertical-align: middle;\n",
       "    }\n",
       "\n",
       "    .dataframe tbody tr th {\n",
       "        vertical-align: top;\n",
       "    }\n",
       "\n",
       "    .dataframe thead th {\n",
       "        text-align: right;\n",
       "    }\n",
       "</style>\n",
       "<table border=\"1\" class=\"dataframe\">\n",
       "  <thead>\n",
       "    <tr style=\"text-align: right;\">\n",
       "      <th></th>\n",
       "      <th>CUSTID</th>\n",
       "      <th>AVGPRICE</th>\n",
       "      <th>EMI</th>\n",
       "      <th>DEVICECOUNT</th>\n",
       "      <th>PRODUCTAGE</th>\n",
       "      <th>CUSTTYPE</th>\n",
       "      <th>EMI2</th>\n",
       "    </tr>\n",
       "  </thead>\n",
       "  <tbody>\n",
       "    <tr>\n",
       "      <th>0</th>\n",
       "      <td>A13566</td>\n",
       "      <td>4273.900000</td>\n",
       "      <td>3</td>\n",
       "      <td>6</td>\n",
       "      <td>1.679181</td>\n",
       "      <td>Big-Screen-lover</td>\n",
       "      <td>3.0</td>\n",
       "    </tr>\n",
       "    <tr>\n",
       "      <th>1</th>\n",
       "      <td>A14219</td>\n",
       "      <td>3642.441950</td>\n",
       "      <td>2</td>\n",
       "      <td>4</td>\n",
       "      <td>2.682023</td>\n",
       "      <td>Sleeping-dog</td>\n",
       "      <td>2.0</td>\n",
       "    </tr>\n",
       "    <tr>\n",
       "      <th>2</th>\n",
       "      <td>A15312</td>\n",
       "      <td>3653.884565</td>\n",
       "      <td>2</td>\n",
       "      <td>5</td>\n",
       "      <td>3.208202</td>\n",
       "      <td>Sleeping-dog</td>\n",
       "      <td>2.0</td>\n",
       "    </tr>\n",
       "    <tr>\n",
       "      <th>3</th>\n",
       "      <td>A16605</td>\n",
       "      <td>3713.211107</td>\n",
       "      <td>2</td>\n",
       "      <td>6</td>\n",
       "      <td>0.900000</td>\n",
       "      <td>Early-bird</td>\n",
       "      <td>2.0</td>\n",
       "    </tr>\n",
       "    <tr>\n",
       "      <th>4</th>\n",
       "      <td>B10634</td>\n",
       "      <td>3391.074215</td>\n",
       "      <td>2</td>\n",
       "      <td>4</td>\n",
       "      <td>2.453656</td>\n",
       "      <td>Sleeping-dog</td>\n",
       "      <td>2.0</td>\n",
       "    </tr>\n",
       "    <tr>\n",
       "      <th>...</th>\n",
       "      <td>...</td>\n",
       "      <td>...</td>\n",
       "      <td>...</td>\n",
       "      <td>...</td>\n",
       "      <td>...</td>\n",
       "      <td>...</td>\n",
       "      <td>...</td>\n",
       "    </tr>\n",
       "    <tr>\n",
       "      <th>145</th>\n",
       "      <td>Z13253</td>\n",
       "      <td>3678.800000</td>\n",
       "      <td>2</td>\n",
       "      <td>5</td>\n",
       "      <td>2.463670</td>\n",
       "      <td>Big-Screen-lover</td>\n",
       "      <td>2.0</td>\n",
       "    </tr>\n",
       "    <tr>\n",
       "      <th>146</th>\n",
       "      <td>Z13534</td>\n",
       "      <td>3662.437527</td>\n",
       "      <td>3</td>\n",
       "      <td>6</td>\n",
       "      <td>0.900000</td>\n",
       "      <td>Early-bird</td>\n",
       "      <td>3.0</td>\n",
       "    </tr>\n",
       "    <tr>\n",
       "      <th>147</th>\n",
       "      <td>Z16428</td>\n",
       "      <td>3516.500000</td>\n",
       "      <td>2</td>\n",
       "      <td>5</td>\n",
       "      <td>2.371301</td>\n",
       "      <td>Big-Screen-lover</td>\n",
       "      <td>2.0</td>\n",
       "    </tr>\n",
       "    <tr>\n",
       "      <th>148</th>\n",
       "      <td>Z16735</td>\n",
       "      <td>3300.100000</td>\n",
       "      <td>2</td>\n",
       "      <td>5</td>\n",
       "      <td>1.704942</td>\n",
       "      <td>Big-Screen-lover</td>\n",
       "      <td>2.0</td>\n",
       "    </tr>\n",
       "    <tr>\n",
       "      <th>149</th>\n",
       "      <td>Z19835</td>\n",
       "      <td>3326.526183</td>\n",
       "      <td>2</td>\n",
       "      <td>6</td>\n",
       "      <td>1.200000</td>\n",
       "      <td>Early-bird</td>\n",
       "      <td>2.0</td>\n",
       "    </tr>\n",
       "  </tbody>\n",
       "</table>\n",
       "<p>150 rows × 7 columns</p>\n",
       "</div>"
      ],
      "text/plain": [
       "     CUSTID     AVGPRICE  EMI  DEVICECOUNT  PRODUCTAGE          CUSTTYPE  EMI2\n",
       "0    A13566  4273.900000    3            6    1.679181  Big-Screen-lover   3.0\n",
       "1    A14219  3642.441950    2            4    2.682023      Sleeping-dog   2.0\n",
       "2    A15312  3653.884565    2            5    3.208202      Sleeping-dog   2.0\n",
       "3    A16605  3713.211107    2            6    0.900000        Early-bird   2.0\n",
       "4    B10634  3391.074215    2            4    2.453656      Sleeping-dog   2.0\n",
       "..      ...          ...  ...          ...         ...               ...   ...\n",
       "145  Z13253  3678.800000    2            5    2.463670  Big-Screen-lover   2.0\n",
       "146  Z13534  3662.437527    3            6    0.900000        Early-bird   3.0\n",
       "147  Z16428  3516.500000    2            5    2.371301  Big-Screen-lover   2.0\n",
       "148  Z16735  3300.100000    2            5    1.704942  Big-Screen-lover   2.0\n",
       "149  Z19835  3326.526183    2            6    1.200000        Early-bird   2.0\n",
       "\n",
       "[150 rows x 7 columns]"
      ]
     },
     "execution_count": 93,
     "metadata": {},
     "output_type": "execute_result"
    }
   ],
   "source": [
    "csData"
   ]
  },
  {
   "cell_type": "code",
   "execution_count": 101,
   "metadata": {},
   "outputs": [],
   "source": [
    "custTypeList = [\"Big-Screen-lover\", \"Sleeping-dog\"]"
   ]
  },
  {
   "cell_type": "code",
   "execution_count": 102,
   "metadata": {},
   "outputs": [
    {
     "data": {
      "text/html": [
       "<div>\n",
       "<style scoped>\n",
       "    .dataframe tbody tr th:only-of-type {\n",
       "        vertical-align: middle;\n",
       "    }\n",
       "\n",
       "    .dataframe tbody tr th {\n",
       "        vertical-align: top;\n",
       "    }\n",
       "\n",
       "    .dataframe thead th {\n",
       "        text-align: right;\n",
       "    }\n",
       "</style>\n",
       "<table border=\"1\" class=\"dataframe\">\n",
       "  <thead>\n",
       "    <tr style=\"text-align: right;\">\n",
       "      <th></th>\n",
       "      <th>CUSTID</th>\n",
       "      <th>AVGPRICE</th>\n",
       "      <th>EMI</th>\n",
       "      <th>DEVICECOUNT</th>\n",
       "      <th>PRODUCTAGE</th>\n",
       "      <th>CUSTTYPE</th>\n",
       "      <th>EMI2</th>\n",
       "    </tr>\n",
       "  </thead>\n",
       "  <tbody>\n",
       "    <tr>\n",
       "      <th>0</th>\n",
       "      <td>A13566</td>\n",
       "      <td>4273.900000</td>\n",
       "      <td>3</td>\n",
       "      <td>6</td>\n",
       "      <td>1.679181</td>\n",
       "      <td>Big-Screen-lover</td>\n",
       "      <td>3.0</td>\n",
       "    </tr>\n",
       "    <tr>\n",
       "      <th>1</th>\n",
       "      <td>A14219</td>\n",
       "      <td>3642.441950</td>\n",
       "      <td>2</td>\n",
       "      <td>4</td>\n",
       "      <td>2.682023</td>\n",
       "      <td>Sleeping-dog</td>\n",
       "      <td>2.0</td>\n",
       "    </tr>\n",
       "    <tr>\n",
       "      <th>2</th>\n",
       "      <td>A15312</td>\n",
       "      <td>3653.884565</td>\n",
       "      <td>2</td>\n",
       "      <td>5</td>\n",
       "      <td>3.208202</td>\n",
       "      <td>Sleeping-dog</td>\n",
       "      <td>2.0</td>\n",
       "    </tr>\n",
       "    <tr>\n",
       "      <th>4</th>\n",
       "      <td>B10634</td>\n",
       "      <td>3391.074215</td>\n",
       "      <td>2</td>\n",
       "      <td>4</td>\n",
       "      <td>2.453656</td>\n",
       "      <td>Sleeping-dog</td>\n",
       "      <td>2.0</td>\n",
       "    </tr>\n",
       "    <tr>\n",
       "      <th>5</th>\n",
       "      <td>B16849</td>\n",
       "      <td>3755.263391</td>\n",
       "      <td>2</td>\n",
       "      <td>4</td>\n",
       "      <td>2.786665</td>\n",
       "      <td>Sleeping-dog</td>\n",
       "      <td>2.0</td>\n",
       "    </tr>\n",
       "    <tr>\n",
       "      <th>...</th>\n",
       "      <td>...</td>\n",
       "      <td>...</td>\n",
       "      <td>...</td>\n",
       "      <td>...</td>\n",
       "      <td>...</td>\n",
       "      <td>...</td>\n",
       "      <td>...</td>\n",
       "    </tr>\n",
       "    <tr>\n",
       "      <th>141</th>\n",
       "      <td>Y13678</td>\n",
       "      <td>3408.300000</td>\n",
       "      <td>2</td>\n",
       "      <td>5</td>\n",
       "      <td>2.084005</td>\n",
       "      <td>Big-Screen-lover</td>\n",
       "      <td>2.0</td>\n",
       "    </tr>\n",
       "    <tr>\n",
       "      <th>144</th>\n",
       "      <td>Z12772</td>\n",
       "      <td>3029.600000</td>\n",
       "      <td>2</td>\n",
       "      <td>4</td>\n",
       "      <td>2.093035</td>\n",
       "      <td>Big-Screen-lover</td>\n",
       "      <td>2.0</td>\n",
       "    </tr>\n",
       "    <tr>\n",
       "      <th>145</th>\n",
       "      <td>Z13253</td>\n",
       "      <td>3678.800000</td>\n",
       "      <td>2</td>\n",
       "      <td>5</td>\n",
       "      <td>2.463670</td>\n",
       "      <td>Big-Screen-lover</td>\n",
       "      <td>2.0</td>\n",
       "    </tr>\n",
       "    <tr>\n",
       "      <th>147</th>\n",
       "      <td>Z16428</td>\n",
       "      <td>3516.500000</td>\n",
       "      <td>2</td>\n",
       "      <td>5</td>\n",
       "      <td>2.371301</td>\n",
       "      <td>Big-Screen-lover</td>\n",
       "      <td>2.0</td>\n",
       "    </tr>\n",
       "    <tr>\n",
       "      <th>148</th>\n",
       "      <td>Z16735</td>\n",
       "      <td>3300.100000</td>\n",
       "      <td>2</td>\n",
       "      <td>5</td>\n",
       "      <td>1.704942</td>\n",
       "      <td>Big-Screen-lover</td>\n",
       "      <td>2.0</td>\n",
       "    </tr>\n",
       "  </tbody>\n",
       "</table>\n",
       "<p>100 rows × 7 columns</p>\n",
       "</div>"
      ],
      "text/plain": [
       "     CUSTID     AVGPRICE  EMI  DEVICECOUNT  PRODUCTAGE          CUSTTYPE  EMI2\n",
       "0    A13566  4273.900000    3            6    1.679181  Big-Screen-lover   3.0\n",
       "1    A14219  3642.441950    2            4    2.682023      Sleeping-dog   2.0\n",
       "2    A15312  3653.884565    2            5    3.208202      Sleeping-dog   2.0\n",
       "4    B10634  3391.074215    2            4    2.453656      Sleeping-dog   2.0\n",
       "5    B16849  3755.263391    2            4    2.786665      Sleeping-dog   2.0\n",
       "..      ...          ...  ...          ...         ...               ...   ...\n",
       "141  Y13678  3408.300000    2            5    2.084005  Big-Screen-lover   2.0\n",
       "144  Z12772  3029.600000    2            4    2.093035  Big-Screen-lover   2.0\n",
       "145  Z13253  3678.800000    2            5    2.463670  Big-Screen-lover   2.0\n",
       "147  Z16428  3516.500000    2            5    2.371301  Big-Screen-lover   2.0\n",
       "148  Z16735  3300.100000    2            5    1.704942  Big-Screen-lover   2.0\n",
       "\n",
       "[100 rows x 7 columns]"
      ]
     },
     "execution_count": 102,
     "metadata": {},
     "output_type": "execute_result"
    }
   ],
   "source": [
    "csData.loc[csData.CUSTTYPE.isin(custTypeList)]"
   ]
  },
  {
   "cell_type": "code",
   "execution_count": null,
   "metadata": {},
   "outputs": [],
   "source": []
  }
 ],
 "metadata": {
  "kernelspec": {
   "display_name": "Python 3",
   "language": "python",
   "name": "python3"
  },
  "language_info": {
   "codemirror_mode": {
    "name": "ipython",
    "version": 3
   },
   "file_extension": ".py",
   "mimetype": "text/x-python",
   "name": "python",
   "nbconvert_exporter": "python",
   "pygments_lexer": "ipython3",
   "version": "3.8.5"
  }
 },
 "nbformat": 4,
 "nbformat_minor": 4
}
