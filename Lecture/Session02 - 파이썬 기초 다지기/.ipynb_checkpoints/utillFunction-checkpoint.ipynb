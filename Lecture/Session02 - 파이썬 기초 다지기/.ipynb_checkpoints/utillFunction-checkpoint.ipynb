{
 "cells": [
  {
   "cell_type": "code",
   "execution_count": 2,
   "metadata": {},
   "outputs": [],
   "source": [
    "def roundFunction(inValue):\n",
    "    # 함수를 개발하기위한 디버깅코드\n",
    "    # Step1: 입력받은 데이터를 반올림 자리수만큼 곱해준다.\n",
    "    # inValue = 1.893430903490\n",
    "    step1 = inValue * 100\n",
    "\n",
    "\n",
    "    # Step2: 곱해준결과에 0.5를 더한 후 소수점이하 버림!\n",
    "    step2 = int(step1 + 0.5)\n",
    "\n",
    "    # Step3: 100으로 나누어준다.\n",
    "    step3 = step2 / 100\n",
    "    outValue = step3\n",
    "    \n",
    "    return outValue"
   ]
  },
  {
   "cell_type": "code",
   "execution_count": 3,
   "metadata": {},
   "outputs": [],
   "source": [
    "test1 = 2.598148721\n",
    "test2 = 15.341235125\n",
    "test3 = 12835.23247951"
   ]
  },
  {
   "cell_type": "code",
   "execution_count": 5,
   "metadata": {},
   "outputs": [
    {
     "name": "stdout",
     "output_type": "stream",
     "text": [
      "2.6\n",
      "15.34\n",
      "12835.23\n"
     ]
    }
   ],
   "source": [
    "print(roundFunction(test1))\n",
    "print(roundFunction(test2))\n",
    "print(roundFunction(test3))"
   ]
  },
  {
   "cell_type": "code",
   "execution_count": null,
   "metadata": {},
   "outputs": [],
   "source": []
  }
 ],
 "metadata": {
  "kernelspec": {
   "display_name": "Python 3",
   "language": "python",
   "name": "python3"
  },
  "language_info": {
   "codemirror_mode": {
    "name": "ipython",
    "version": 3
   },
   "file_extension": ".py",
   "mimetype": "text/x-python",
   "name": "python",
   "nbconvert_exporter": "python",
   "pygments_lexer": "ipython3",
   "version": "3.8.5"
  }
 },
 "nbformat": 4,
 "nbformat_minor": 4
}
