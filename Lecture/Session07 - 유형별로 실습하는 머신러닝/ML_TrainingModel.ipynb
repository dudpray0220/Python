{
 "cells": [
  {
   "cell_type": "markdown",
   "metadata": {},
   "source": [
    "### 라이브러리 정의"
   ]
  },
  {
   "cell_type": "code",
   "execution_count": 1,
   "metadata": {},
   "outputs": [],
   "source": [
    "# 데이터 처리 라이브러리\n",
    "import pandas as pd\n",
    "import numpy as np\n",
    "# 분석알고리즘 DecisionTree 구현 라이브러리\n",
    "from sklearn.tree import DecisionTreeRegressor \n",
    "# 과거데이터를 8:2, 7:3 이나 이런식으로 자동으로 나누어주는 라이브러리\n",
    "from sklearn.model_selection import train_test_split"
   ]
  },
  {
   "cell_type": "code",
   "execution_count": 70,
   "metadata": {},
   "outputs": [],
   "source": [
    "# 분석 알고리즘 DecisionTree 구현 라이브러리\n",
    "from sklearn.tree import DecisionTreeRegressor \n",
    "from sklearn.ensemble import RandomForestRegressor\n",
    "from sklearn.linear_model import LinearRegression"
   ]
  },
  {
   "cell_type": "code",
   "execution_count": 71,
   "metadata": {},
   "outputs": [],
   "source": [
    "# 딥러닝에서 많이씀!\n",
    "from sklearn.preprocessing import LabelEncoder\n",
    "\n",
    "# 정확도를 위한 지표들(분석(Regression)의 대표 평가지표 MAE, RMSE)\n",
    "from sklearn.metrics import mean_absolute_error\n",
    "from sklearn.metrics import mean_squared_error"
   ]
  },
  {
   "cell_type": "markdown",
   "metadata": {},
   "source": [
    "### 데이터 불러오기"
   ]
  },
  {
   "cell_type": "code",
   "execution_count": 85,
   "metadata": {},
   "outputs": [
    {
     "data": {
      "text/html": [
       "<div>\n",
       "<style scoped>\n",
       "    .dataframe tbody tr th:only-of-type {\n",
       "        vertical-align: middle;\n",
       "    }\n",
       "\n",
       "    .dataframe tbody tr th {\n",
       "        vertical-align: top;\n",
       "    }\n",
       "\n",
       "    .dataframe thead th {\n",
       "        text-align: right;\n",
       "    }\n",
       "</style>\n",
       "<table border=\"1\" class=\"dataframe\">\n",
       "  <thead>\n",
       "    <tr style=\"text-align: right;\">\n",
       "      <th></th>\n",
       "      <th>REGIONID</th>\n",
       "      <th>PRODUCTGROUP</th>\n",
       "      <th>PRODUCT</th>\n",
       "      <th>ITEM</th>\n",
       "      <th>YEARWEEK</th>\n",
       "      <th>YEAR</th>\n",
       "      <th>WEEK</th>\n",
       "      <th>QTY</th>\n",
       "      <th>HOLIDAY</th>\n",
       "      <th>HCLUS</th>\n",
       "      <th>PROMOTION</th>\n",
       "      <th>PRO_PERCENT</th>\n",
       "    </tr>\n",
       "  </thead>\n",
       "  <tbody>\n",
       "    <tr>\n",
       "      <th>0</th>\n",
       "      <td>SEOUL_BANK_001</td>\n",
       "      <td>PG02</td>\n",
       "      <td>PRODUCT0010</td>\n",
       "      <td>ITEM0115</td>\n",
       "      <td>201501</td>\n",
       "      <td>2015</td>\n",
       "      <td>1</td>\n",
       "      <td>1225</td>\n",
       "      <td>Y</td>\n",
       "      <td>1</td>\n",
       "      <td>Y</td>\n",
       "      <td>0.209442</td>\n",
       "    </tr>\n",
       "    <tr>\n",
       "      <th>1</th>\n",
       "      <td>SEOUL_BANK_001</td>\n",
       "      <td>PG02</td>\n",
       "      <td>PRODUCT0010</td>\n",
       "      <td>ITEM0115</td>\n",
       "      <td>201502</td>\n",
       "      <td>2015</td>\n",
       "      <td>2</td>\n",
       "      <td>968</td>\n",
       "      <td>N</td>\n",
       "      <td>4</td>\n",
       "      <td>Y</td>\n",
       "      <td>0.209442</td>\n",
       "    </tr>\n",
       "    <tr>\n",
       "      <th>2</th>\n",
       "      <td>SEOUL_BANK_001</td>\n",
       "      <td>PG02</td>\n",
       "      <td>PRODUCT0010</td>\n",
       "      <td>ITEM0115</td>\n",
       "      <td>201503</td>\n",
       "      <td>2015</td>\n",
       "      <td>3</td>\n",
       "      <td>1209</td>\n",
       "      <td>N</td>\n",
       "      <td>4</td>\n",
       "      <td>Y</td>\n",
       "      <td>0.208155</td>\n",
       "    </tr>\n",
       "    <tr>\n",
       "      <th>3</th>\n",
       "      <td>SEOUL_BANK_001</td>\n",
       "      <td>PG02</td>\n",
       "      <td>PRODUCT0010</td>\n",
       "      <td>ITEM0115</td>\n",
       "      <td>201504</td>\n",
       "      <td>2015</td>\n",
       "      <td>4</td>\n",
       "      <td>1810</td>\n",
       "      <td>Y</td>\n",
       "      <td>2</td>\n",
       "      <td>Y</td>\n",
       "      <td>0.208155</td>\n",
       "    </tr>\n",
       "    <tr>\n",
       "      <th>4</th>\n",
       "      <td>SEOUL_BANK_001</td>\n",
       "      <td>PG02</td>\n",
       "      <td>PRODUCT0010</td>\n",
       "      <td>ITEM0115</td>\n",
       "      <td>201505</td>\n",
       "      <td>2015</td>\n",
       "      <td>5</td>\n",
       "      <td>1773</td>\n",
       "      <td>N</td>\n",
       "      <td>4</td>\n",
       "      <td>Y</td>\n",
       "      <td>0.208155</td>\n",
       "    </tr>\n",
       "    <tr>\n",
       "      <th>...</th>\n",
       "      <td>...</td>\n",
       "      <td>...</td>\n",
       "      <td>...</td>\n",
       "      <td>...</td>\n",
       "      <td>...</td>\n",
       "      <td>...</td>\n",
       "      <td>...</td>\n",
       "      <td>...</td>\n",
       "      <td>...</td>\n",
       "      <td>...</td>\n",
       "      <td>...</td>\n",
       "      <td>...</td>\n",
       "    </tr>\n",
       "    <tr>\n",
       "      <th>100</th>\n",
       "      <td>SEOUL_BANK_001</td>\n",
       "      <td>PG02</td>\n",
       "      <td>PRODUCT0010</td>\n",
       "      <td>ITEM0115</td>\n",
       "      <td>201648</td>\n",
       "      <td>2016</td>\n",
       "      <td>48</td>\n",
       "      <td>2412</td>\n",
       "      <td>Y</td>\n",
       "      <td>0</td>\n",
       "      <td>Y</td>\n",
       "      <td>0.421888</td>\n",
       "    </tr>\n",
       "    <tr>\n",
       "      <th>101</th>\n",
       "      <td>SEOUL_BANK_001</td>\n",
       "      <td>PG02</td>\n",
       "      <td>PRODUCT0010</td>\n",
       "      <td>ITEM0115</td>\n",
       "      <td>201649</td>\n",
       "      <td>2016</td>\n",
       "      <td>49</td>\n",
       "      <td>1955</td>\n",
       "      <td>N</td>\n",
       "      <td>4</td>\n",
       "      <td>Y</td>\n",
       "      <td>0.421888</td>\n",
       "    </tr>\n",
       "    <tr>\n",
       "      <th>102</th>\n",
       "      <td>SEOUL_BANK_001</td>\n",
       "      <td>PG02</td>\n",
       "      <td>PRODUCT0010</td>\n",
       "      <td>ITEM0115</td>\n",
       "      <td>201650</td>\n",
       "      <td>2016</td>\n",
       "      <td>50</td>\n",
       "      <td>1800</td>\n",
       "      <td>N</td>\n",
       "      <td>4</td>\n",
       "      <td>Y</td>\n",
       "      <td>0.352361</td>\n",
       "    </tr>\n",
       "    <tr>\n",
       "      <th>103</th>\n",
       "      <td>SEOUL_BANK_001</td>\n",
       "      <td>PG02</td>\n",
       "      <td>PRODUCT0010</td>\n",
       "      <td>ITEM0115</td>\n",
       "      <td>201651</td>\n",
       "      <td>2016</td>\n",
       "      <td>51</td>\n",
       "      <td>1173</td>\n",
       "      <td>N</td>\n",
       "      <td>4</td>\n",
       "      <td>Y</td>\n",
       "      <td>0.352361</td>\n",
       "    </tr>\n",
       "    <tr>\n",
       "      <th>104</th>\n",
       "      <td>SEOUL_BANK_001</td>\n",
       "      <td>PG02</td>\n",
       "      <td>PRODUCT0010</td>\n",
       "      <td>ITEM0115</td>\n",
       "      <td>201652</td>\n",
       "      <td>2016</td>\n",
       "      <td>52</td>\n",
       "      <td>332</td>\n",
       "      <td>Y</td>\n",
       "      <td>1</td>\n",
       "      <td>Y</td>\n",
       "      <td>0.352361</td>\n",
       "    </tr>\n",
       "  </tbody>\n",
       "</table>\n",
       "<p>105 rows × 12 columns</p>\n",
       "</div>"
      ],
      "text/plain": [
       "           REGIONID PRODUCTGROUP      PRODUCT      ITEM  YEARWEEK  YEAR  WEEK  \\\n",
       "0    SEOUL_BANK_001         PG02  PRODUCT0010  ITEM0115    201501  2015     1   \n",
       "1    SEOUL_BANK_001         PG02  PRODUCT0010  ITEM0115    201502  2015     2   \n",
       "2    SEOUL_BANK_001         PG02  PRODUCT0010  ITEM0115    201503  2015     3   \n",
       "3    SEOUL_BANK_001         PG02  PRODUCT0010  ITEM0115    201504  2015     4   \n",
       "4    SEOUL_BANK_001         PG02  PRODUCT0010  ITEM0115    201505  2015     5   \n",
       "..              ...          ...          ...       ...       ...   ...   ...   \n",
       "100  SEOUL_BANK_001         PG02  PRODUCT0010  ITEM0115    201648  2016    48   \n",
       "101  SEOUL_BANK_001         PG02  PRODUCT0010  ITEM0115    201649  2016    49   \n",
       "102  SEOUL_BANK_001         PG02  PRODUCT0010  ITEM0115    201650  2016    50   \n",
       "103  SEOUL_BANK_001         PG02  PRODUCT0010  ITEM0115    201651  2016    51   \n",
       "104  SEOUL_BANK_001         PG02  PRODUCT0010  ITEM0115    201652  2016    52   \n",
       "\n",
       "      QTY HOLIDAY  HCLUS PROMOTION  PRO_PERCENT  \n",
       "0    1225       Y      1         Y     0.209442  \n",
       "1     968       N      4         Y     0.209442  \n",
       "2    1209       N      4         Y     0.208155  \n",
       "3    1810       Y      2         Y     0.208155  \n",
       "4    1773       N      4         Y     0.208155  \n",
       "..    ...     ...    ...       ...          ...  \n",
       "100  2412       Y      0         Y     0.421888  \n",
       "101  1955       N      4         Y     0.421888  \n",
       "102  1800       N      4         Y     0.352361  \n",
       "103  1173       N      4         Y     0.352361  \n",
       "104   332       Y      1         Y     0.352361  \n",
       "\n",
       "[105 rows x 12 columns]"
      ]
     },
     "execution_count": 85,
     "metadata": {},
     "output_type": "execute_result"
    }
   ],
   "source": [
    "featuresData = \\\n",
    "    pd.read_csv(\"../dataset/feature_regression_example.csv\")\n",
    "featuresData.head(2)"
   ]
  },
  {
   "cell_type": "markdown",
   "metadata": {},
   "source": [
    "### 1. 데이터 전처리"
   ]
  },
  {
   "cell_type": "markdown",
   "metadata": {},
   "source": [
    "### 1-1. 타입 통합 / 특성 숫자컬럼 추가"
   ]
  },
  {
   "cell_type": "markdown",
   "metadata": {},
   "source": [
    "### 1-1-1. 데이터 타입 통합"
   ]
  },
  {
   "cell_type": "code",
   "execution_count": 84,
   "metadata": {},
   "outputs": [
    {
     "name": "stdout",
     "output_type": "stream",
     "text": [
      "<class 'pandas.core.frame.DataFrame'>\n",
      "RangeIndex: 105 entries, 0 to 104\n",
      "Data columns (total 14 columns):\n",
      " #   Column         Non-Null Count  Dtype  \n",
      "---  ------         --------------  -----  \n",
      " 0   REGIONID       105 non-null    object \n",
      " 1   PRODUCTGROUP   105 non-null    object \n",
      " 2   PRODUCT        105 non-null    object \n",
      " 3   ITEM           105 non-null    object \n",
      " 4   YEARWEEK       105 non-null    int64  \n",
      " 5   YEAR           105 non-null    int64  \n",
      " 6   WEEK           105 non-null    int64  \n",
      " 7   QTY            105 non-null    float64\n",
      " 8   HOLIDAY        105 non-null    object \n",
      " 9   HCLUS          105 non-null    int64  \n",
      " 10  PROMOTION      105 non-null    object \n",
      " 11  PRO_PERCENT    105 non-null    float64\n",
      " 12  HOLIDAY_NEW    105 non-null    int32  \n",
      " 13  PROMOTION_NEW  105 non-null    int32  \n",
      "dtypes: float64(2), int32(2), int64(4), object(6)\n",
      "memory usage: 10.8+ KB\n"
     ]
    }
   ],
   "source": [
    "featuresData.info()"
   ]
  },
  {
   "cell_type": "code",
   "execution_count": 6,
   "metadata": {},
   "outputs": [],
   "source": [
    "# 주의할 사항은 모든 컬럼에 대해서 고정시키는걸 고려햐는게 나을수도 있다\n",
    "featuresData.QTY = featuresData.QTY.astype(float)"
   ]
  },
  {
   "cell_type": "markdown",
   "metadata": {},
   "source": [
    "### 1-1-2. 특성 값 숫자컬럼 변경"
   ]
  },
  {
   "cell_type": "code",
   "execution_count": 72,
   "metadata": {},
   "outputs": [],
   "source": [
    "## 이유 : 머신러닝 특성은 숫자형을 지원함 ( 해결 Y : 1로 , N : 0으로 변환)\n",
    "### 특성도 있고 답도 있다! -> 스스로 학습함"
   ]
  },
  {
   "cell_type": "code",
   "execution_count": 73,
   "metadata": {},
   "outputs": [
    {
     "data": {
      "text/plain": [
       "Index(['REGIONID', 'PRODUCTGROUP', 'PRODUCT', 'ITEM', 'YEARWEEK', 'YEAR',\n",
       "       'WEEK', 'QTY', 'HOLIDAY', 'HCLUS', 'PROMOTION', 'PRO_PERCENT',\n",
       "       'HOLIDAY_NEW', 'PROMOTION_NEW'],\n",
       "      dtype='object')"
      ]
     },
     "execution_count": 73,
     "metadata": {},
     "output_type": "execute_result"
    }
   ],
   "source": [
    "##  어떤 컬럼들이 있는지 확인\n",
    "featuresData.columns"
   ]
  },
  {
   "cell_type": "code",
   "execution_count": 75,
   "metadata": {},
   "outputs": [],
   "source": [
    "# np.where을 쓰든 loc function을 쓰든\n",
    "featuresData[\"HOLIDAY_NEW\"] = \\\n",
    "    np.where(featuresData.HOLIDAY==\"Y\",1,0)"
   ]
  },
  {
   "cell_type": "code",
   "execution_count": 76,
   "metadata": {},
   "outputs": [],
   "source": [
    "# np.where을 쓰든 loc function을 쓰든\n",
    "featuresData[\"PROMOTION_NEW\"] = \\\n",
    "    np.where(featuresData.PROMOTION==\"Y\",1,0)"
   ]
  },
  {
   "cell_type": "code",
   "execution_count": 87,
   "metadata": {},
   "outputs": [],
   "source": [
    "# pd.DataFrame(featuresData.HOLIDAY.drop_duplicates() ).reset_index().\\\n",
    "#     rename(columns={\"index\":\"HOLIDAY_NEW\"})"
   ]
  },
  {
   "cell_type": "markdown",
   "metadata": {},
   "source": [
    "### 1-2. 특성 선정 / 데이터 분리"
   ]
  },
  {
   "cell_type": "markdown",
   "metadata": {},
   "source": [
    "### 1-2-1. 특성 선정"
   ]
  },
  {
   "cell_type": "code",
   "execution_count": 9,
   "metadata": {},
   "outputs": [
    {
     "data": {
      "text/html": [
       "<div>\n",
       "<style scoped>\n",
       "    .dataframe tbody tr th:only-of-type {\n",
       "        vertical-align: middle;\n",
       "    }\n",
       "\n",
       "    .dataframe tbody tr th {\n",
       "        vertical-align: top;\n",
       "    }\n",
       "\n",
       "    .dataframe thead th {\n",
       "        text-align: right;\n",
       "    }\n",
       "</style>\n",
       "<table border=\"1\" class=\"dataframe\">\n",
       "  <thead>\n",
       "    <tr style=\"text-align: right;\">\n",
       "      <th></th>\n",
       "      <th>YEARWEEK</th>\n",
       "      <th>YEAR</th>\n",
       "      <th>WEEK</th>\n",
       "      <th>QTY</th>\n",
       "      <th>HCLUS</th>\n",
       "      <th>PRO_PERCENT</th>\n",
       "      <th>HOLIDAY_NEW</th>\n",
       "      <th>PROMOTION_NEW</th>\n",
       "    </tr>\n",
       "  </thead>\n",
       "  <tbody>\n",
       "    <tr>\n",
       "      <th>YEARWEEK</th>\n",
       "      <td>1.000000</td>\n",
       "      <td>0.956598</td>\n",
       "      <td>0.275593</td>\n",
       "      <td>0.112267</td>\n",
       "      <td>-0.071586</td>\n",
       "      <td>0.404889</td>\n",
       "      <td>0.049867</td>\n",
       "      <td>0.205916</td>\n",
       "    </tr>\n",
       "    <tr>\n",
       "      <th>YEAR</th>\n",
       "      <td>0.956598</td>\n",
       "      <td>1.000000</td>\n",
       "      <td>-0.016493</td>\n",
       "      <td>0.028931</td>\n",
       "      <td>0.028593</td>\n",
       "      <td>0.321193</td>\n",
       "      <td>-0.031106</td>\n",
       "      <td>0.195931</td>\n",
       "    </tr>\n",
       "    <tr>\n",
       "      <th>WEEK</th>\n",
       "      <td>0.275593</td>\n",
       "      <td>-0.016493</td>\n",
       "      <td>1.000000</td>\n",
       "      <td>0.289766</td>\n",
       "      <td>-0.339943</td>\n",
       "      <td>0.329705</td>\n",
       "      <td>0.273710</td>\n",
       "      <td>0.060206</td>\n",
       "    </tr>\n",
       "    <tr>\n",
       "      <th>QTY</th>\n",
       "      <td>0.112267</td>\n",
       "      <td>0.028931</td>\n",
       "      <td>0.289766</td>\n",
       "      <td>1.000000</td>\n",
       "      <td>-0.537230</td>\n",
       "      <td>0.700195</td>\n",
       "      <td>0.505932</td>\n",
       "      <td>0.612451</td>\n",
       "    </tr>\n",
       "    <tr>\n",
       "      <th>HCLUS</th>\n",
       "      <td>-0.071586</td>\n",
       "      <td>0.028593</td>\n",
       "      <td>-0.339943</td>\n",
       "      <td>-0.537230</td>\n",
       "      <td>1.000000</td>\n",
       "      <td>-0.545619</td>\n",
       "      <td>-0.974601</td>\n",
       "      <td>-0.374072</td>\n",
       "    </tr>\n",
       "    <tr>\n",
       "      <th>PRO_PERCENT</th>\n",
       "      <td>0.404889</td>\n",
       "      <td>0.321193</td>\n",
       "      <td>0.329705</td>\n",
       "      <td>0.700195</td>\n",
       "      <td>-0.545619</td>\n",
       "      <td>1.000000</td>\n",
       "      <td>0.487062</td>\n",
       "      <td>0.898554</td>\n",
       "    </tr>\n",
       "    <tr>\n",
       "      <th>HOLIDAY_NEW</th>\n",
       "      <td>0.049867</td>\n",
       "      <td>-0.031106</td>\n",
       "      <td>0.273710</td>\n",
       "      <td>0.505932</td>\n",
       "      <td>-0.974601</td>\n",
       "      <td>0.487062</td>\n",
       "      <td>1.000000</td>\n",
       "      <td>0.365148</td>\n",
       "    </tr>\n",
       "    <tr>\n",
       "      <th>PROMOTION_NEW</th>\n",
       "      <td>0.205916</td>\n",
       "      <td>0.195931</td>\n",
       "      <td>0.060206</td>\n",
       "      <td>0.612451</td>\n",
       "      <td>-0.374072</td>\n",
       "      <td>0.898554</td>\n",
       "      <td>0.365148</td>\n",
       "      <td>1.000000</td>\n",
       "    </tr>\n",
       "  </tbody>\n",
       "</table>\n",
       "</div>"
      ],
      "text/plain": [
       "               YEARWEEK      YEAR      WEEK       QTY     HCLUS  PRO_PERCENT  \\\n",
       "YEARWEEK       1.000000  0.956598  0.275593  0.112267 -0.071586     0.404889   \n",
       "YEAR           0.956598  1.000000 -0.016493  0.028931  0.028593     0.321193   \n",
       "WEEK           0.275593 -0.016493  1.000000  0.289766 -0.339943     0.329705   \n",
       "QTY            0.112267  0.028931  0.289766  1.000000 -0.537230     0.700195   \n",
       "HCLUS         -0.071586  0.028593 -0.339943 -0.537230  1.000000    -0.545619   \n",
       "PRO_PERCENT    0.404889  0.321193  0.329705  0.700195 -0.545619     1.000000   \n",
       "HOLIDAY_NEW    0.049867 -0.031106  0.273710  0.505932 -0.974601     0.487062   \n",
       "PROMOTION_NEW  0.205916  0.195931  0.060206  0.612451 -0.374072     0.898554   \n",
       "\n",
       "               HOLIDAY_NEW  PROMOTION_NEW  \n",
       "YEARWEEK          0.049867       0.205916  \n",
       "YEAR             -0.031106       0.195931  \n",
       "WEEK              0.273710       0.060206  \n",
       "QTY               0.505932       0.612451  \n",
       "HCLUS            -0.974601      -0.374072  \n",
       "PRO_PERCENT       0.487062       0.898554  \n",
       "HOLIDAY_NEW       1.000000       0.365148  \n",
       "PROMOTION_NEW     0.365148       1.000000  "
      ]
     },
     "execution_count": 9,
     "metadata": {},
     "output_type": "execute_result"
    }
   ],
   "source": [
    "# 상관계수\n",
    "featuresData.corr()"
   ]
  },
  {
   "cell_type": "code",
   "execution_count": 10,
   "metadata": {},
   "outputs": [],
   "source": [
    "corrDf = featuresData.corr()"
   ]
  },
  {
   "cell_type": "code",
   "execution_count": 11,
   "metadata": {},
   "outputs": [],
   "source": [
    "standardLimit = 0.5"
   ]
  },
  {
   "cell_type": "code",
   "execution_count": 78,
   "metadata": {},
   "outputs": [],
   "source": [
    "# 해당 조건에 맞는 컬럼들(index)을 변수로 저장\n",
    "features = \\\n",
    "    list(corrDf.loc[ ( abs(corrDf.QTY) > standardLimit ) & \n",
    "                    (corrDf.QTY != 1) ].index )"
   ]
  },
  {
   "cell_type": "code",
   "execution_count": 79,
   "metadata": {},
   "outputs": [
    {
     "data": {
      "text/plain": [
       "['HCLUS', 'PRO_PERCENT', 'HOLIDAY_NEW', 'PROMOTION_NEW']"
      ]
     },
     "execution_count": 79,
     "metadata": {},
     "output_type": "execute_result"
    }
   ],
   "source": [
    "features"
   ]
  },
  {
   "cell_type": "code",
   "execution_count": 15,
   "metadata": {},
   "outputs": [],
   "source": [
    "# 정답지는 바뀌지 않으므로 하드코딩 해도됨\n",
    "# 사실 하드코딩은 무조건 안됨. DB랑 연동해야함!\n",
    "label = [\"QTY\"]"
   ]
  },
  {
   "cell_type": "markdown",
   "metadata": {},
   "source": [
    "### 1-2-2. 데이터 분리"
   ]
  },
  {
   "cell_type": "code",
   "execution_count": 18,
   "metadata": {},
   "outputs": [],
   "source": [
    "standardIndex = 0.8"
   ]
  },
  {
   "cell_type": "code",
   "execution_count": 19,
   "metadata": {},
   "outputs": [],
   "source": [
    "sortKey = [\"REGIONID\",\"ITEM\",\"YEARWEEK\"]"
   ]
  },
  {
   "cell_type": "code",
   "execution_count": 20,
   "metadata": {},
   "outputs": [],
   "source": [
    "## 컬럼별로 정렬하기\n",
    "sortedData = featuresData.sort_values(sortKey, ignore_index=True)"
   ]
  },
  {
   "cell_type": "code",
   "execution_count": 22,
   "metadata": {},
   "outputs": [
    {
     "data": {
      "text/html": [
       "<div>\n",
       "<style scoped>\n",
       "    .dataframe tbody tr th:only-of-type {\n",
       "        vertical-align: middle;\n",
       "    }\n",
       "\n",
       "    .dataframe tbody tr th {\n",
       "        vertical-align: top;\n",
       "    }\n",
       "\n",
       "    .dataframe thead th {\n",
       "        text-align: right;\n",
       "    }\n",
       "</style>\n",
       "<table border=\"1\" class=\"dataframe\">\n",
       "  <thead>\n",
       "    <tr style=\"text-align: right;\">\n",
       "      <th></th>\n",
       "      <th>REGIONID</th>\n",
       "      <th>PRODUCTGROUP</th>\n",
       "      <th>PRODUCT</th>\n",
       "      <th>ITEM</th>\n",
       "      <th>YEARWEEK</th>\n",
       "      <th>YEAR</th>\n",
       "      <th>WEEK</th>\n",
       "      <th>QTY</th>\n",
       "      <th>HOLIDAY</th>\n",
       "      <th>HCLUS</th>\n",
       "      <th>PROMOTION</th>\n",
       "      <th>PRO_PERCENT</th>\n",
       "      <th>HOLIDAY_NEW</th>\n",
       "      <th>PROMOTION_NEW</th>\n",
       "    </tr>\n",
       "  </thead>\n",
       "  <tbody>\n",
       "    <tr>\n",
       "      <th>0</th>\n",
       "      <td>SEOUL_BANK_001</td>\n",
       "      <td>PG02</td>\n",
       "      <td>PRODUCT0010</td>\n",
       "      <td>ITEM0115</td>\n",
       "      <td>201501</td>\n",
       "      <td>2015</td>\n",
       "      <td>1</td>\n",
       "      <td>1225.0</td>\n",
       "      <td>Y</td>\n",
       "      <td>1</td>\n",
       "      <td>Y</td>\n",
       "      <td>0.209442</td>\n",
       "      <td>1</td>\n",
       "      <td>1</td>\n",
       "    </tr>\n",
       "    <tr>\n",
       "      <th>1</th>\n",
       "      <td>SEOUL_BANK_001</td>\n",
       "      <td>PG02</td>\n",
       "      <td>PRODUCT0010</td>\n",
       "      <td>ITEM0115</td>\n",
       "      <td>201502</td>\n",
       "      <td>2015</td>\n",
       "      <td>2</td>\n",
       "      <td>968.0</td>\n",
       "      <td>N</td>\n",
       "      <td>4</td>\n",
       "      <td>Y</td>\n",
       "      <td>0.209442</td>\n",
       "      <td>0</td>\n",
       "      <td>1</td>\n",
       "    </tr>\n",
       "    <tr>\n",
       "      <th>2</th>\n",
       "      <td>SEOUL_BANK_001</td>\n",
       "      <td>PG02</td>\n",
       "      <td>PRODUCT0010</td>\n",
       "      <td>ITEM0115</td>\n",
       "      <td>201503</td>\n",
       "      <td>2015</td>\n",
       "      <td>3</td>\n",
       "      <td>1209.0</td>\n",
       "      <td>N</td>\n",
       "      <td>4</td>\n",
       "      <td>Y</td>\n",
       "      <td>0.208155</td>\n",
       "      <td>0</td>\n",
       "      <td>1</td>\n",
       "    </tr>\n",
       "    <tr>\n",
       "      <th>3</th>\n",
       "      <td>SEOUL_BANK_001</td>\n",
       "      <td>PG02</td>\n",
       "      <td>PRODUCT0010</td>\n",
       "      <td>ITEM0115</td>\n",
       "      <td>201504</td>\n",
       "      <td>2015</td>\n",
       "      <td>4</td>\n",
       "      <td>1810.0</td>\n",
       "      <td>Y</td>\n",
       "      <td>2</td>\n",
       "      <td>Y</td>\n",
       "      <td>0.208155</td>\n",
       "      <td>1</td>\n",
       "      <td>1</td>\n",
       "    </tr>\n",
       "    <tr>\n",
       "      <th>4</th>\n",
       "      <td>SEOUL_BANK_001</td>\n",
       "      <td>PG02</td>\n",
       "      <td>PRODUCT0010</td>\n",
       "      <td>ITEM0115</td>\n",
       "      <td>201505</td>\n",
       "      <td>2015</td>\n",
       "      <td>5</td>\n",
       "      <td>1773.0</td>\n",
       "      <td>N</td>\n",
       "      <td>4</td>\n",
       "      <td>Y</td>\n",
       "      <td>0.208155</td>\n",
       "      <td>0</td>\n",
       "      <td>1</td>\n",
       "    </tr>\n",
       "  </tbody>\n",
       "</table>\n",
       "</div>"
      ],
      "text/plain": [
       "         REGIONID PRODUCTGROUP      PRODUCT      ITEM  YEARWEEK  YEAR  WEEK  \\\n",
       "0  SEOUL_BANK_001         PG02  PRODUCT0010  ITEM0115    201501  2015     1   \n",
       "1  SEOUL_BANK_001         PG02  PRODUCT0010  ITEM0115    201502  2015     2   \n",
       "2  SEOUL_BANK_001         PG02  PRODUCT0010  ITEM0115    201503  2015     3   \n",
       "3  SEOUL_BANK_001         PG02  PRODUCT0010  ITEM0115    201504  2015     4   \n",
       "4  SEOUL_BANK_001         PG02  PRODUCT0010  ITEM0115    201505  2015     5   \n",
       "\n",
       "      QTY HOLIDAY  HCLUS PROMOTION  PRO_PERCENT  HOLIDAY_NEW  PROMOTION_NEW  \n",
       "0  1225.0       Y      1         Y     0.209442            1              1  \n",
       "1   968.0       N      4         Y     0.209442            0              1  \n",
       "2  1209.0       N      4         Y     0.208155            0              1  \n",
       "3  1810.0       Y      2         Y     0.208155            1              1  \n",
       "4  1773.0       N      4         Y     0.208155            0              1  "
      ]
     },
     "execution_count": 22,
     "metadata": {},
     "output_type": "execute_result"
    }
   ],
   "source": [
    "sortedData.head()"
   ]
  },
  {
   "cell_type": "code",
   "execution_count": 32,
   "metadata": {},
   "outputs": [
    {
     "data": {
      "text/plain": [
       "(105, 14)"
      ]
     },
     "execution_count": 32,
     "metadata": {},
     "output_type": "execute_result"
    }
   ],
   "source": [
    "# 105개의 행, 14개의 컬럼\n",
    "sortedData.shape"
   ]
  },
  {
   "cell_type": "code",
   "execution_count": 26,
   "metadata": {},
   "outputs": [
    {
     "data": {
      "text/plain": [
       "84.0"
      ]
     },
     "execution_count": 26,
     "metadata": {},
     "output_type": "execute_result"
    }
   ],
   "source": [
    "sortedData.shape[0]*standardIndex"
   ]
  },
  {
   "cell_type": "code",
   "execution_count": 33,
   "metadata": {},
   "outputs": [],
   "source": [
    "# 정렬하고 80%에 있는 인덱스의 번호로 분리시킨다!\n",
    "## 정렬을 하고 난 뒤에 80% 안에 들어오는 인덱스의 번호로 분리시키기 위해서\n",
    "selectedIndex = int( list( sortedData.shape )[0] * standardIndex )"
   ]
  },
  {
   "cell_type": "code",
   "execution_count": 34,
   "metadata": {},
   "outputs": [
    {
     "data": {
      "text/plain": [
       "84"
      ]
     },
     "execution_count": 34,
     "metadata": {},
     "output_type": "execute_result"
    }
   ],
   "source": [
    "selectedIndex"
   ]
  },
  {
   "cell_type": "code",
   "execution_count": 80,
   "metadata": {},
   "outputs": [],
   "source": [
    "## 분리를 위한 YEARWEEK 날짜\n",
    "yearweekStd = sortedData.loc[selectedIndex].YEARWEEK"
   ]
  },
  {
   "cell_type": "code",
   "execution_count": 30,
   "metadata": {},
   "outputs": [
    {
     "data": {
      "text/plain": [
       "201632"
      ]
     },
     "execution_count": 30,
     "metadata": {},
     "output_type": "execute_result"
    }
   ],
   "source": [
    "yearweekStd"
   ]
  },
  {
   "cell_type": "code",
   "execution_count": 36,
   "metadata": {},
   "outputs": [],
   "source": [
    "# 훈련데이터와 테스트데이터를 ( 문제지와 정답지를 구분해서 정의한다.)\n",
    "trainingDataFeatures = \\\n",
    "    sortedData.loc[sortedData.YEARWEEK <= yearweekStd, features] ## 조건, 컬럼명 을 넣어주는 것\n",
    "trainingDatalabel = \\\n",
    "    sortedData.loc[sortedData.YEARWEEK <= yearweekStd, label] ## 조건, 컬럼명 을 넣어주는 것\n",
    "testDataFeatures = \\\n",
    "    sortedData.loc[sortedData.YEARWEEK > yearweekStd, features] ## 조건, 컬럼명 을 넣어주는 것\n",
    "testDatalabel = \\\n",
    "    sortedData.loc[sortedData.YEARWEEK > yearweekStd, label] ## 조건, 컬럼명 을 넣어주는 것"
   ]
  },
  {
   "cell_type": "code",
   "execution_count": 86,
   "metadata": {},
   "outputs": [
    {
     "data": {
      "text/html": [
       "<div>\n",
       "<style scoped>\n",
       "    .dataframe tbody tr th:only-of-type {\n",
       "        vertical-align: middle;\n",
       "    }\n",
       "\n",
       "    .dataframe tbody tr th {\n",
       "        vertical-align: top;\n",
       "    }\n",
       "\n",
       "    .dataframe thead th {\n",
       "        text-align: right;\n",
       "    }\n",
       "</style>\n",
       "<table border=\"1\" class=\"dataframe\">\n",
       "  <thead>\n",
       "    <tr style=\"text-align: right;\">\n",
       "      <th></th>\n",
       "      <th>HCLUS</th>\n",
       "      <th>PRO_PERCENT</th>\n",
       "      <th>HOLIDAY_NEW</th>\n",
       "      <th>PROMOTION_NEW</th>\n",
       "    </tr>\n",
       "  </thead>\n",
       "  <tbody>\n",
       "    <tr>\n",
       "      <th>0</th>\n",
       "      <td>1</td>\n",
       "      <td>0.209442</td>\n",
       "      <td>1</td>\n",
       "      <td>1</td>\n",
       "    </tr>\n",
       "    <tr>\n",
       "      <th>1</th>\n",
       "      <td>4</td>\n",
       "      <td>0.209442</td>\n",
       "      <td>0</td>\n",
       "      <td>1</td>\n",
       "    </tr>\n",
       "    <tr>\n",
       "      <th>2</th>\n",
       "      <td>4</td>\n",
       "      <td>0.208155</td>\n",
       "      <td>0</td>\n",
       "      <td>1</td>\n",
       "    </tr>\n",
       "    <tr>\n",
       "      <th>3</th>\n",
       "      <td>2</td>\n",
       "      <td>0.208155</td>\n",
       "      <td>1</td>\n",
       "      <td>1</td>\n",
       "    </tr>\n",
       "    <tr>\n",
       "      <th>4</th>\n",
       "      <td>4</td>\n",
       "      <td>0.208155</td>\n",
       "      <td>0</td>\n",
       "      <td>1</td>\n",
       "    </tr>\n",
       "    <tr>\n",
       "      <th>...</th>\n",
       "      <td>...</td>\n",
       "      <td>...</td>\n",
       "      <td>...</td>\n",
       "      <td>...</td>\n",
       "    </tr>\n",
       "    <tr>\n",
       "      <th>80</th>\n",
       "      <td>1</td>\n",
       "      <td>0.308584</td>\n",
       "      <td>1</td>\n",
       "      <td>1</td>\n",
       "    </tr>\n",
       "    <tr>\n",
       "      <th>81</th>\n",
       "      <td>1</td>\n",
       "      <td>0.308584</td>\n",
       "      <td>1</td>\n",
       "      <td>1</td>\n",
       "    </tr>\n",
       "    <tr>\n",
       "      <th>82</th>\n",
       "      <td>4</td>\n",
       "      <td>0.280258</td>\n",
       "      <td>0</td>\n",
       "      <td>1</td>\n",
       "    </tr>\n",
       "    <tr>\n",
       "      <th>83</th>\n",
       "      <td>4</td>\n",
       "      <td>0.280258</td>\n",
       "      <td>0</td>\n",
       "      <td>1</td>\n",
       "    </tr>\n",
       "    <tr>\n",
       "      <th>84</th>\n",
       "      <td>4</td>\n",
       "      <td>0.280258</td>\n",
       "      <td>0</td>\n",
       "      <td>1</td>\n",
       "    </tr>\n",
       "  </tbody>\n",
       "</table>\n",
       "<p>85 rows × 4 columns</p>\n",
       "</div>"
      ],
      "text/plain": [
       "    HCLUS  PRO_PERCENT  HOLIDAY_NEW  PROMOTION_NEW\n",
       "0       1     0.209442            1              1\n",
       "1       4     0.209442            0              1\n",
       "2       4     0.208155            0              1\n",
       "3       2     0.208155            1              1\n",
       "4       4     0.208155            0              1\n",
       "..    ...          ...          ...            ...\n",
       "80      1     0.308584            1              1\n",
       "81      1     0.308584            1              1\n",
       "82      4     0.280258            0              1\n",
       "83      4     0.280258            0              1\n",
       "84      4     0.280258            0              1\n",
       "\n",
       "[85 rows x 4 columns]"
      ]
     },
     "execution_count": 86,
     "metadata": {},
     "output_type": "execute_result"
    }
   ],
   "source": [
    "# 기계에다가 학습시킬 훈련 데이터는 이게 된다!\n",
    "trainingDataFeatures"
   ]
  },
  {
   "cell_type": "markdown",
   "metadata": {},
   "source": [
    "### 2. 모델적용"
   ]
  },
  {
   "cell_type": "markdown",
   "metadata": {},
   "source": [
    "### 2-1. 모델 적용"
   ]
  },
  {
   "cell_type": "markdown",
   "metadata": {},
   "source": [
    "### 2-1-1 학습"
   ]
  },
  {
   "cell_type": "code",
   "execution_count": 39,
   "metadata": {},
   "outputs": [],
   "source": [
    "# 하이퍼 파라미터 튜닝 (분석가가 가장 많이 하는 일 중 하나)\n",
    "# 모델 선언 (Decision, Random)\n",
    "model_dt = DecisionTreeRegressor(random_state=10, max_depth=1)\n",
    "model_rf = RandomForestRegressor(random_state=10)\n",
    "model_lr = LinearRegression()"
   ]
  },
  {
   "cell_type": "code",
   "execution_count": 41,
   "metadata": {},
   "outputs": [
    {
     "name": "stderr",
     "output_type": "stream",
     "text": [
      "<ipython-input-41-2efe8d804c0e>:4: DataConversionWarning: A column-vector y was passed when a 1d array was expected. Please change the shape of y to (n_samples,), for example using ravel().\n",
      "  model_rf.fit(X=trainingDataFeatures, y=trainingDataLabel)\n"
     ]
    },
    {
     "data": {
      "text/plain": [
       "LinearRegression()"
      ]
     },
     "execution_count": 41,
     "metadata": {},
     "output_type": "execute_result"
    }
   ],
   "source": [
    "# X는 문제지, y는 정답지\n",
    "# 학습은 이 2줄로 끝난다!\n",
    "model_dt.fit(X=trainingDataFeatures, y=trainingDataLabel)\n",
    "model_rf.fit(X=trainingDataFeatures, y=trainingDataLabel)\n",
    "model_lr.fit(X=trainingDataFeatures, y=trainingDataLabel)"
   ]
  },
  {
   "cell_type": "markdown",
   "metadata": {},
   "source": [
    "### 3. 예측"
   ]
  },
  {
   "cell_type": "code",
   "execution_count": 44,
   "metadata": {},
   "outputs": [],
   "source": [
    "# graphviz로 다 뜯어볼 수 있다\n",
    "# explainable ai\n",
    "predictValueDt = model_dt.predict(testDataFeatures)\n",
    "predictValueRf = model_rf.predict(testDataFeatures)\n",
    "predictValueLr = model_lr.predict(testDataFeatures)"
   ]
  },
  {
   "cell_type": "code",
   "execution_count": 46,
   "metadata": {},
   "outputs": [],
   "source": [
    "testDataAll = \\\n",
    "    featuresData.loc[ testDataFeatures.index ] "
   ]
  },
  {
   "cell_type": "code",
   "execution_count": 89,
   "metadata": {},
   "outputs": [
    {
     "data": {
      "text/html": [
       "<div>\n",
       "<style scoped>\n",
       "    .dataframe tbody tr th:only-of-type {\n",
       "        vertical-align: middle;\n",
       "    }\n",
       "\n",
       "    .dataframe tbody tr th {\n",
       "        vertical-align: top;\n",
       "    }\n",
       "\n",
       "    .dataframe thead th {\n",
       "        text-align: right;\n",
       "    }\n",
       "</style>\n",
       "<table border=\"1\" class=\"dataframe\">\n",
       "  <thead>\n",
       "    <tr style=\"text-align: right;\">\n",
       "      <th></th>\n",
       "      <th>REGIONID</th>\n",
       "      <th>PRODUCTGROUP</th>\n",
       "      <th>PRODUCT</th>\n",
       "      <th>ITEM</th>\n",
       "      <th>YEARWEEK</th>\n",
       "      <th>YEAR</th>\n",
       "      <th>WEEK</th>\n",
       "      <th>QTY</th>\n",
       "      <th>HOLIDAY</th>\n",
       "      <th>HCLUS</th>\n",
       "      <th>PROMOTION</th>\n",
       "      <th>PRO_PERCENT</th>\n",
       "      <th>HOLIDAY_NEW</th>\n",
       "      <th>PROMOTION_NEW</th>\n",
       "      <th>PREDICT_DT</th>\n",
       "      <th>PREDICT_RF</th>\n",
       "      <th>PREDICT_LR</th>\n",
       "    </tr>\n",
       "  </thead>\n",
       "  <tbody>\n",
       "    <tr>\n",
       "      <th>85</th>\n",
       "      <td>SEOUL_BANK_001</td>\n",
       "      <td>PG02</td>\n",
       "      <td>PRODUCT0010</td>\n",
       "      <td>ITEM0115</td>\n",
       "      <td>201633</td>\n",
       "      <td>2016</td>\n",
       "      <td>33</td>\n",
       "      <td>43.0</td>\n",
       "      <td>N</td>\n",
       "      <td>4</td>\n",
       "      <td>N</td>\n",
       "      <td>0.000000</td>\n",
       "      <td>0</td>\n",
       "      <td>0</td>\n",
       "      <td>826.203125</td>\n",
       "      <td>353.535465</td>\n",
       "      <td>302.382057</td>\n",
       "    </tr>\n",
       "    <tr>\n",
       "      <th>86</th>\n",
       "      <td>SEOUL_BANK_001</td>\n",
       "      <td>PG02</td>\n",
       "      <td>PRODUCT0010</td>\n",
       "      <td>ITEM0115</td>\n",
       "      <td>201634</td>\n",
       "      <td>2016</td>\n",
       "      <td>34</td>\n",
       "      <td>1700.0</td>\n",
       "      <td>Y</td>\n",
       "      <td>1</td>\n",
       "      <td>Y</td>\n",
       "      <td>0.308584</td>\n",
       "      <td>1</td>\n",
       "      <td>1</td>\n",
       "      <td>2062.857143</td>\n",
       "      <td>1409.048303</td>\n",
       "      <td>2042.087373</td>\n",
       "    </tr>\n",
       "    <tr>\n",
       "      <th>87</th>\n",
       "      <td>SEOUL_BANK_001</td>\n",
       "      <td>PG02</td>\n",
       "      <td>PRODUCT0010</td>\n",
       "      <td>ITEM0115</td>\n",
       "      <td>201635</td>\n",
       "      <td>2016</td>\n",
       "      <td>35</td>\n",
       "      <td>1514.0</td>\n",
       "      <td>Y</td>\n",
       "      <td>1</td>\n",
       "      <td>Y</td>\n",
       "      <td>0.308584</td>\n",
       "      <td>1</td>\n",
       "      <td>1</td>\n",
       "      <td>2062.857143</td>\n",
       "      <td>1409.048303</td>\n",
       "      <td>2042.087373</td>\n",
       "    </tr>\n",
       "    <tr>\n",
       "      <th>88</th>\n",
       "      <td>SEOUL_BANK_001</td>\n",
       "      <td>PG02</td>\n",
       "      <td>PRODUCT0010</td>\n",
       "      <td>ITEM0115</td>\n",
       "      <td>201636</td>\n",
       "      <td>2016</td>\n",
       "      <td>36</td>\n",
       "      <td>1501.0</td>\n",
       "      <td>Y</td>\n",
       "      <td>1</td>\n",
       "      <td>Y</td>\n",
       "      <td>0.308584</td>\n",
       "      <td>1</td>\n",
       "      <td>1</td>\n",
       "      <td>2062.857143</td>\n",
       "      <td>1409.048303</td>\n",
       "      <td>2042.087373</td>\n",
       "    </tr>\n",
       "    <tr>\n",
       "      <th>89</th>\n",
       "      <td>SEOUL_BANK_001</td>\n",
       "      <td>PG02</td>\n",
       "      <td>PRODUCT0010</td>\n",
       "      <td>ITEM0115</td>\n",
       "      <td>201637</td>\n",
       "      <td>2016</td>\n",
       "      <td>37</td>\n",
       "      <td>1491.0</td>\n",
       "      <td>N</td>\n",
       "      <td>4</td>\n",
       "      <td>Y</td>\n",
       "      <td>0.308584</td>\n",
       "      <td>0</td>\n",
       "      <td>1</td>\n",
       "      <td>2062.857143</td>\n",
       "      <td>1439.099008</td>\n",
       "      <td>1678.587907</td>\n",
       "    </tr>\n",
       "  </tbody>\n",
       "</table>\n",
       "</div>"
      ],
      "text/plain": [
       "          REGIONID PRODUCTGROUP      PRODUCT      ITEM  YEARWEEK  YEAR  WEEK  \\\n",
       "85  SEOUL_BANK_001         PG02  PRODUCT0010  ITEM0115    201633  2016    33   \n",
       "86  SEOUL_BANK_001         PG02  PRODUCT0010  ITEM0115    201634  2016    34   \n",
       "87  SEOUL_BANK_001         PG02  PRODUCT0010  ITEM0115    201635  2016    35   \n",
       "88  SEOUL_BANK_001         PG02  PRODUCT0010  ITEM0115    201636  2016    36   \n",
       "89  SEOUL_BANK_001         PG02  PRODUCT0010  ITEM0115    201637  2016    37   \n",
       "\n",
       "       QTY HOLIDAY  HCLUS PROMOTION  PRO_PERCENT  HOLIDAY_NEW  PROMOTION_NEW  \\\n",
       "85    43.0       N      4         N     0.000000            0              0   \n",
       "86  1700.0       Y      1         Y     0.308584            1              1   \n",
       "87  1514.0       Y      1         Y     0.308584            1              1   \n",
       "88  1501.0       Y      1         Y     0.308584            1              1   \n",
       "89  1491.0       N      4         Y     0.308584            0              1   \n",
       "\n",
       "     PREDICT_DT   PREDICT_RF   PREDICT_LR  \n",
       "85   826.203125   353.535465   302.382057  \n",
       "86  2062.857143  1409.048303  2042.087373  \n",
       "87  2062.857143  1409.048303  2042.087373  \n",
       "88  2062.857143  1409.048303  2042.087373  \n",
       "89  2062.857143  1439.099008  1678.587907  "
      ]
     },
     "execution_count": 89,
     "metadata": {},
     "output_type": "execute_result"
    }
   ],
   "source": [
    "testDataAll.head()"
   ]
  },
  {
   "cell_type": "code",
   "execution_count": 51,
   "metadata": {},
   "outputs": [],
   "source": [
    "testDataAll[\"PREDICT_DT\"] = predictValueDt\n",
    "testDataAll[\"PREDICT_RF\"] = predictValueRf\n",
    "testDataAll[\"PREDICT_LR\"] = predictValueLr"
   ]
  },
  {
   "cell_type": "code",
   "execution_count": 52,
   "metadata": {},
   "outputs": [],
   "source": [
    "predictDtMae = mean_absolute_error(y_true=testDataAll.QTY,\n",
    "                    y_pred=testDataAll.PREDICT_DT )\n",
    "predictRfMae = mean_absolute_error(y_true=testDataAll.QTY,\n",
    "                    y_pred=testDataAll.PREDICT_RF )\n",
    "predictLrMae = mean_absolute_error(y_true=testDataAll.QTY,\n",
    "                    y_pred=testDataAll.PREDICT_LR )"
   ]
  },
  {
   "cell_type": "code",
   "execution_count": 33,
   "metadata": {},
   "outputs": [],
   "source": [
    "### DecisionTree\n",
    "## 장점 : 과거의 경험치를 그대로 반영 / 변동성이 큰 데이터에서 강하다 / 설명력이 강하다\n",
    "## 단점 : 오버피팅(너무 과거얽매이냐)\n",
    "\n",
    "### Randomforest\n",
    "## 장점 : DecisionTree 오버피팅을 해결해줌\n",
    "## 단점 : 설명력이 약하다"
   ]
  },
  {
   "cell_type": "code",
   "execution_count": 53,
   "metadata": {},
   "outputs": [],
   "source": [
    "errorReportDf = pd.DataFrame( [[ predictDtMae, predictRfMae,predictLrMae     ]],\n",
    "            columns=[\"DT_MAE\",\"RF_MAE\",\"LR_MAE\"])"
   ]
  },
  {
   "cell_type": "code",
   "execution_count": 54,
   "metadata": {},
   "outputs": [
    {
     "data": {
      "text/html": [
       "<div>\n",
       "<style scoped>\n",
       "    .dataframe tbody tr th:only-of-type {\n",
       "        vertical-align: middle;\n",
       "    }\n",
       "\n",
       "    .dataframe tbody tr th {\n",
       "        vertical-align: top;\n",
       "    }\n",
       "\n",
       "    .dataframe thead th {\n",
       "        text-align: right;\n",
       "    }\n",
       "</style>\n",
       "<table border=\"1\" class=\"dataframe\">\n",
       "  <thead>\n",
       "    <tr style=\"text-align: right;\">\n",
       "      <th></th>\n",
       "      <th>DT_MAE</th>\n",
       "      <th>RF_MAE</th>\n",
       "      <th>LR_MAE</th>\n",
       "    </tr>\n",
       "  </thead>\n",
       "  <tbody>\n",
       "    <tr>\n",
       "      <th>0</th>\n",
       "      <td>522.448884</td>\n",
       "      <td>398.759886</td>\n",
       "      <td>625.493983</td>\n",
       "    </tr>\n",
       "  </tbody>\n",
       "</table>\n",
       "</div>"
      ],
      "text/plain": [
       "       DT_MAE      RF_MAE      LR_MAE\n",
       "0  522.448884  398.759886  625.493983"
      ]
     },
     "execution_count": 54,
     "metadata": {},
     "output_type": "execute_result"
    }
   ],
   "source": [
    "errorReportDf"
   ]
  },
  {
   "cell_type": "code",
   "execution_count": 55,
   "metadata": {},
   "outputs": [
    {
     "data": {
      "text/plain": [
       "['HCLUS', 'PRO_PERCENT', 'HOLIDAY_NEW', 'PROMOTION_NEW']"
      ]
     },
     "execution_count": 55,
     "metadata": {},
     "output_type": "execute_result"
    }
   ],
   "source": [
    "features"
   ]
  },
  {
   "cell_type": "code",
   "execution_count": 56,
   "metadata": {},
   "outputs": [],
   "source": [
    "# 대휴일 1 소휴일 4\n",
    "userInputHCLUS = 1\n",
    "# 제품 할인 %\n",
    "userInputProPercent=0.5\n",
    "# 홀리데이 유무 Y= 1 N = 0\n",
    "userInputHoilidayYn = 1\n",
    "# 프로모션 유무 Y=1 N= 0\n",
    "userInputPromotionYn = 1"
   ]
  },
  {
   "cell_type": "code",
   "execution_count": 57,
   "metadata": {},
   "outputs": [],
   "source": [
    "futureData = pd.DataFrame([[ userInputHCLUS,\n",
    "              userInputProPercent,\n",
    "              userInputHoilidayYn,\n",
    "              userInputPromotionYn]]   )"
   ]
  },
  {
   "cell_type": "code",
   "execution_count": 58,
   "metadata": {},
   "outputs": [
    {
     "data": {
      "text/html": [
       "<div>\n",
       "<style scoped>\n",
       "    .dataframe tbody tr th:only-of-type {\n",
       "        vertical-align: middle;\n",
       "    }\n",
       "\n",
       "    .dataframe tbody tr th {\n",
       "        vertical-align: top;\n",
       "    }\n",
       "\n",
       "    .dataframe thead th {\n",
       "        text-align: right;\n",
       "    }\n",
       "</style>\n",
       "<table border=\"1\" class=\"dataframe\">\n",
       "  <thead>\n",
       "    <tr style=\"text-align: right;\">\n",
       "      <th></th>\n",
       "      <th>0</th>\n",
       "      <th>1</th>\n",
       "      <th>2</th>\n",
       "      <th>3</th>\n",
       "    </tr>\n",
       "  </thead>\n",
       "  <tbody>\n",
       "    <tr>\n",
       "      <th>0</th>\n",
       "      <td>1</td>\n",
       "      <td>0.5</td>\n",
       "      <td>1</td>\n",
       "      <td>1</td>\n",
       "    </tr>\n",
       "  </tbody>\n",
       "</table>\n",
       "</div>"
      ],
      "text/plain": [
       "   0    1  2  3\n",
       "0  1  0.5  1  1"
      ]
     },
     "execution_count": 58,
     "metadata": {},
     "output_type": "execute_result"
    }
   ],
   "source": [
    "futureData"
   ]
  },
  {
   "cell_type": "code",
   "execution_count": 59,
   "metadata": {},
   "outputs": [
    {
     "data": {
      "text/plain": [
       "array([2062.85714286])"
      ]
     },
     "execution_count": 59,
     "metadata": {},
     "output_type": "execute_result"
    }
   ],
   "source": [
    "# pickle 파일로 저장가능하다.\n",
    "model_dt.predict(futureData)"
   ]
  },
  {
   "cell_type": "code",
   "execution_count": 60,
   "metadata": {},
   "outputs": [
    {
     "data": {
      "text/plain": [
       "(85, 4)"
      ]
     },
     "execution_count": 60,
     "metadata": {},
     "output_type": "execute_result"
    }
   ],
   "source": [
    "trainingDataFeatures.shape"
   ]
  },
  {
   "cell_type": "code",
   "execution_count": 61,
   "metadata": {},
   "outputs": [],
   "source": [
    "treeStep1 = trainingDataFeatures.loc[trainingDataFeatures.PRO_PERCENT > 0.259]"
   ]
  },
  {
   "cell_type": "code",
   "execution_count": 62,
   "metadata": {},
   "outputs": [],
   "source": [
    "treeStep2 = treeStep1.loc[treeStep1.PRO_PERCENT > 0.294]"
   ]
  },
  {
   "cell_type": "code",
   "execution_count": 63,
   "metadata": {},
   "outputs": [],
   "source": [
    "treeStep3 = treeStep2.loc[treeStep2.HCLUS > 0.5]"
   ]
  },
  {
   "cell_type": "code",
   "execution_count": 64,
   "metadata": {},
   "outputs": [
    {
     "data": {
      "text/plain": [
       "Int64Index([77, 78, 79, 80, 81], dtype='int64')"
      ]
     },
     "execution_count": 64,
     "metadata": {},
     "output_type": "execute_result"
    }
   ],
   "source": [
    "treeStep3.index"
   ]
  },
  {
   "cell_type": "code",
   "execution_count": 65,
   "metadata": {},
   "outputs": [
    {
     "data": {
      "text/html": [
       "<div>\n",
       "<style scoped>\n",
       "    .dataframe tbody tr th:only-of-type {\n",
       "        vertical-align: middle;\n",
       "    }\n",
       "\n",
       "    .dataframe tbody tr th {\n",
       "        vertical-align: top;\n",
       "    }\n",
       "\n",
       "    .dataframe thead th {\n",
       "        text-align: right;\n",
       "    }\n",
       "</style>\n",
       "<table border=\"1\" class=\"dataframe\">\n",
       "  <thead>\n",
       "    <tr style=\"text-align: right;\">\n",
       "      <th></th>\n",
       "      <th>REGIONID</th>\n",
       "      <th>PRODUCTGROUP</th>\n",
       "      <th>PRODUCT</th>\n",
       "      <th>ITEM</th>\n",
       "      <th>YEARWEEK</th>\n",
       "      <th>YEAR</th>\n",
       "      <th>WEEK</th>\n",
       "      <th>QTY</th>\n",
       "      <th>HOLIDAY</th>\n",
       "      <th>HCLUS</th>\n",
       "      <th>PROMOTION</th>\n",
       "      <th>PRO_PERCENT</th>\n",
       "      <th>HOLIDAY_NEW</th>\n",
       "      <th>PROMOTION_NEW</th>\n",
       "    </tr>\n",
       "  </thead>\n",
       "  <tbody>\n",
       "    <tr>\n",
       "      <th>77</th>\n",
       "      <td>SEOUL_BANK_001</td>\n",
       "      <td>PG02</td>\n",
       "      <td>PRODUCT0010</td>\n",
       "      <td>ITEM0115</td>\n",
       "      <td>201625</td>\n",
       "      <td>2016</td>\n",
       "      <td>25</td>\n",
       "      <td>968.0</td>\n",
       "      <td>Y</td>\n",
       "      <td>1</td>\n",
       "      <td>Y</td>\n",
       "      <td>0.308584</td>\n",
       "      <td>1</td>\n",
       "      <td>1</td>\n",
       "    </tr>\n",
       "    <tr>\n",
       "      <th>78</th>\n",
       "      <td>SEOUL_BANK_001</td>\n",
       "      <td>PG02</td>\n",
       "      <td>PRODUCT0010</td>\n",
       "      <td>ITEM0115</td>\n",
       "      <td>201626</td>\n",
       "      <td>2016</td>\n",
       "      <td>26</td>\n",
       "      <td>1685.0</td>\n",
       "      <td>Y</td>\n",
       "      <td>1</td>\n",
       "      <td>Y</td>\n",
       "      <td>0.308584</td>\n",
       "      <td>1</td>\n",
       "      <td>1</td>\n",
       "    </tr>\n",
       "    <tr>\n",
       "      <th>79</th>\n",
       "      <td>SEOUL_BANK_001</td>\n",
       "      <td>PG02</td>\n",
       "      <td>PRODUCT0010</td>\n",
       "      <td>ITEM0115</td>\n",
       "      <td>201627</td>\n",
       "      <td>2016</td>\n",
       "      <td>27</td>\n",
       "      <td>1586.0</td>\n",
       "      <td>Y</td>\n",
       "      <td>1</td>\n",
       "      <td>Y</td>\n",
       "      <td>0.308584</td>\n",
       "      <td>1</td>\n",
       "      <td>1</td>\n",
       "    </tr>\n",
       "    <tr>\n",
       "      <th>80</th>\n",
       "      <td>SEOUL_BANK_001</td>\n",
       "      <td>PG02</td>\n",
       "      <td>PRODUCT0010</td>\n",
       "      <td>ITEM0115</td>\n",
       "      <td>201628</td>\n",
       "      <td>2016</td>\n",
       "      <td>28</td>\n",
       "      <td>1616.0</td>\n",
       "      <td>Y</td>\n",
       "      <td>1</td>\n",
       "      <td>Y</td>\n",
       "      <td>0.308584</td>\n",
       "      <td>1</td>\n",
       "      <td>1</td>\n",
       "    </tr>\n",
       "    <tr>\n",
       "      <th>81</th>\n",
       "      <td>SEOUL_BANK_001</td>\n",
       "      <td>PG02</td>\n",
       "      <td>PRODUCT0010</td>\n",
       "      <td>ITEM0115</td>\n",
       "      <td>201629</td>\n",
       "      <td>2016</td>\n",
       "      <td>29</td>\n",
       "      <td>1318.0</td>\n",
       "      <td>Y</td>\n",
       "      <td>1</td>\n",
       "      <td>Y</td>\n",
       "      <td>0.308584</td>\n",
       "      <td>1</td>\n",
       "      <td>1</td>\n",
       "    </tr>\n",
       "  </tbody>\n",
       "</table>\n",
       "</div>"
      ],
      "text/plain": [
       "          REGIONID PRODUCTGROUP      PRODUCT      ITEM  YEARWEEK  YEAR  WEEK  \\\n",
       "77  SEOUL_BANK_001         PG02  PRODUCT0010  ITEM0115    201625  2016    25   \n",
       "78  SEOUL_BANK_001         PG02  PRODUCT0010  ITEM0115    201626  2016    26   \n",
       "79  SEOUL_BANK_001         PG02  PRODUCT0010  ITEM0115    201627  2016    27   \n",
       "80  SEOUL_BANK_001         PG02  PRODUCT0010  ITEM0115    201628  2016    28   \n",
       "81  SEOUL_BANK_001         PG02  PRODUCT0010  ITEM0115    201629  2016    29   \n",
       "\n",
       "       QTY HOLIDAY  HCLUS PROMOTION  PRO_PERCENT  HOLIDAY_NEW  PROMOTION_NEW  \n",
       "77   968.0       Y      1         Y     0.308584            1              1  \n",
       "78  1685.0       Y      1         Y     0.308584            1              1  \n",
       "79  1586.0       Y      1         Y     0.308584            1              1  \n",
       "80  1616.0       Y      1         Y     0.308584            1              1  \n",
       "81  1318.0       Y      1         Y     0.308584            1              1  "
      ]
     },
     "execution_count": 65,
     "metadata": {},
     "output_type": "execute_result"
    }
   ],
   "source": [
    "featuresData.loc[  treeStep3.index ]"
   ]
  },
  {
   "cell_type": "code",
   "execution_count": 66,
   "metadata": {},
   "outputs": [
    {
     "data": {
      "text/plain": [
       "1434.6"
      ]
     },
     "execution_count": 66,
     "metadata": {},
     "output_type": "execute_result"
    }
   ],
   "source": [
    "trainingDataLabel.loc[treeStep3.index].QTY.mean()"
   ]
  },
  {
   "cell_type": "markdown",
   "metadata": {},
   "source": [
    "# graphviz 시각화"
   ]
  },
  {
   "cell_type": "code",
   "execution_count": 67,
   "metadata": {},
   "outputs": [
    {
     "data": {
      "image/svg+xml": [
       "<?xml version=\"1.0\" encoding=\"UTF-8\" standalone=\"no\"?>\r\n",
       "<!DOCTYPE svg PUBLIC \"-//W3C//DTD SVG 1.1//EN\"\r\n",
       " \"http://www.w3.org/Graphics/SVG/1.1/DTD/svg11.dtd\">\r\n",
       "<!-- Generated by graphviz version 2.47.2 (20210527.0053)\r\n",
       " -->\r\n",
       "<!-- Title: Tree Pages: 1 -->\r\n",
       "<svg width=\"1095pt\" height=\"581pt\"\r\n",
       " viewBox=\"0.00 0.00 1094.50 581.00\" xmlns=\"http://www.w3.org/2000/svg\" xmlns:xlink=\"http://www.w3.org/1999/xlink\">\r\n",
       "<g id=\"graph0\" class=\"graph\" transform=\"scale(1 1) rotate(0) translate(4 577)\">\r\n",
       "<title>Tree</title>\r\n",
       "<polygon fill=\"white\" stroke=\"transparent\" points=\"-4,4 -4,-577 1090.5,-577 1090.5,4 -4,4\"/>\r\n",
       "<!-- 0 -->\r\n",
       "<g id=\"node1\" class=\"node\">\r\n",
       "<title>0</title>\r\n",
       "<polygon fill=\"none\" stroke=\"black\" points=\"548.5,-573 429.5,-573 429.5,-505 548.5,-505 548.5,-573\"/>\r\n",
       "<text text-anchor=\"middle\" x=\"489\" y=\"-557.8\" font-family=\"Times New Roman,serif\" font-size=\"14.00\">X[1] &lt;= 0.224</text>\r\n",
       "<text text-anchor=\"middle\" x=\"489\" y=\"-542.8\" font-family=\"Times New Roman,serif\" font-size=\"14.00\">mse = 705743.893</text>\r\n",
       "<text text-anchor=\"middle\" x=\"489\" y=\"-527.8\" font-family=\"Times New Roman,serif\" font-size=\"14.00\">samples = 54</text>\r\n",
       "<text text-anchor=\"middle\" x=\"489\" y=\"-512.8\" font-family=\"Times New Roman,serif\" font-size=\"14.00\">value = 1091.035</text>\r\n",
       "</g>\r\n",
       "<!-- 1 -->\r\n",
       "<g id=\"node2\" class=\"node\">\r\n",
       "<title>1</title>\r\n",
       "<polygon fill=\"none\" stroke=\"black\" points=\"420.5,-469 301.5,-469 301.5,-401 420.5,-401 420.5,-469\"/>\r\n",
       "<text text-anchor=\"middle\" x=\"361\" y=\"-453.8\" font-family=\"Times New Roman,serif\" font-size=\"14.00\">X[3] &lt;= 0.5</text>\r\n",
       "<text text-anchor=\"middle\" x=\"361\" y=\"-438.8\" font-family=\"Times New Roman,serif\" font-size=\"14.00\">mse = 179791.215</text>\r\n",
       "<text text-anchor=\"middle\" x=\"361\" y=\"-423.8\" font-family=\"Times New Roman,serif\" font-size=\"14.00\">samples = 35</text>\r\n",
       "<text text-anchor=\"middle\" x=\"361\" y=\"-408.8\" font-family=\"Times New Roman,serif\" font-size=\"14.00\">value = 655.145</text>\r\n",
       "</g>\r\n",
       "<!-- 0&#45;&gt;1 -->\r\n",
       "<g id=\"edge1\" class=\"edge\">\r\n",
       "<title>0&#45;&gt;1</title>\r\n",
       "<path fill=\"none\" stroke=\"black\" d=\"M447.44,-504.88C435.71,-495.53 422.82,-485.26 410.65,-475.57\"/>\r\n",
       "<polygon fill=\"black\" stroke=\"black\" points=\"412.79,-472.79 402.79,-469.3 408.43,-478.27 412.79,-472.79\"/>\r\n",
       "<text text-anchor=\"middle\" x=\"405.6\" y=\"-490.44\" font-family=\"Times New Roman,serif\" font-size=\"14.00\">True</text>\r\n",
       "</g>\r\n",
       "<!-- 16 -->\r\n",
       "<g id=\"node17\" class=\"node\">\r\n",
       "<title>16</title>\r\n",
       "<polygon fill=\"none\" stroke=\"black\" points=\"684.5,-469 565.5,-469 565.5,-401 684.5,-401 684.5,-469\"/>\r\n",
       "<text text-anchor=\"middle\" x=\"625\" y=\"-453.8\" font-family=\"Times New Roman,serif\" font-size=\"14.00\">X[1] &lt;= 0.259</text>\r\n",
       "<text text-anchor=\"middle\" x=\"625\" y=\"-438.8\" font-family=\"Times New Roman,serif\" font-size=\"14.00\">mse = 683046.272</text>\r\n",
       "<text text-anchor=\"middle\" x=\"625\" y=\"-423.8\" font-family=\"Times New Roman,serif\" font-size=\"14.00\">samples = 19</text>\r\n",
       "<text text-anchor=\"middle\" x=\"625\" y=\"-408.8\" font-family=\"Times New Roman,serif\" font-size=\"14.00\">value = 1890.167</text>\r\n",
       "</g>\r\n",
       "<!-- 0&#45;&gt;16 -->\r\n",
       "<g id=\"edge16\" class=\"edge\">\r\n",
       "<title>0&#45;&gt;16</title>\r\n",
       "<path fill=\"none\" stroke=\"black\" d=\"M533.16,-504.88C545.63,-495.53 559.32,-485.26 572.24,-475.57\"/>\r\n",
       "<polygon fill=\"black\" stroke=\"black\" points=\"574.7,-478.1 580.6,-469.3 570.5,-472.5 574.7,-478.1\"/>\r\n",
       "<text text-anchor=\"middle\" x=\"577.07\" y=\"-490.35\" font-family=\"Times New Roman,serif\" font-size=\"14.00\">False</text>\r\n",
       "</g>\r\n",
       "<!-- 2 -->\r\n",
       "<g id=\"node3\" class=\"node\">\r\n",
       "<title>2</title>\r\n",
       "<polygon fill=\"none\" stroke=\"black\" points=\"223.5,-365 110.5,-365 110.5,-297 223.5,-297 223.5,-365\"/>\r\n",
       "<text text-anchor=\"middle\" x=\"167\" y=\"-349.8\" font-family=\"Times New Roman,serif\" font-size=\"14.00\">X[2] &lt;= 0.5</text>\r\n",
       "<text text-anchor=\"middle\" x=\"167\" y=\"-334.8\" font-family=\"Times New Roman,serif\" font-size=\"14.00\">mse = 61459.735</text>\r\n",
       "<text text-anchor=\"middle\" x=\"167\" y=\"-319.8\" font-family=\"Times New Roman,serif\" font-size=\"14.00\">samples = 15</text>\r\n",
       "<text text-anchor=\"middle\" x=\"167\" y=\"-304.8\" font-family=\"Times New Roman,serif\" font-size=\"14.00\">value = 343.269</text>\r\n",
       "</g>\r\n",
       "<!-- 1&#45;&gt;2 -->\r\n",
       "<g id=\"edge2\" class=\"edge\">\r\n",
       "<title>1&#45;&gt;2</title>\r\n",
       "<path fill=\"none\" stroke=\"black\" d=\"M301.48,-402.7C279.74,-391.28 255.04,-378.29 232.8,-366.59\"/>\r\n",
       "<polygon fill=\"black\" stroke=\"black\" points=\"234.24,-363.4 223.76,-361.84 230.98,-369.59 234.24,-363.4\"/>\r\n",
       "</g>\r\n",
       "<!-- 5 -->\r\n",
       "<g id=\"node6\" class=\"node\">\r\n",
       "<title>5</title>\r\n",
       "<polygon fill=\"none\" stroke=\"black\" points=\"420.5,-365 301.5,-365 301.5,-297 420.5,-297 420.5,-365\"/>\r\n",
       "<text text-anchor=\"middle\" x=\"361\" y=\"-349.8\" font-family=\"Times New Roman,serif\" font-size=\"14.00\">X[0] &lt;= 3.0</text>\r\n",
       "<text text-anchor=\"middle\" x=\"361\" y=\"-334.8\" font-family=\"Times New Roman,serif\" font-size=\"14.00\">mse = 120493.287</text>\r\n",
       "<text text-anchor=\"middle\" x=\"361\" y=\"-319.8\" font-family=\"Times New Roman,serif\" font-size=\"14.00\">samples = 20</text>\r\n",
       "<text text-anchor=\"middle\" x=\"361\" y=\"-304.8\" font-family=\"Times New Roman,serif\" font-size=\"14.00\">value = 934.759</text>\r\n",
       "</g>\r\n",
       "<!-- 1&#45;&gt;5 -->\r\n",
       "<g id=\"edge5\" class=\"edge\">\r\n",
       "<title>1&#45;&gt;5</title>\r\n",
       "<path fill=\"none\" stroke=\"black\" d=\"M361,-400.88C361,-392.78 361,-383.98 361,-375.47\"/>\r\n",
       "<polygon fill=\"black\" stroke=\"black\" points=\"364.5,-375.3 361,-365.3 357.5,-375.3 364.5,-375.3\"/>\r\n",
       "</g>\r\n",
       "<!-- 3 -->\r\n",
       "<g id=\"node4\" class=\"node\">\r\n",
       "<title>3</title>\r\n",
       "<polygon fill=\"none\" stroke=\"black\" points=\"106,-253.5 0,-253.5 0,-200.5 106,-200.5 106,-253.5\"/>\r\n",
       "<text text-anchor=\"middle\" x=\"53\" y=\"-238.3\" font-family=\"Times New Roman,serif\" font-size=\"14.00\">mse = 59435.28</text>\r\n",
       "<text text-anchor=\"middle\" x=\"53\" y=\"-223.3\" font-family=\"Times New Roman,serif\" font-size=\"14.00\">samples = 14</text>\r\n",
       "<text text-anchor=\"middle\" x=\"53\" y=\"-208.3\" font-family=\"Times New Roman,serif\" font-size=\"14.00\">value = 356.4</text>\r\n",
       "</g>\r\n",
       "<!-- 2&#45;&gt;3 -->\r\n",
       "<g id=\"edge3\" class=\"edge\">\r\n",
       "<title>2&#45;&gt;3</title>\r\n",
       "<path fill=\"none\" stroke=\"black\" d=\"M129.99,-296.88C116.84,-285.12 102.06,-271.89 88.99,-260.2\"/>\r\n",
       "<polygon fill=\"black\" stroke=\"black\" points=\"91.31,-257.58 81.52,-253.52 86.64,-262.8 91.31,-257.58\"/>\r\n",
       "</g>\r\n",
       "<!-- 4 -->\r\n",
       "<g id=\"node5\" class=\"node\">\r\n",
       "<title>4</title>\r\n",
       "<polygon fill=\"none\" stroke=\"black\" points=\"209.5,-253.5 124.5,-253.5 124.5,-200.5 209.5,-200.5 209.5,-253.5\"/>\r\n",
       "<text text-anchor=\"middle\" x=\"167\" y=\"-238.3\" font-family=\"Times New Roman,serif\" font-size=\"14.00\">mse = 0.0</text>\r\n",
       "<text text-anchor=\"middle\" x=\"167\" y=\"-223.3\" font-family=\"Times New Roman,serif\" font-size=\"14.00\">samples = 1</text>\r\n",
       "<text text-anchor=\"middle\" x=\"167\" y=\"-208.3\" font-family=\"Times New Roman,serif\" font-size=\"14.00\">value = 15.0</text>\r\n",
       "</g>\r\n",
       "<!-- 2&#45;&gt;4 -->\r\n",
       "<g id=\"edge4\" class=\"edge\">\r\n",
       "<title>2&#45;&gt;4</title>\r\n",
       "<path fill=\"none\" stroke=\"black\" d=\"M167,-296.88C167,-286.33 167,-274.6 167,-263.85\"/>\r\n",
       "<polygon fill=\"black\" stroke=\"black\" points=\"170.5,-263.52 167,-253.52 163.5,-263.52 170.5,-263.52\"/>\r\n",
       "</g>\r\n",
       "<!-- 6 -->\r\n",
       "<g id=\"node7\" class=\"node\">\r\n",
       "<title>6</title>\r\n",
       "<polygon fill=\"none\" stroke=\"black\" points=\"346.5,-261 227.5,-261 227.5,-193 346.5,-193 346.5,-261\"/>\r\n",
       "<text text-anchor=\"middle\" x=\"287\" y=\"-245.8\" font-family=\"Times New Roman,serif\" font-size=\"14.00\">X[1] &lt;= 0.209</text>\r\n",
       "<text text-anchor=\"middle\" x=\"287\" y=\"-230.8\" font-family=\"Times New Roman,serif\" font-size=\"14.00\">mse = 107783.633</text>\r\n",
       "<text text-anchor=\"middle\" x=\"287\" y=\"-215.8\" font-family=\"Times New Roman,serif\" font-size=\"14.00\">samples = 5</text>\r\n",
       "<text text-anchor=\"middle\" x=\"287\" y=\"-200.8\" font-family=\"Times New Roman,serif\" font-size=\"14.00\">value = 1132.286</text>\r\n",
       "</g>\r\n",
       "<!-- 5&#45;&gt;6 -->\r\n",
       "<g id=\"edge6\" class=\"edge\">\r\n",
       "<title>5&#45;&gt;6</title>\r\n",
       "<path fill=\"none\" stroke=\"black\" d=\"M336.97,-296.88C330.64,-288.15 323.73,-278.62 317.12,-269.51\"/>\r\n",
       "<polygon fill=\"black\" stroke=\"black\" points=\"319.86,-267.34 311.16,-261.3 314.2,-271.45 319.86,-267.34\"/>\r\n",
       "</g>\r\n",
       "<!-- 13 -->\r\n",
       "<g id=\"node14\" class=\"node\">\r\n",
       "<title>13</title>\r\n",
       "<polygon fill=\"none\" stroke=\"black\" points=\"483.5,-261 364.5,-261 364.5,-193 483.5,-193 483.5,-261\"/>\r\n",
       "<text text-anchor=\"middle\" x=\"424\" y=\"-245.8\" font-family=\"Times New Roman,serif\" font-size=\"14.00\">X[1] &lt;= 0.209</text>\r\n",
       "<text text-anchor=\"middle\" x=\"424\" y=\"-230.8\" font-family=\"Times New Roman,serif\" font-size=\"14.00\">mse = 108172.719</text>\r\n",
       "<text text-anchor=\"middle\" x=\"424\" y=\"-215.8\" font-family=\"Times New Roman,serif\" font-size=\"14.00\">samples = 15</text>\r\n",
       "<text text-anchor=\"middle\" x=\"424\" y=\"-200.8\" font-family=\"Times New Roman,serif\" font-size=\"14.00\">value = 871.909</text>\r\n",
       "</g>\r\n",
       "<!-- 5&#45;&gt;13 -->\r\n",
       "<g id=\"edge13\" class=\"edge\">\r\n",
       "<title>5&#45;&gt;13</title>\r\n",
       "<path fill=\"none\" stroke=\"black\" d=\"M381.45,-296.88C386.74,-288.33 392.49,-279.01 398.01,-270.07\"/>\r\n",
       "<polygon fill=\"black\" stroke=\"black\" points=\"401.16,-271.65 403.43,-261.3 395.2,-267.97 401.16,-271.65\"/>\r\n",
       "</g>\r\n",
       "<!-- 7 -->\r\n",
       "<g id=\"node8\" class=\"node\">\r\n",
       "<title>7</title>\r\n",
       "<polygon fill=\"none\" stroke=\"black\" points=\"217,-157 111,-157 111,-89 217,-89 217,-157\"/>\r\n",
       "<text text-anchor=\"middle\" x=\"164\" y=\"-141.8\" font-family=\"Times New Roman,serif\" font-size=\"14.00\">X[0] &lt;= 1.5</text>\r\n",
       "<text text-anchor=\"middle\" x=\"164\" y=\"-126.8\" font-family=\"Times New Roman,serif\" font-size=\"14.00\">mse = 176400.0</text>\r\n",
       "<text text-anchor=\"middle\" x=\"164\" y=\"-111.8\" font-family=\"Times New Roman,serif\" font-size=\"14.00\">samples = 2</text>\r\n",
       "<text text-anchor=\"middle\" x=\"164\" y=\"-96.8\" font-family=\"Times New Roman,serif\" font-size=\"14.00\">value = 1390.0</text>\r\n",
       "</g>\r\n",
       "<!-- 6&#45;&gt;7 -->\r\n",
       "<g id=\"edge7\" class=\"edge\">\r\n",
       "<title>6&#45;&gt;7</title>\r\n",
       "<path fill=\"none\" stroke=\"black\" d=\"M247.07,-192.88C235.89,-183.62 223.64,-173.45 212.05,-163.85\"/>\r\n",
       "<polygon fill=\"black\" stroke=\"black\" points=\"214.09,-160.99 204.16,-157.3 209.62,-166.38 214.09,-160.99\"/>\r\n",
       "</g>\r\n",
       "<!-- 10 -->\r\n",
       "<g id=\"node11\" class=\"node\">\r\n",
       "<title>10</title>\r\n",
       "<polygon fill=\"none\" stroke=\"black\" points=\"341,-157 235,-157 235,-89 341,-89 341,-157\"/>\r\n",
       "<text text-anchor=\"middle\" x=\"288\" y=\"-141.8\" font-family=\"Times New Roman,serif\" font-size=\"14.00\">X[0] &lt;= 1.5</text>\r\n",
       "<text text-anchor=\"middle\" x=\"288\" y=\"-126.8\" font-family=\"Times New Roman,serif\" font-size=\"14.00\">mse = 43143.76</text>\r\n",
       "<text text-anchor=\"middle\" x=\"288\" y=\"-111.8\" font-family=\"Times New Roman,serif\" font-size=\"14.00\">samples = 3</text>\r\n",
       "<text text-anchor=\"middle\" x=\"288\" y=\"-96.8\" font-family=\"Times New Roman,serif\" font-size=\"14.00\">value = 1029.2</text>\r\n",
       "</g>\r\n",
       "<!-- 6&#45;&gt;10 -->\r\n",
       "<g id=\"edge10\" class=\"edge\">\r\n",
       "<title>6&#45;&gt;10</title>\r\n",
       "<path fill=\"none\" stroke=\"black\" d=\"M287.32,-192.88C287.4,-184.78 287.49,-175.98 287.57,-167.47\"/>\r\n",
       "<polygon fill=\"black\" stroke=\"black\" points=\"291.08,-167.33 287.67,-157.3 284.08,-167.26 291.08,-167.33\"/>\r\n",
       "</g>\r\n",
       "<!-- 8 -->\r\n",
       "<g id=\"node9\" class=\"node\">\r\n",
       "<title>8</title>\r\n",
       "<polygon fill=\"none\" stroke=\"black\" points=\"99,-53 7,-53 7,0 99,0 99,-53\"/>\r\n",
       "<text text-anchor=\"middle\" x=\"53\" y=\"-37.8\" font-family=\"Times New Roman,serif\" font-size=\"14.00\">mse = 0.0</text>\r\n",
       "<text text-anchor=\"middle\" x=\"53\" y=\"-22.8\" font-family=\"Times New Roman,serif\" font-size=\"14.00\">samples = 1</text>\r\n",
       "<text text-anchor=\"middle\" x=\"53\" y=\"-7.8\" font-family=\"Times New Roman,serif\" font-size=\"14.00\">value = 970.0</text>\r\n",
       "</g>\r\n",
       "<!-- 7&#45;&gt;8 -->\r\n",
       "<g id=\"edge8\" class=\"edge\">\r\n",
       "<title>7&#45;&gt;8</title>\r\n",
       "<path fill=\"none\" stroke=\"black\" d=\"M125.18,-88.95C114.11,-79.53 102.07,-69.27 91.05,-59.89\"/>\r\n",
       "<polygon fill=\"black\" stroke=\"black\" points=\"93.11,-57.05 83.23,-53.24 88.58,-62.38 93.11,-57.05\"/>\r\n",
       "</g>\r\n",
       "<!-- 9 -->\r\n",
       "<g id=\"node10\" class=\"node\">\r\n",
       "<title>9</title>\r\n",
       "<polygon fill=\"none\" stroke=\"black\" points=\"215,-53 117,-53 117,0 215,0 215,-53\"/>\r\n",
       "<text text-anchor=\"middle\" x=\"166\" y=\"-37.8\" font-family=\"Times New Roman,serif\" font-size=\"14.00\">mse = 0.0</text>\r\n",
       "<text text-anchor=\"middle\" x=\"166\" y=\"-22.8\" font-family=\"Times New Roman,serif\" font-size=\"14.00\">samples = 1</text>\r\n",
       "<text text-anchor=\"middle\" x=\"166\" y=\"-7.8\" font-family=\"Times New Roman,serif\" font-size=\"14.00\">value = 1810.0</text>\r\n",
       "</g>\r\n",
       "<!-- 7&#45;&gt;9 -->\r\n",
       "<g id=\"edge9\" class=\"edge\">\r\n",
       "<title>7&#45;&gt;9</title>\r\n",
       "<path fill=\"none\" stroke=\"black\" d=\"M164.7,-88.95C164.87,-80.72 165.06,-71.85 165.24,-63.48\"/>\r\n",
       "<polygon fill=\"black\" stroke=\"black\" points=\"168.74,-63.31 165.46,-53.24 161.74,-63.16 168.74,-63.31\"/>\r\n",
       "</g>\r\n",
       "<!-- 11 -->\r\n",
       "<g id=\"node12\" class=\"node\">\r\n",
       "<title>11</title>\r\n",
       "<polygon fill=\"none\" stroke=\"black\" points=\"335,-53 237,-53 237,0 335,0 335,-53\"/>\r\n",
       "<text text-anchor=\"middle\" x=\"286\" y=\"-37.8\" font-family=\"Times New Roman,serif\" font-size=\"14.00\">mse = 3025.0</text>\r\n",
       "<text text-anchor=\"middle\" x=\"286\" y=\"-22.8\" font-family=\"Times New Roman,serif\" font-size=\"14.00\">samples = 2</text>\r\n",
       "<text text-anchor=\"middle\" x=\"286\" y=\"-7.8\" font-family=\"Times New Roman,serif\" font-size=\"14.00\">value = 1280.0</text>\r\n",
       "</g>\r\n",
       "<!-- 10&#45;&gt;11 -->\r\n",
       "<g id=\"edge11\" class=\"edge\">\r\n",
       "<title>10&#45;&gt;11</title>\r\n",
       "<path fill=\"none\" stroke=\"black\" d=\"M287.3,-88.95C287.13,-80.72 286.94,-71.85 286.76,-63.48\"/>\r\n",
       "<polygon fill=\"black\" stroke=\"black\" points=\"290.26,-63.16 286.54,-53.24 283.26,-63.31 290.26,-63.16\"/>\r\n",
       "</g>\r\n",
       "<!-- 12 -->\r\n",
       "<g id=\"node13\" class=\"node\">\r\n",
       "<title>12</title>\r\n",
       "<polygon fill=\"none\" stroke=\"black\" points=\"445,-53 353,-53 353,0 445,0 445,-53\"/>\r\n",
       "<text text-anchor=\"middle\" x=\"399\" y=\"-37.8\" font-family=\"Times New Roman,serif\" font-size=\"14.00\">mse = 0.0</text>\r\n",
       "<text text-anchor=\"middle\" x=\"399\" y=\"-22.8\" font-family=\"Times New Roman,serif\" font-size=\"14.00\">samples = 1</text>\r\n",
       "<text text-anchor=\"middle\" x=\"399\" y=\"-7.8\" font-family=\"Times New Roman,serif\" font-size=\"14.00\">value = 862.0</text>\r\n",
       "</g>\r\n",
       "<!-- 10&#45;&gt;12 -->\r\n",
       "<g id=\"edge12\" class=\"edge\">\r\n",
       "<title>10&#45;&gt;12</title>\r\n",
       "<path fill=\"none\" stroke=\"black\" d=\"M326.82,-88.95C337.89,-79.53 349.93,-69.27 360.95,-59.89\"/>\r\n",
       "<polygon fill=\"black\" stroke=\"black\" points=\"363.42,-62.38 368.77,-53.24 358.89,-57.05 363.42,-62.38\"/>\r\n",
       "</g>\r\n",
       "<!-- 14 -->\r\n",
       "<g id=\"node15\" class=\"node\">\r\n",
       "<title>14</title>\r\n",
       "<polygon fill=\"none\" stroke=\"black\" points=\"480.5,-149.5 361.5,-149.5 361.5,-96.5 480.5,-96.5 480.5,-149.5\"/>\r\n",
       "<text text-anchor=\"middle\" x=\"421\" y=\"-134.3\" font-family=\"Times New Roman,serif\" font-size=\"14.00\">mse = 133598.852</text>\r\n",
       "<text text-anchor=\"middle\" x=\"421\" y=\"-119.3\" font-family=\"Times New Roman,serif\" font-size=\"14.00\">samples = 8</text>\r\n",
       "<text text-anchor=\"middle\" x=\"421\" y=\"-104.3\" font-family=\"Times New Roman,serif\" font-size=\"14.00\">value = 942.615</text>\r\n",
       "</g>\r\n",
       "<!-- 13&#45;&gt;14 -->\r\n",
       "<g id=\"edge14\" class=\"edge\">\r\n",
       "<title>13&#45;&gt;14</title>\r\n",
       "<path fill=\"none\" stroke=\"black\" d=\"M423.03,-192.88C422.71,-182.22 422.36,-170.35 422.04,-159.52\"/>\r\n",
       "<polygon fill=\"black\" stroke=\"black\" points=\"425.54,-159.41 421.75,-149.52 418.55,-159.62 425.54,-159.41\"/>\r\n",
       "</g>\r\n",
       "<!-- 15 -->\r\n",
       "<g id=\"node16\" class=\"node\">\r\n",
       "<title>15</title>\r\n",
       "<polygon fill=\"none\" stroke=\"black\" points=\"611.5,-149.5 498.5,-149.5 498.5,-96.5 611.5,-96.5 611.5,-149.5\"/>\r\n",
       "<text text-anchor=\"middle\" x=\"555\" y=\"-134.3\" font-family=\"Times New Roman,serif\" font-size=\"14.00\">mse = 53793.951</text>\r\n",
       "<text text-anchor=\"middle\" x=\"555\" y=\"-119.3\" font-family=\"Times New Roman,serif\" font-size=\"14.00\">samples = 7</text>\r\n",
       "<text text-anchor=\"middle\" x=\"555\" y=\"-104.3\" font-family=\"Times New Roman,serif\" font-size=\"14.00\">value = 769.778</text>\r\n",
       "</g>\r\n",
       "<!-- 13&#45;&gt;15 -->\r\n",
       "<g id=\"edge15\" class=\"edge\">\r\n",
       "<title>13&#45;&gt;15</title>\r\n",
       "<path fill=\"none\" stroke=\"black\" d=\"M466.53,-192.88C481.79,-181.01 498.94,-167.65 514.06,-155.88\"/>\r\n",
       "<polygon fill=\"black\" stroke=\"black\" points=\"516.48,-158.43 522.22,-149.52 512.18,-152.9 516.48,-158.43\"/>\r\n",
       "</g>\r\n",
       "<!-- 17 -->\r\n",
       "<g id=\"node18\" class=\"node\">\r\n",
       "<title>17</title>\r\n",
       "<polygon fill=\"none\" stroke=\"black\" points=\"684.5,-365 565.5,-365 565.5,-297 684.5,-297 684.5,-365\"/>\r\n",
       "<text text-anchor=\"middle\" x=\"625\" y=\"-349.8\" font-family=\"Times New Roman,serif\" font-size=\"14.00\">X[0] &lt;= 2.5</text>\r\n",
       "<text text-anchor=\"middle\" x=\"625\" y=\"-334.8\" font-family=\"Times New Roman,serif\" font-size=\"14.00\">mse = 229003.243</text>\r\n",
       "<text text-anchor=\"middle\" x=\"625\" y=\"-319.8\" font-family=\"Times New Roman,serif\" font-size=\"14.00\">samples = 7</text>\r\n",
       "<text text-anchor=\"middle\" x=\"625\" y=\"-304.8\" font-family=\"Times New Roman,serif\" font-size=\"14.00\">value = 1409.083</text>\r\n",
       "</g>\r\n",
       "<!-- 16&#45;&gt;17 -->\r\n",
       "<g id=\"edge17\" class=\"edge\">\r\n",
       "<title>16&#45;&gt;17</title>\r\n",
       "<path fill=\"none\" stroke=\"black\" d=\"M625,-400.88C625,-392.78 625,-383.98 625,-375.47\"/>\r\n",
       "<polygon fill=\"black\" stroke=\"black\" points=\"628.5,-375.3 625,-365.3 621.5,-375.3 628.5,-375.3\"/>\r\n",
       "</g>\r\n",
       "<!-- 20 -->\r\n",
       "<g id=\"node21\" class=\"node\">\r\n",
       "<title>20</title>\r\n",
       "<polygon fill=\"none\" stroke=\"black\" points=\"888.5,-365 769.5,-365 769.5,-297 888.5,-297 888.5,-365\"/>\r\n",
       "<text text-anchor=\"middle\" x=\"829\" y=\"-349.8\" font-family=\"Times New Roman,serif\" font-size=\"14.00\">X[0] &lt;= 0.5</text>\r\n",
       "<text text-anchor=\"middle\" x=\"829\" y=\"-334.8\" font-family=\"Times New Roman,serif\" font-size=\"14.00\">mse = 728584.765</text>\r\n",
       "<text text-anchor=\"middle\" x=\"829\" y=\"-319.8\" font-family=\"Times New Roman,serif\" font-size=\"14.00\">samples = 12</text>\r\n",
       "<text text-anchor=\"middle\" x=\"829\" y=\"-304.8\" font-family=\"Times New Roman,serif\" font-size=\"14.00\">value = 2210.889</text>\r\n",
       "</g>\r\n",
       "<!-- 16&#45;&gt;20 -->\r\n",
       "<g id=\"edge20\" class=\"edge\">\r\n",
       "<title>16&#45;&gt;20</title>\r\n",
       "<path fill=\"none\" stroke=\"black\" d=\"M684.55,-404.22C708.23,-392.39 735.61,-378.7 760.13,-366.44\"/>\r\n",
       "<polygon fill=\"black\" stroke=\"black\" points=\"761.99,-369.42 769.37,-361.81 758.86,-363.16 761.99,-369.42\"/>\r\n",
       "</g>\r\n",
       "<!-- 18 -->\r\n",
       "<g id=\"node19\" class=\"node\">\r\n",
       "<title>18</title>\r\n",
       "<polygon fill=\"none\" stroke=\"black\" points=\"614,-253.5 502,-253.5 502,-200.5 614,-200.5 614,-253.5\"/>\r\n",
       "<text text-anchor=\"middle\" x=\"558\" y=\"-238.3\" font-family=\"Times New Roman,serif\" font-size=\"14.00\">mse = 1605.556</text>\r\n",
       "<text text-anchor=\"middle\" x=\"558\" y=\"-223.3\" font-family=\"Times New Roman,serif\" font-size=\"14.00\">samples = 2</text>\r\n",
       "<text text-anchor=\"middle\" x=\"558\" y=\"-208.3\" font-family=\"Times New Roman,serif\" font-size=\"14.00\">value = 1778.333</text>\r\n",
       "</g>\r\n",
       "<!-- 17&#45;&gt;18 -->\r\n",
       "<g id=\"edge18\" class=\"edge\">\r\n",
       "<title>17&#45;&gt;18</title>\r\n",
       "<path fill=\"none\" stroke=\"black\" d=\"M603.25,-296.88C595.95,-285.78 587.8,-273.37 580.45,-262.18\"/>\r\n",
       "<polygon fill=\"black\" stroke=\"black\" points=\"583.18,-259.96 574.76,-253.52 577.33,-263.8 583.18,-259.96\"/>\r\n",
       "</g>\r\n",
       "<!-- 19 -->\r\n",
       "<g id=\"node20\" class=\"node\">\r\n",
       "<title>19</title>\r\n",
       "<polygon fill=\"none\" stroke=\"black\" points=\"751.5,-253.5 632.5,-253.5 632.5,-200.5 751.5,-200.5 751.5,-253.5\"/>\r\n",
       "<text text-anchor=\"middle\" x=\"692\" y=\"-238.3\" font-family=\"Times New Roman,serif\" font-size=\"14.00\">mse = 183709.806</text>\r\n",
       "<text text-anchor=\"middle\" x=\"692\" y=\"-223.3\" font-family=\"Times New Roman,serif\" font-size=\"14.00\">samples = 5</text>\r\n",
       "<text text-anchor=\"middle\" x=\"692\" y=\"-208.3\" font-family=\"Times New Roman,serif\" font-size=\"14.00\">value = 1039.833</text>\r\n",
       "</g>\r\n",
       "<!-- 17&#45;&gt;19 -->\r\n",
       "<g id=\"edge19\" class=\"edge\">\r\n",
       "<title>17&#45;&gt;19</title>\r\n",
       "<path fill=\"none\" stroke=\"black\" d=\"M646.75,-296.88C654.05,-285.78 662.2,-273.37 669.55,-262.18\"/>\r\n",
       "<polygon fill=\"black\" stroke=\"black\" points=\"672.67,-263.8 675.24,-253.52 666.82,-259.96 672.67,-263.8\"/>\r\n",
       "</g>\r\n",
       "<!-- 21 -->\r\n",
       "<g id=\"node22\" class=\"node\">\r\n",
       "<title>21</title>\r\n",
       "<polygon fill=\"none\" stroke=\"black\" points=\"888.5,-253.5 769.5,-253.5 769.5,-200.5 888.5,-200.5 888.5,-253.5\"/>\r\n",
       "<text text-anchor=\"middle\" x=\"829\" y=\"-238.3\" font-family=\"Times New Roman,serif\" font-size=\"14.00\">mse = 1098358.25</text>\r\n",
       "<text text-anchor=\"middle\" x=\"829\" y=\"-223.3\" font-family=\"Times New Roman,serif\" font-size=\"14.00\">samples = 3</text>\r\n",
       "<text text-anchor=\"middle\" x=\"829\" y=\"-208.3\" font-family=\"Times New Roman,serif\" font-size=\"14.00\">value = 2648.5</text>\r\n",
       "</g>\r\n",
       "<!-- 20&#45;&gt;21 -->\r\n",
       "<g id=\"edge21\" class=\"edge\">\r\n",
       "<title>20&#45;&gt;21</title>\r\n",
       "<path fill=\"none\" stroke=\"black\" d=\"M829,-296.88C829,-286.33 829,-274.6 829,-263.85\"/>\r\n",
       "<polygon fill=\"black\" stroke=\"black\" points=\"832.5,-263.52 829,-253.52 825.5,-263.52 832.5,-263.52\"/>\r\n",
       "</g>\r\n",
       "<!-- 22 -->\r\n",
       "<g id=\"node23\" class=\"node\">\r\n",
       "<title>22</title>\r\n",
       "<polygon fill=\"none\" stroke=\"black\" points=\"1019.5,-261 906.5,-261 906.5,-193 1019.5,-193 1019.5,-261\"/>\r\n",
       "<text text-anchor=\"middle\" x=\"963\" y=\"-245.8\" font-family=\"Times New Roman,serif\" font-size=\"14.00\">X[1] &lt;= 0.294</text>\r\n",
       "<text text-anchor=\"middle\" x=\"963\" y=\"-230.8\" font-family=\"Times New Roman,serif\" font-size=\"14.00\">mse = 552586.98</text>\r\n",
       "<text text-anchor=\"middle\" x=\"963\" y=\"-215.8\" font-family=\"Times New Roman,serif\" font-size=\"14.00\">samples = 9</text>\r\n",
       "<text text-anchor=\"middle\" x=\"963\" y=\"-200.8\" font-family=\"Times New Roman,serif\" font-size=\"14.00\">value = 2085.857</text>\r\n",
       "</g>\r\n",
       "<!-- 20&#45;&gt;22 -->\r\n",
       "<g id=\"edge22\" class=\"edge\">\r\n",
       "<title>20&#45;&gt;22</title>\r\n",
       "<path fill=\"none\" stroke=\"black\" d=\"M872.51,-296.88C884.79,-287.53 898.29,-277.26 911.02,-267.57\"/>\r\n",
       "<polygon fill=\"black\" stroke=\"black\" points=\"913.42,-270.14 919.25,-261.3 909.18,-264.57 913.42,-270.14\"/>\r\n",
       "</g>\r\n",
       "<!-- 23 -->\r\n",
       "<g id=\"node24\" class=\"node\">\r\n",
       "<title>23</title>\r\n",
       "<polygon fill=\"none\" stroke=\"black\" points=\"955.5,-157 836.5,-157 836.5,-89 955.5,-89 955.5,-157\"/>\r\n",
       "<text text-anchor=\"middle\" x=\"896\" y=\"-141.8\" font-family=\"Times New Roman,serif\" font-size=\"14.00\">X[2] &lt;= 0.5</text>\r\n",
       "<text text-anchor=\"middle\" x=\"896\" y=\"-126.8\" font-family=\"Times New Roman,serif\" font-size=\"14.00\">mse = 578442.793</text>\r\n",
       "<text text-anchor=\"middle\" x=\"896\" y=\"-111.8\" font-family=\"Times New Roman,serif\" font-size=\"14.00\">samples = 7</text>\r\n",
       "<text text-anchor=\"middle\" x=\"896\" y=\"-96.8\" font-family=\"Times New Roman,serif\" font-size=\"14.00\">value = 2246.545</text>\r\n",
       "</g>\r\n",
       "<!-- 22&#45;&gt;23 -->\r\n",
       "<g id=\"edge23\" class=\"edge\">\r\n",
       "<title>22&#45;&gt;23</title>\r\n",
       "<path fill=\"none\" stroke=\"black\" d=\"M941.25,-192.88C935.57,-184.24 929.38,-174.82 923.45,-165.79\"/>\r\n",
       "<polygon fill=\"black\" stroke=\"black\" points=\"926.29,-163.74 917.87,-157.3 920.44,-167.58 926.29,-163.74\"/>\r\n",
       "</g>\r\n",
       "<!-- 26 -->\r\n",
       "<g id=\"node27\" class=\"node\">\r\n",
       "<title>26</title>\r\n",
       "<polygon fill=\"none\" stroke=\"black\" points=\"1086.5,-149.5 973.5,-149.5 973.5,-96.5 1086.5,-96.5 1086.5,-149.5\"/>\r\n",
       "<text text-anchor=\"middle\" x=\"1030\" y=\"-134.3\" font-family=\"Times New Roman,serif\" font-size=\"14.00\">mse = 15960.889</text>\r\n",
       "<text text-anchor=\"middle\" x=\"1030\" y=\"-119.3\" font-family=\"Times New Roman,serif\" font-size=\"14.00\">samples = 2</text>\r\n",
       "<text text-anchor=\"middle\" x=\"1030\" y=\"-104.3\" font-family=\"Times New Roman,serif\" font-size=\"14.00\">value = 1496.667</text>\r\n",
       "</g>\r\n",
       "<!-- 22&#45;&gt;26 -->\r\n",
       "<g id=\"edge26\" class=\"edge\">\r\n",
       "<title>22&#45;&gt;26</title>\r\n",
       "<path fill=\"none\" stroke=\"black\" d=\"M984.75,-192.88C992.05,-181.78 1000.2,-169.37 1007.55,-158.18\"/>\r\n",
       "<polygon fill=\"black\" stroke=\"black\" points=\"1010.67,-159.8 1013.24,-149.52 1004.82,-155.96 1010.67,-159.8\"/>\r\n",
       "</g>\r\n",
       "<!-- 24 -->\r\n",
       "<g id=\"node25\" class=\"node\">\r\n",
       "<title>24</title>\r\n",
       "<polygon fill=\"none\" stroke=\"black\" points=\"885.5,-53 772.5,-53 772.5,0 885.5,0 885.5,-53\"/>\r\n",
       "<text text-anchor=\"middle\" x=\"829\" y=\"-37.8\" font-family=\"Times New Roman,serif\" font-size=\"14.00\">mse = 218979.04</text>\r\n",
       "<text text-anchor=\"middle\" x=\"829\" y=\"-22.8\" font-family=\"Times New Roman,serif\" font-size=\"14.00\">samples = 3</text>\r\n",
       "<text text-anchor=\"middle\" x=\"829\" y=\"-7.8\" font-family=\"Times New Roman,serif\" font-size=\"14.00\">value = 1902.6</text>\r\n",
       "</g>\r\n",
       "<!-- 23&#45;&gt;24 -->\r\n",
       "<g id=\"edge24\" class=\"edge\">\r\n",
       "<title>23&#45;&gt;24</title>\r\n",
       "<path fill=\"none\" stroke=\"black\" d=\"M872.57,-88.95C866.28,-80.07 859.46,-70.46 853.13,-61.54\"/>\r\n",
       "<polygon fill=\"black\" stroke=\"black\" points=\"855.89,-59.37 847.25,-53.24 850.18,-63.42 855.89,-59.37\"/>\r\n",
       "</g>\r\n",
       "<!-- 25 -->\r\n",
       "<g id=\"node26\" class=\"node\">\r\n",
       "<title>25</title>\r\n",
       "<polygon fill=\"none\" stroke=\"black\" points=\"1022.5,-53 903.5,-53 903.5,0 1022.5,0 1022.5,-53\"/>\r\n",
       "<text text-anchor=\"middle\" x=\"963\" y=\"-37.8\" font-family=\"Times New Roman,serif\" font-size=\"14.00\">mse = 697262.139</text>\r\n",
       "<text text-anchor=\"middle\" x=\"963\" y=\"-22.8\" font-family=\"Times New Roman,serif\" font-size=\"14.00\">samples = 4</text>\r\n",
       "<text text-anchor=\"middle\" x=\"963\" y=\"-7.8\" font-family=\"Times New Roman,serif\" font-size=\"14.00\">value = 2533.167</text>\r\n",
       "</g>\r\n",
       "<!-- 23&#45;&gt;25 -->\r\n",
       "<g id=\"edge25\" class=\"edge\">\r\n",
       "<title>23&#45;&gt;25</title>\r\n",
       "<path fill=\"none\" stroke=\"black\" d=\"M919.43,-88.95C925.72,-80.07 932.54,-70.46 938.87,-61.54\"/>\r\n",
       "<polygon fill=\"black\" stroke=\"black\" points=\"941.82,-63.42 944.75,-53.24 936.11,-59.37 941.82,-63.42\"/>\r\n",
       "</g>\r\n",
       "</g>\r\n",
       "</svg>\r\n"
      ],
      "text/plain": [
       "<graphviz.files.Source at 0x1f26aba5610>"
      ]
     },
     "metadata": {},
     "output_type": "display_data"
    }
   ],
   "source": [
    "from sklearn.tree import export_graphviz\n",
    "import graphviz\n",
    "\n",
    "export_graphviz(decision_tree=model_rf.estimators_[30],\n",
    "                out_file=\"tree.dot\",\n",
    "                impurity=True)\n",
    "with open(\"tree.dot\") as f:\n",
    "    dot_graph = f.read()\n",
    "display(graphviz.Source(dot_graph))"
   ]
  },
  {
   "cell_type": "markdown",
   "metadata": {},
   "source": [
    "# 모델 저장"
   ]
  },
  {
   "cell_type": "code",
   "execution_count": 82,
   "metadata": {},
   "outputs": [],
   "source": [
    "import pickle"
   ]
  },
  {
   "cell_type": "code",
   "execution_count": 83,
   "metadata": {},
   "outputs": [],
   "source": [
    "filename = 'finalized_model.sav'\n",
    "pickle.dump(model_dt, open(filename, 'wb'))"
   ]
  }
 ],
 "metadata": {
  "kernelspec": {
   "display_name": "Python 3",
   "language": "python",
   "name": "python3"
  },
  "language_info": {
   "codemirror_mode": {
    "name": "ipython",
    "version": 3
   },
   "file_extension": ".py",
   "mimetype": "text/x-python",
   "name": "python",
   "nbconvert_exporter": "python",
   "pygments_lexer": "ipython3",
   "version": "3.8.5"
  }
 },
 "nbformat": 4,
 "nbformat_minor": 4
}
