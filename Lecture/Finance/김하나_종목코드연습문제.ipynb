{
 "cells": [
  {
   "cell_type": "code",
   "execution_count": 34,
   "metadata": {},
   "outputs": [],
   "source": [
    "import urllib.parse\n",
    "\n",
    "import pandas as pd"
   ]
  },
  {
   "cell_type": "code",
   "execution_count": 35,
   "metadata": {},
   "outputs": [],
   "source": [
    "MARKET_CODE_DICT = {\n",
    "\n",
    "    'kospi': 'stockMkt',\n",
    "\n",
    "    'kosdaq': 'kosdaqMkt',\n",
    "\n",
    "    'konex': 'konexMkt'\n",
    "\n",
    "}\n",
    "\n",
    "DOWNLOAD_URL = 'https://kind.krx.co.kr/corpgeneral/corpList.do'"
   ]
  },
  {
   "cell_type": "code",
   "execution_count": 36,
   "metadata": {},
   "outputs": [],
   "source": [
    "def zeroFill(columnValue):\n",
    "\n",
    "    columnValue = str(columnValue)\n",
    "    #앞을 0으로 채워라 제로필\n",
    "    outValue = columnValue.zfill(6)  \n",
    "\n",
    "    return outValue"
   ]
  },
  {
   "cell_type": "code",
   "execution_count": 37,
   "metadata": {},
   "outputs": [],
   "source": [
    "def get_stock_codes(market=None, delisted=False):\n",
    "\n",
    "    params = {'method': 'download'}\n",
    "\n",
    "    if market.lower() in MARKET_CODE_DICT:\n",
    "\n",
    "        ## marketType 키 추가\n",
    "\n",
    "        params['marketType'] = MARKET_CODE_DICT[market]\n",
    "\n",
    "        print(market.lower()+\" market key is exist\")\n",
    "\n",
    "    else:\n",
    "\n",
    "        print(\"invalid market\")\n",
    "\n",
    "    # make url  key=value & key = value\n",
    "\n",
    "    params_string = urllib.parse.urlencode(params)\n",
    "\n",
    "    request_url = DOWNLOAD_URL+\"?\"+params_string\n",
    "\n",
    "    df = pd.read_html(request_url)[0]\n",
    "\n",
    "    df[\"종목코드\"] = df.종목코드.apply(zeroFill)\n",
    "#     df[\"종목코드\"] = df.종목코드.map('{:06d}'.format) # 동일 결과\n",
    " \n",
    "    return df"
   ]
  },
  {
   "cell_type": "code",
   "execution_count": 38,
   "metadata": {},
   "outputs": [
    {
     "name": "stdout",
     "output_type": "stream",
     "text": [
      "kospi market key is exist\n"
     ]
    },
    {
     "data": {
      "text/html": [
       "<div>\n",
       "<style scoped>\n",
       "    .dataframe tbody tr th:only-of-type {\n",
       "        vertical-align: middle;\n",
       "    }\n",
       "\n",
       "    .dataframe tbody tr th {\n",
       "        vertical-align: top;\n",
       "    }\n",
       "\n",
       "    .dataframe thead th {\n",
       "        text-align: right;\n",
       "    }\n",
       "</style>\n",
       "<table border=\"1\" class=\"dataframe\">\n",
       "  <thead>\n",
       "    <tr style=\"text-align: right;\">\n",
       "      <th></th>\n",
       "      <th>회사명</th>\n",
       "      <th>종목코드</th>\n",
       "      <th>업종</th>\n",
       "      <th>주요제품</th>\n",
       "      <th>상장일</th>\n",
       "      <th>결산월</th>\n",
       "      <th>대표자명</th>\n",
       "      <th>홈페이지</th>\n",
       "      <th>지역</th>\n",
       "    </tr>\n",
       "  </thead>\n",
       "  <tbody>\n",
       "    <tr>\n",
       "      <th>0</th>\n",
       "      <td>DRB동일</td>\n",
       "      <td>004840</td>\n",
       "      <td>고무제품 제조업</td>\n",
       "      <td>고무벨트(V벨트,콘베이어벨트,평벨트),프라스틱제품 제조,판매</td>\n",
       "      <td>1976-05-21</td>\n",
       "      <td>12월</td>\n",
       "      <td>류영식</td>\n",
       "      <td>http://drbworld.com</td>\n",
       "      <td>부산광역시</td>\n",
       "    </tr>\n",
       "    <tr>\n",
       "      <th>1</th>\n",
       "      <td>DSR</td>\n",
       "      <td>155660</td>\n",
       "      <td>1차 비철금속 제조업</td>\n",
       "      <td>합섬섬유로프</td>\n",
       "      <td>2013-05-15</td>\n",
       "      <td>12월</td>\n",
       "      <td>홍석빈</td>\n",
       "      <td>http://www.dsr.com</td>\n",
       "      <td>부산광역시</td>\n",
       "    </tr>\n",
       "    <tr>\n",
       "      <th>2</th>\n",
       "      <td>GS글로벌</td>\n",
       "      <td>001250</td>\n",
       "      <td>상품 종합 도매업</td>\n",
       "      <td>수출입업(시멘트,철강금속,전기전자,섬유,기계화학),상품중개,광업,채석업/하수처리 서...</td>\n",
       "      <td>1976-06-26</td>\n",
       "      <td>12월</td>\n",
       "      <td>김태형</td>\n",
       "      <td>http://www.gsgcorp.com</td>\n",
       "      <td>서울특별시</td>\n",
       "    </tr>\n",
       "    <tr>\n",
       "      <th>3</th>\n",
       "      <td>HDC현대산업개발</td>\n",
       "      <td>294870</td>\n",
       "      <td>건물 건설업</td>\n",
       "      <td>외주주택, 자체공사, 일반건축, 토목 등</td>\n",
       "      <td>2018-06-12</td>\n",
       "      <td>12월</td>\n",
       "      <td>권순호, 정경구</td>\n",
       "      <td>http://www.hdc-dvp.com</td>\n",
       "      <td>서울특별시</td>\n",
       "    </tr>\n",
       "    <tr>\n",
       "      <th>4</th>\n",
       "      <td>KEC</td>\n",
       "      <td>092220</td>\n",
       "      <td>반도체 제조업</td>\n",
       "      <td>반도체 제조</td>\n",
       "      <td>2006-10-16</td>\n",
       "      <td>12월</td>\n",
       "      <td>박남규 김학남</td>\n",
       "      <td>http://www.kec.co.kr</td>\n",
       "      <td>서울특별시</td>\n",
       "    </tr>\n",
       "    <tr>\n",
       "      <th>...</th>\n",
       "      <td>...</td>\n",
       "      <td>...</td>\n",
       "      <td>...</td>\n",
       "      <td>...</td>\n",
       "      <td>...</td>\n",
       "      <td>...</td>\n",
       "      <td>...</td>\n",
       "      <td>...</td>\n",
       "      <td>...</td>\n",
       "    </tr>\n",
       "    <tr>\n",
       "      <th>95</th>\n",
       "      <td>SK렌터카</td>\n",
       "      <td>068400</td>\n",
       "      <td>운송장비 임대업</td>\n",
       "      <td>승용자동차 임대</td>\n",
       "      <td>2012-07-27</td>\n",
       "      <td>12월</td>\n",
       "      <td>황일문</td>\n",
       "      <td>http://www.skcarrental.com</td>\n",
       "      <td>서울특별시</td>\n",
       "    </tr>\n",
       "    <tr>\n",
       "      <th>96</th>\n",
       "      <td>강원랜드</td>\n",
       "      <td>035250</td>\n",
       "      <td>유원지 및 기타 오락관련 서비스업</td>\n",
       "      <td>카지노,관광호텔,골프장,스키장,체육시설 운영</td>\n",
       "      <td>2003-09-04</td>\n",
       "      <td>12월</td>\n",
       "      <td>Lee, Sam-Geol</td>\n",
       "      <td>http://kangwonland.high1.com</td>\n",
       "      <td>강원도</td>\n",
       "    </tr>\n",
       "    <tr>\n",
       "      <th>97</th>\n",
       "      <td>교보증권</td>\n",
       "      <td>030610</td>\n",
       "      <td>금융 지원 서비스업</td>\n",
       "      <td>유가증권 매매,중개,대리,인수</td>\n",
       "      <td>2002-07-18</td>\n",
       "      <td>12월</td>\n",
       "      <td>박봉권, 이석기 (각자대표)</td>\n",
       "      <td>http://www.iprovest.com</td>\n",
       "      <td>서울특별시</td>\n",
       "    </tr>\n",
       "    <tr>\n",
       "      <th>98</th>\n",
       "      <td>금강공업</td>\n",
       "      <td>014280</td>\n",
       "      <td>1차 철강 제조업</td>\n",
       "      <td>건설가설재,강관,거푸집 제조,판매</td>\n",
       "      <td>1988-09-10</td>\n",
       "      <td>12월</td>\n",
       "      <td>전장열, 이범호 (각자 대표이사)</td>\n",
       "      <td>http://www.kumkangkind.com</td>\n",
       "      <td>부산광역시</td>\n",
       "    </tr>\n",
       "    <tr>\n",
       "      <th>99</th>\n",
       "      <td>금호건설</td>\n",
       "      <td>002990</td>\n",
       "      <td>건물 건설업</td>\n",
       "      <td>종합건설/여객운송,관광/부동산 임대,분양</td>\n",
       "      <td>1976-06-26</td>\n",
       "      <td>12월</td>\n",
       "      <td>서재환</td>\n",
       "      <td>http://www.kumhoenc.com</td>\n",
       "      <td>전라남도</td>\n",
       "    </tr>\n",
       "  </tbody>\n",
       "</table>\n",
       "<p>100 rows × 9 columns</p>\n",
       "</div>"
      ],
      "text/plain": [
       "          회사명    종목코드                  업종  \\\n",
       "0       DRB동일  004840            고무제품 제조업   \n",
       "1         DSR  155660         1차 비철금속 제조업   \n",
       "2       GS글로벌  001250           상품 종합 도매업   \n",
       "3   HDC현대산업개발  294870              건물 건설업   \n",
       "4         KEC  092220             반도체 제조업   \n",
       "..        ...     ...                 ...   \n",
       "95      SK렌터카  068400            운송장비 임대업   \n",
       "96       강원랜드  035250  유원지 및 기타 오락관련 서비스업   \n",
       "97       교보증권  030610          금융 지원 서비스업   \n",
       "98       금강공업  014280           1차 철강 제조업   \n",
       "99       금호건설  002990              건물 건설업   \n",
       "\n",
       "                                                 주요제품         상장일  결산월  \\\n",
       "0                   고무벨트(V벨트,콘베이어벨트,평벨트),프라스틱제품 제조,판매  1976-05-21  12월   \n",
       "1                                              합섬섬유로프  2013-05-15  12월   \n",
       "2   수출입업(시멘트,철강금속,전기전자,섬유,기계화학),상품중개,광업,채석업/하수처리 서...  1976-06-26  12월   \n",
       "3                              외주주택, 자체공사, 일반건축, 토목 등  2018-06-12  12월   \n",
       "4                                              반도체 제조  2006-10-16  12월   \n",
       "..                                                ...         ...  ...   \n",
       "95                                           승용자동차 임대  2012-07-27  12월   \n",
       "96                           카지노,관광호텔,골프장,스키장,체육시설 운영  2003-09-04  12월   \n",
       "97                                   유가증권 매매,중개,대리,인수  2002-07-18  12월   \n",
       "98                                 건설가설재,강관,거푸집 제조,판매  1988-09-10  12월   \n",
       "99                             종합건설/여객운송,관광/부동산 임대,분양  1976-06-26  12월   \n",
       "\n",
       "                  대표자명                          홈페이지     지역  \n",
       "0                  류영식           http://drbworld.com  부산광역시  \n",
       "1                  홍석빈            http://www.dsr.com  부산광역시  \n",
       "2                  김태형        http://www.gsgcorp.com  서울특별시  \n",
       "3             권순호, 정경구        http://www.hdc-dvp.com  서울특별시  \n",
       "4              박남규 김학남          http://www.kec.co.kr  서울특별시  \n",
       "..                 ...                           ...    ...  \n",
       "95                 황일문    http://www.skcarrental.com  서울특별시  \n",
       "96       Lee, Sam-Geol  http://kangwonland.high1.com    강원도  \n",
       "97     박봉권, 이석기 (각자대표)       http://www.iprovest.com  서울특별시  \n",
       "98  전장열, 이범호 (각자 대표이사)    http://www.kumkangkind.com  부산광역시  \n",
       "99                 서재환       http://www.kumhoenc.com   전라남도  \n",
       "\n",
       "[100 rows x 9 columns]"
      ]
     },
     "execution_count": 38,
     "metadata": {},
     "output_type": "execute_result"
    }
   ],
   "source": [
    "stocks = get_stock_codes('kospi')\n",
    "\n",
    "stocks.head(100)"
   ]
  },
  {
   "cell_type": "code",
   "execution_count": 48,
   "metadata": {},
   "outputs": [
    {
     "name": "stdout",
     "output_type": "stream",
     "text": [
      "DRB동일\n",
      "004840\n"
     ]
    }
   ],
   "source": [
    "stock_code = stocks.iloc[0]['종목코드']\n",
    "stock_name = stocks.iloc[0]['회사명']\n",
    "print(stock_name)\n",
    "print(stock_code)"
   ]
  },
  {
   "cell_type": "code",
   "execution_count": 58,
   "metadata": {},
   "outputs": [
    {
     "data": {
      "text/plain": [
       "'005930'"
      ]
     },
     "execution_count": 58,
     "metadata": {},
     "output_type": "execute_result"
    }
   ],
   "source": [
    "result = stocks[stocks['회사명'] == '삼성전자'].iloc[0]['종목코드']\n",
    "result"
   ]
  },
  {
   "cell_type": "code",
   "execution_count": null,
   "metadata": {},
   "outputs": [],
   "source": []
  },
  {
   "cell_type": "code",
   "execution_count": null,
   "metadata": {},
   "outputs": [],
   "source": []
  },
  {
   "cell_type": "code",
   "execution_count": null,
   "metadata": {},
   "outputs": [],
   "source": []
  },
  {
   "cell_type": "code",
   "execution_count": null,
   "metadata": {},
   "outputs": [],
   "source": []
  },
  {
   "cell_type": "code",
   "execution_count": null,
   "metadata": {},
   "outputs": [],
   "source": []
  },
  {
   "cell_type": "code",
   "execution_count": null,
   "metadata": {},
   "outputs": [],
   "source": []
  },
  {
   "cell_type": "code",
   "execution_count": null,
   "metadata": {},
   "outputs": [],
   "source": []
  },
  {
   "cell_type": "code",
   "execution_count": null,
   "metadata": {},
   "outputs": [],
   "source": []
  },
  {
   "cell_type": "code",
   "execution_count": null,
   "metadata": {},
   "outputs": [],
   "source": []
  },
  {
   "cell_type": "code",
   "execution_count": null,
   "metadata": {},
   "outputs": [],
   "source": []
  },
  {
   "cell_type": "code",
   "execution_count": null,
   "metadata": {},
   "outputs": [],
   "source": []
  },
  {
   "cell_type": "code",
   "execution_count": null,
   "metadata": {},
   "outputs": [],
   "source": []
  },
  {
   "cell_type": "code",
   "execution_count": null,
   "metadata": {},
   "outputs": [],
   "source": []
  }
 ],
 "metadata": {
  "kernelspec": {
   "display_name": "Python 3",
   "language": "python",
   "name": "python3"
  },
  "language_info": {
   "codemirror_mode": {
    "name": "ipython",
    "version": 3
   },
   "file_extension": ".py",
   "mimetype": "text/x-python",
   "name": "python",
   "nbconvert_exporter": "python",
   "pygments_lexer": "ipython3",
   "version": "3.8.5"
  }
 },
 "nbformat": 4,
 "nbformat_minor": 4
}
