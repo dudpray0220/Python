{
 "cells": [
  {
   "cell_type": "markdown",
   "metadata": {},
   "source": [
    "## 동영상강의 들으면서 하기 (이 수업시간에 전 시간것 분석함)"
   ]
  },
  {
   "cell_type": "code",
   "execution_count": 1,
   "metadata": {},
   "outputs": [
    {
     "ename": "SyntaxError",
     "evalue": "EOL while scanning string literal (<ipython-input-1-fb43d1ccb4a0>, line 38)",
     "output_type": "error",
     "traceback": [
      "\u001b[1;36m  File \u001b[1;32m\"<ipython-input-1-fb43d1ccb4a0>\"\u001b[1;36m, line \u001b[1;32m38\u001b[0m\n\u001b[1;33m    testDataAll[\"PREDICT_\u001b[0m\n\u001b[1;37m                         ^\u001b[0m\n\u001b[1;31mSyntaxError\u001b[0m\u001b[1;31m:\u001b[0m EOL while scanning string literal\n"
     ]
    }
   ],
   "source": [
    "def groupMl(oneGroup):\n",
    "\n",
    "    # 디버깅 코드\n",
    "    # oneGroup = groupData.get_group(   list(groupData.groups)[0]  )\n",
    "    # print 찍어서!! start {} . oneGroup.loc[0].ITEM {}, forate\n",
    "    # 1. 특성 선정\n",
    "    labelColumn = \"QTY\"\n",
    "    label=[labelColumn]\n",
    "    stdCorr = 0.2\n",
    "\n",
    "    corrDf = oneGroup.corr()\n",
    "\n",
    "    features = \\\n",
    "        list ( corrDf.loc[ (abs(corrDf.QTY) > stdCorr) & (corrDf.QTY != 1)].index )\n",
    "\n",
    "    # 2. 데이터 분리\n",
    "    trainingDataFeatures = oneGroup.loc[oneGroup.YEARWEEK < stdYearweek, features]\n",
    "    trainingDataLabel = oneGroup.loc[oneGroup.YEARWEEK < stdYearweek, label]\n",
    "    testDataFeatures = oneGroup.loc[oneGroup.YEARWEEK >= stdYearweek, features]\n",
    "    testDataLabel = oneGroup.loc[oneGroup.YEARWEEK >= stdYearweek, label]\n",
    "\n",
    "    # 3. 모델 정의\n",
    "\n",
    "    model_dt = DecisionTreeRegressor(random_state=1)\n",
    "\n",
    "    # 4. 모델 학습\n",
    "\n",
    "    model_dt.fit(trainingDataFeatures, trainingDataLabel)\n",
    "\n",
    "    # 5. 모델 예측\n",
    "\n",
    "    predictValue = model_dt.predict(testDataFeatures)\n",
    "\n",
    "    # 6. 예측값 붙이기\n",
    "\n",
    "    testDataAll = oneGroup.loc[testDataLabel.index]\n",
    "\n",
    "    testDataAll[\"PREDICT_\n"
   ]
  },
  {
   "cell_type": "code",
   "execution_count": null,
   "metadata": {},
   "outputs": [],
   "source": [
    "# 함수로 말아올림.\n",
    "def groupMl(oneGroup):\n",
    "\n",
    "    # 디버깅 코드\n",
    "    # oneGroup = groupData.get_group(   list(groupData.groups)[0]  )\n",
    "    # print 찍어서!! start {} . oneGroup.loc[0].ITEM {}, forate\n",
    "    # 1. 특성 선정\n",
    "    labelColumn = \"QTY\"\n",
    "    label=[labelColumn]\n",
    "    stdCorr = 0.2\n",
    "\n",
    "    corrDf = oneGroup.corr()\n",
    "\n",
    "    features = \\\n",
    "        list ( corrDf.loc[ (abs(corrDf.QTY) > stdCorr) & (corrDf.QTY != 1)].index )\n",
    "\n",
    "    # 2. 데이터 분리\n",
    "    trainingDataFeatures = oneGroup.loc[oneGroup.YEARWEEK < stdYearweek, features]\n",
    "    trainingDataLabel = oneGroup.loc[oneGroup.YEARWEEK < stdYearweek, label]\n",
    "    testDataFeatures = oneGroup.loc[oneGroup.YEARWEEK >= stdYearweek, features]\n",
    "    testDataLabel = oneGroup.loc[oneGroup.YEARWEEK >= stdYearweek, label]\n",
    "\n",
    "    # 3. 모델 정의\n",
    "\n",
    "    model_dt = DecisionTreeRegressor(random_state=1)\n",
    "\n",
    "    # 4. 모델 학습\n",
    "\n",
    "    model_dt.fit(trainingDataFeatures, trainingDataLabel)\n",
    "\n",
    "    # 5. 모델 예측\n",
    "\n",
    "    predictValue = model_dt.predict(testDataFeatures)\n",
    "\n",
    "    # 6. 예측값 붙이기\n",
    "\n",
    "    testDataAll = oneGroup.loc[testDataLabel.index]\n",
    "\n",
    "    testDataA\n"
   ]
  }
 ],
 "metadata": {
  "kernelspec": {
   "display_name": "Python 3",
   "language": "python",
   "name": "python3"
  },
  "language_info": {
   "codemirror_mode": {
    "name": "ipython",
    "version": 3
   },
   "file_extension": ".py",
   "mimetype": "text/x-python",
   "name": "python",
   "nbconvert_exporter": "python",
   "pygments_lexer": "ipython3",
   "version": "3.8.5"
  }
 },
 "nbformat": 4,
 "nbformat_minor": 4
}
