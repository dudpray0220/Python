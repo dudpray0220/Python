{
 "cells": [
  {
   "cell_type": "code",
   "execution_count": 27,
   "metadata": {},
   "outputs": [],
   "source": [
    "import urllib.parse\n",
    "\n",
    "import pandas as pd"
   ]
  },
  {
   "cell_type": "code",
   "execution_count": 37,
   "metadata": {},
   "outputs": [],
   "source": [
    "MARKET_CODE_DICT = {\n",
    "\n",
    "    'kospi': 'stockMkt',\n",
    "\n",
    "    'kosdaq': 'kosdaqMkt',\n",
    "\n",
    "    'konex': 'konexMkt'\n",
    "\n",
    "}\n",
    "\n",
    "DOWNLOAD_URL = 'https://kind.krx.co.kr/corpgeneral/corpList.do'\n",
    "#DOWNLOAD_URL = ' https://kind.krx.co.kr/corpgeneral/corpList.do?method=download&marketType=stockMkt'"
   ]
  },
  {
   "cell_type": "code",
   "execution_count": 38,
   "metadata": {},
   "outputs": [],
   "source": [
    "def zeroFill(columnValue):\n",
    "\n",
    "    columnValue = str(columnValue)\n",
    "\n",
    "    outValue = columnValue.zfill(6) #6자리로 만들기 위해 빈자리 0으로 채우기\n",
    "\n",
    "    return outValue"
   ]
  },
  {
   "cell_type": "code",
   "execution_count": 39,
   "metadata": {},
   "outputs": [],
   "source": [
    "def get_stock_codes(market=None, delisted=False):\n",
    "\n",
    "    params = {'method': 'download'}\n",
    "\n",
    "    if market.lower() in MARKET_CODE_DICT:\n",
    "\n",
    "        ## marketType 키 추가\n",
    "\n",
    "        params['marketType'] = MARKET_CODE_DICT[market]\n",
    "\n",
    "        print(market.lower()+\" market key is exist\")\n",
    "\n",
    "    else:\n",
    "\n",
    "        print(\"invalid market\")\n",
    "\n",
    "    # make url  key=value & key = value\n",
    "\n",
    "    params_string = urllib.parse.urlencode(params)\n",
    "\n",
    "    request_url = DOWNLOAD_URL+\"?\"+params_string\n",
    "\n",
    "    df = pd.read_html(request_url)[0]\n",
    "\n",
    "    df[\"종목코드\"] = df.종목코드.apply(zeroFill)\n",
    "#     df[\"종목코드\"] = df.종목코드.map('{:06d}'.format) # 동일 결과\n",
    " \n",
    "    return df"
   ]
  },
  {
   "cell_type": "code",
   "execution_count": 40,
   "metadata": {},
   "outputs": [
    {
     "name": "stdout",
     "output_type": "stream",
     "text": [
      "kospi market key is exist\n"
     ]
    },
    {
     "data": {
      "text/html": [
       "<div>\n",
       "<style scoped>\n",
       "    .dataframe tbody tr th:only-of-type {\n",
       "        vertical-align: middle;\n",
       "    }\n",
       "\n",
       "    .dataframe tbody tr th {\n",
       "        vertical-align: top;\n",
       "    }\n",
       "\n",
       "    .dataframe thead th {\n",
       "        text-align: right;\n",
       "    }\n",
       "</style>\n",
       "<table border=\"1\" class=\"dataframe\">\n",
       "  <thead>\n",
       "    <tr style=\"text-align: right;\">\n",
       "      <th></th>\n",
       "      <th>회사명</th>\n",
       "      <th>종목코드</th>\n",
       "      <th>업종</th>\n",
       "      <th>주요제품</th>\n",
       "      <th>상장일</th>\n",
       "      <th>결산월</th>\n",
       "      <th>대표자명</th>\n",
       "      <th>홈페이지</th>\n",
       "      <th>지역</th>\n",
       "    </tr>\n",
       "  </thead>\n",
       "  <tbody>\n",
       "    <tr>\n",
       "      <th>0</th>\n",
       "      <td>DRB동일</td>\n",
       "      <td>004840</td>\n",
       "      <td>고무제품 제조업</td>\n",
       "      <td>고무벨트(V벨트,콘베이어벨트,평벨트),프라스틱제품 제조,판매</td>\n",
       "      <td>1976-05-21</td>\n",
       "      <td>12월</td>\n",
       "      <td>류영식</td>\n",
       "      <td>http://drbworld.com</td>\n",
       "      <td>부산광역시</td>\n",
       "    </tr>\n",
       "    <tr>\n",
       "      <th>1</th>\n",
       "      <td>DSR</td>\n",
       "      <td>155660</td>\n",
       "      <td>1차 비철금속 제조업</td>\n",
       "      <td>합섬섬유로프</td>\n",
       "      <td>2013-05-15</td>\n",
       "      <td>12월</td>\n",
       "      <td>홍석빈</td>\n",
       "      <td>http://www.dsr.com</td>\n",
       "      <td>부산광역시</td>\n",
       "    </tr>\n",
       "    <tr>\n",
       "      <th>2</th>\n",
       "      <td>GS글로벌</td>\n",
       "      <td>001250</td>\n",
       "      <td>상품 종합 도매업</td>\n",
       "      <td>수출입업(시멘트,철강금속,전기전자,섬유,기계화학),상품중개,광업,채석업/하수처리 서...</td>\n",
       "      <td>1976-06-26</td>\n",
       "      <td>12월</td>\n",
       "      <td>김태형</td>\n",
       "      <td>http://www.gsgcorp.com</td>\n",
       "      <td>서울특별시</td>\n",
       "    </tr>\n",
       "    <tr>\n",
       "      <th>3</th>\n",
       "      <td>HDC현대산업개발</td>\n",
       "      <td>294870</td>\n",
       "      <td>건물 건설업</td>\n",
       "      <td>외주주택, 자체공사, 일반건축, 토목 등</td>\n",
       "      <td>2018-06-12</td>\n",
       "      <td>12월</td>\n",
       "      <td>권순호, 정경구</td>\n",
       "      <td>http://www.hdc-dvp.com</td>\n",
       "      <td>서울특별시</td>\n",
       "    </tr>\n",
       "    <tr>\n",
       "      <th>4</th>\n",
       "      <td>KEC</td>\n",
       "      <td>092220</td>\n",
       "      <td>반도체 제조업</td>\n",
       "      <td>반도체 제조</td>\n",
       "      <td>2006-10-16</td>\n",
       "      <td>12월</td>\n",
       "      <td>박남규 김학남</td>\n",
       "      <td>http://www.kec.co.kr</td>\n",
       "      <td>서울특별시</td>\n",
       "    </tr>\n",
       "  </tbody>\n",
       "</table>\n",
       "</div>"
      ],
      "text/plain": [
       "         회사명    종목코드           업종  \\\n",
       "0      DRB동일  004840     고무제품 제조업   \n",
       "1        DSR  155660  1차 비철금속 제조업   \n",
       "2      GS글로벌  001250    상품 종합 도매업   \n",
       "3  HDC현대산업개발  294870       건물 건설업   \n",
       "4        KEC  092220      반도체 제조업   \n",
       "\n",
       "                                                주요제품         상장일  결산월  \\\n",
       "0                  고무벨트(V벨트,콘베이어벨트,평벨트),프라스틱제품 제조,판매  1976-05-21  12월   \n",
       "1                                             합섬섬유로프  2013-05-15  12월   \n",
       "2  수출입업(시멘트,철강금속,전기전자,섬유,기계화학),상품중개,광업,채석업/하수처리 서...  1976-06-26  12월   \n",
       "3                             외주주택, 자체공사, 일반건축, 토목 등  2018-06-12  12월   \n",
       "4                                             반도체 제조  2006-10-16  12월   \n",
       "\n",
       "       대표자명                    홈페이지     지역  \n",
       "0       류영식     http://drbworld.com  부산광역시  \n",
       "1       홍석빈      http://www.dsr.com  부산광역시  \n",
       "2       김태형  http://www.gsgcorp.com  서울특별시  \n",
       "3  권순호, 정경구  http://www.hdc-dvp.com  서울특별시  \n",
       "4   박남규 김학남    http://www.kec.co.kr  서울특별시  "
      ]
     },
     "execution_count": 40,
     "metadata": {},
     "output_type": "execute_result"
    }
   ],
   "source": [
    "stocks = get_stock_codes('kospi')\n",
    "\n",
    "stocks.head()"
   ]
  },
  {
   "cell_type": "code",
   "execution_count": 55,
   "metadata": {},
   "outputs": [
    {
     "name": "stdin",
     "output_type": "stream",
     "text": [
      "검색할 회사 :  CJ\n"
     ]
    }
   ],
   "source": [
    "mystock = input(\"검색할 회사 : \")"
   ]
  },
  {
   "cell_type": "code",
   "execution_count": 56,
   "metadata": {},
   "outputs": [
    {
     "data": {
      "text/html": [
       "<div>\n",
       "<style scoped>\n",
       "    .dataframe tbody tr th:only-of-type {\n",
       "        vertical-align: middle;\n",
       "    }\n",
       "\n",
       "    .dataframe tbody tr th {\n",
       "        vertical-align: top;\n",
       "    }\n",
       "\n",
       "    .dataframe thead th {\n",
       "        text-align: right;\n",
       "    }\n",
       "</style>\n",
       "<table border=\"1\" class=\"dataframe\">\n",
       "  <thead>\n",
       "    <tr style=\"text-align: right;\">\n",
       "      <th></th>\n",
       "      <th>회사명</th>\n",
       "      <th>종목코드</th>\n",
       "    </tr>\n",
       "  </thead>\n",
       "  <tbody>\n",
       "    <tr>\n",
       "      <th>394</th>\n",
       "      <td>CJ</td>\n",
       "      <td>001040</td>\n",
       "    </tr>\n",
       "  </tbody>\n",
       "</table>\n",
       "</div>"
      ],
      "text/plain": [
       "    회사명    종목코드\n",
       "394  CJ  001040"
      ]
     },
     "execution_count": 56,
     "metadata": {},
     "output_type": "execute_result"
    }
   ],
   "source": [
    "stock_codeDF = stocks[ (stocks.회사명 == mystock) ] [ ['회사명','종목코드']]\n",
    "stock_codeDF"
   ]
  },
  {
   "cell_type": "code",
   "execution_count": null,
   "metadata": {},
   "outputs": [],
   "source": []
  },
  {
   "cell_type": "code",
   "execution_count": 58,
   "metadata": {},
   "outputs": [
    {
     "name": "stdout",
     "output_type": "stream",
     "text": [
      "CJ\n",
      "001040\n"
     ]
    }
   ],
   "source": [
    "stock_code = stock_codeDF.iloc[0]['종목코드']\n",
    "stock_name = stock_codeDF.iloc[0]['회사명']\n",
    "print(stock_name)\n",
    "print(stock_code)"
   ]
  },
  {
   "cell_type": "code",
   "execution_count": null,
   "metadata": {},
   "outputs": [],
   "source": []
  },
  {
   "cell_type": "code",
   "execution_count": null,
   "metadata": {},
   "outputs": [],
   "source": []
  }
 ],
 "metadata": {
  "kernelspec": {
   "display_name": "Python 3",
   "language": "python",
   "name": "python3"
  },
  "language_info": {
   "codemirror_mode": {
    "name": "ipython",
    "version": 3
   },
   "file_extension": ".py",
   "mimetype": "text/x-python",
   "name": "python",
   "nbconvert_exporter": "python",
   "pygments_lexer": "ipython3",
   "version": "3.8.5"
  }
 },
 "nbformat": 4,
 "nbformat_minor": 4
}
