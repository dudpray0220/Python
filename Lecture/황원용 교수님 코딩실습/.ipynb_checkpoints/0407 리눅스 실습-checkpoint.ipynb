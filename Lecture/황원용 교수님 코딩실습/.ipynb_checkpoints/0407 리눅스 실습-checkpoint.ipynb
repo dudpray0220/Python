{
 "cells": [
  {
   "cell_type": "code",
   "execution_count": 1,
   "metadata": {},
   "outputs": [
    {
     "name": "stdout",
     "output_type": "stream",
     "text": [
      "   ____  __ __      ___    __     _       __    __ \n",
      "  / __ \\/ //_/     /   |  / /____(_)___ _/ /_  / /_\n",
      " / / / / ,<       / /| | / / ___/ / __ `/ __ \\/ __/\n",
      "/ /_/ / /| |_    / ___ |/ / /  / / /_/ / / / / /_  \n",
      "\\____/_/ |_( )  /_/  |_/_/_/  /_/\\__, /_/ /_/\\__/  \n",
      "           |/                   /____/             \n",
      "\n"
     ]
    }
   ],
   "source": [
    "from pyfiglet import Figlet\n",
    "f = Figlet(font=\"slant\")\n",
    "print(f.renderText(\"OK, Alright\"))"
   ]
  },
  {
   "cell_type": "code",
   "execution_count": null,
   "metadata": {},
   "outputs": [],
   "source": [
    "import time\n",
    "i = 0\n",
    "while True:\n",
    "    print(\"hello\" + \" + \" + str(i))\n",
    "    i = i + 1\n",
    "    time.sleep(0.1)"
   ]
  }
 ],
 "metadata": {
  "kernelspec": {
   "display_name": "Python 3",
   "language": "python",
   "name": "python3"
  },
  "language_info": {
   "codemirror_mode": {
    "name": "ipython",
    "version": 3
   },
   "file_extension": ".py",
   "mimetype": "text/x-python",
   "name": "python",
   "nbconvert_exporter": "python",
   "pygments_lexer": "ipython3",
   "version": "3.8.5"
  }
 },
 "nbformat": 4,
 "nbformat_minor": 4
}
