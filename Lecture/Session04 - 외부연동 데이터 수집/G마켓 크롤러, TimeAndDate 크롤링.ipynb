{
 "cells": [
  {
   "cell_type": "markdown",
   "metadata": {},
   "source": [
    "## <G마켓 상품명, 가격 크롤러>      --- 배영현 저 ---"
   ]
  },
  {
   "cell_type": "code",
   "execution_count": 10,
   "metadata": {},
   "outputs": [
    {
     "name": "stdin",
     "output_type": "stream",
     "text": [
      "검색하고픈 상품을 입력하세요. 치킨\n",
      "몇 페이지 까지 검색할꺼야? 10\n"
     ]
    },
    {
     "data": {
      "text/html": [
       "<div>\n",
       "<style scoped>\n",
       "    .dataframe tbody tr th:only-of-type {\n",
       "        vertical-align: middle;\n",
       "    }\n",
       "\n",
       "    .dataframe tbody tr th {\n",
       "        vertical-align: top;\n",
       "    }\n",
       "\n",
       "    .dataframe thead th {\n",
       "        text-align: right;\n",
       "    }\n",
       "</style>\n",
       "<table border=\"1\" class=\"dataframe\">\n",
       "  <thead>\n",
       "    <tr style=\"text-align: right;\">\n",
       "      <th></th>\n",
       "      <th>상품명</th>\n",
       "      <th>가격</th>\n",
       "    </tr>\n",
       "  </thead>\n",
       "  <tbody>\n",
       "    <tr>\n",
       "      <th>0</th>\n",
       "      <td>늘바른랑쿡순살치킨1kg안심(국내산)haccp</td>\n",
       "      <td>8,900원</td>\n",
       "    </tr>\n",
       "    <tr>\n",
       "      <th>1</th>\n",
       "      <td>늘바른 랑쿡 순살치킨1kg 1kg(1+1)국내산(안심)</td>\n",
       "      <td>19,900원</td>\n",
       "    </tr>\n",
       "    <tr>\n",
       "      <th>2</th>\n",
       "      <td>늘바른 랑쿡 순살치킨1kg 1kg(1+1)국내산(안심)</td>\n",
       "      <td>18,900원</td>\n",
       "    </tr>\n",
       "    <tr>\n",
       "      <th>3</th>\n",
       "      <td>고메 함박 스테이크 152g x10개 (냉장)</td>\n",
       "      <td>20,500원</td>\n",
       "    </tr>\n",
       "    <tr>\n",
       "      <th>4</th>\n",
       "      <td>고메 함박스테이크 152gx5 + 치즈함박스테이크 152gx5</td>\n",
       "      <td>22,900원</td>\n",
       "    </tr>\n",
       "    <tr>\n",
       "      <th>...</th>\n",
       "      <td>...</td>\n",
       "      <td>...</td>\n",
       "    </tr>\n",
       "    <tr>\n",
       "      <th>1000</th>\n",
       "      <td>(BHC) 뿌링맵소킹 윙+치즈볼+콜라1.25L</td>\n",
       "      <td>24,000원</td>\n",
       "    </tr>\n",
       "    <tr>\n",
       "      <th>1001</th>\n",
       "      <td>(BHC) 뿌링맵소킹 윙+콜라1.25L</td>\n",
       "      <td>19,200원</td>\n",
       "    </tr>\n",
       "    <tr>\n",
       "      <th>1002</th>\n",
       "      <td>(BHC) 뿌링맵소킹 콤보+뿌링치즈볼+콜라1.25L</td>\n",
       "      <td>24,490원</td>\n",
       "    </tr>\n",
       "    <tr>\n",
       "      <th>1003</th>\n",
       "      <td>(BHC) 뿌링맵소킹 콤보+뿌링핫도그+콜라1.25L</td>\n",
       "      <td>24,000원</td>\n",
       "    </tr>\n",
       "    <tr>\n",
       "      <th>1004</th>\n",
       "      <td>(BHC) 뿌링맵소킹 콤보+치즈볼+콜라1.25L</td>\n",
       "      <td>24,000원</td>\n",
       "    </tr>\n",
       "  </tbody>\n",
       "</table>\n",
       "<p>1005 rows × 2 columns</p>\n",
       "</div>"
      ],
      "text/plain": [
       "                                       상품명       가격\n",
       "0                늘바른랑쿡순살치킨1kg안심(국내산)haccp    8,900원\n",
       "1          늘바른 랑쿡 순살치킨1kg 1kg(1+1)국내산(안심)   19,900원\n",
       "2          늘바른 랑쿡 순살치킨1kg 1kg(1+1)국내산(안심)   18,900원\n",
       "3               고메 함박 스테이크 152g x10개 (냉장)   20,500원\n",
       "4      고메 함박스테이크 152gx5 + 치즈함박스테이크 152gx5   22,900원\n",
       "...                                    ...      ...\n",
       "1000            (BHC) 뿌링맵소킹 윙+치즈볼+콜라1.25L   24,000원\n",
       "1001                (BHC) 뿌링맵소킹 윙+콜라1.25L   19,200원\n",
       "1002         (BHC) 뿌링맵소킹 콤보+뿌링치즈볼+콜라1.25L   24,490원\n",
       "1003         (BHC) 뿌링맵소킹 콤보+뿌링핫도그+콜라1.25L   24,000원\n",
       "1004           (BHC) 뿌링맵소킹 콤보+치즈볼+콜라1.25L   24,000원\n",
       "\n",
       "[1005 rows x 2 columns]"
      ]
     },
     "execution_count": 10,
     "metadata": {},
     "output_type": "execute_result"
    }
   ],
   "source": [
    "# <G마켓 상품명, 가격 크롤러>      --- 배영현 저 ---\n",
    "# 1. 라이브러리 선언\n",
    "from bs4 import BeautifulSoup     # 태그를 아름답게 뜬다.\n",
    "import requests      # 웹페이지 접속 요청\n",
    "import pandas as pd\n",
    "\n",
    "# 2. 타겟 URL 선언\n",
    "mainUrl = \"https://browse.gmarket.co.kr/search?keyword=\"\n",
    "product = input(\"검색하고픈 상품을 입력하세요.\")\n",
    "pageUrl = \"&p=\"\n",
    "pageNum = input(\"몇 페이지 까지 검색할꺼야?\")\n",
    "\n",
    "titleList = []\n",
    "priceList = []\n",
    "\n",
    "for j in range(1, int(pageNum)+1):\n",
    "    targetUrl = mainUrl + product + pageUrl + str(j)\n",
    "\n",
    "    # 3. 타겟 URL 접속\n",
    "    resp = requests.get(url=targetUrl)\n",
    "    if resp.status_code == 200:\n",
    "        resp.encoding = \"utf-8\"\n",
    "        html = resp.text\n",
    "        htmlObj = BeautifulSoup(html, \"html.parser\")\n",
    "    else:\n",
    "        print(\"다시 URL 확인해봐~\")\n",
    "\n",
    "    # 4. 태그값 접근하기\n",
    "    targetName = htmlObj.findAll(name=\"span\", attrs={\"class\" : \"text__item\"})\n",
    "    targetPrice = htmlObj.findAll(name=\"strong\", attrs={\"class\" : \"text text__value\"})\n",
    "\n",
    "    # 5. 상품명, 가격 텍스트값 리스트에 넣기\n",
    "    for i in range(0, len(targetName)):\n",
    "        titleText = targetName[i].text\n",
    "        priceText = targetPrice[i].text + \"원\"\n",
    "        titleList.append(titleText)\n",
    "        priceList.append(priceText)\n",
    "        \n",
    "pd.DataFrame( zip(titleList, priceList ), columns=[\"상품명\", \"가격\"] ) "
   ]
  },
  {
   "cell_type": "markdown",
   "metadata": {},
   "source": [
    "## <TimeAndDate 크롤링>       --- 배영현 저 ---"
   ]
  },
  {
   "cell_type": "code",
   "execution_count": null,
   "metadata": {},
   "outputs": [],
   "source": [
    "# 1. 라이브러리 선언\n",
    "from bs4 import BeautifulSoup     # 태그를 아름답게 뜬다.\n",
    "import requests      # 웹페이지 접속 요청\n",
    "import pandas as pd\n",
    "\n",
    "# 2. URL 선언\n",
    "mainUrl = \"https://www.timeanddate.com/holidays/south-korea/\"\n",
    "startYear = input(\"검색하고픈 첫 연도를 입력하세요.\")\n",
    "endYear = input(\"검색하고픈 마지막 연도를 입력하세요.\")\n",
    "\n",
    "# 2-2. 헤더 변경 나는 크롤러가 아니라 매킨토시 mac으로 접근하고 있으니 차단하지 말아줘~ 라는 느낌임\n",
    "headers = {'User-Agent': 'Mozilla/5.0 (Macintosh; Intel Mac OS X 10.14; rv:71.0) Gecko/20100101 Firefox/71.0'}\n",
    "\n",
    "# 5. 리스트 생성\n",
    "rowList = []      # row\n",
    "columnList = []      # column\n",
    "\n",
    "for y in range(int(startYear), int(endYear)+1):\n",
    "    targetUrl = mainUrl + str(y)\n",
    "    \n",
    "    # 3. URL 접속\n",
    "    resp = requests.get(url=targetUrl, headers = headers)\n",
    "    if resp.status_code == 200:\n",
    "        resp.encoding = \"utf-8\"\n",
    "        html = resp.text\n",
    "        htmlObj = BeautifulSoup(html, \"html.parser\")\n",
    "    else:\n",
    "        print(\"다시 URL 확인해봐~\")\n",
    "\n",
    "    # 4. 태그 단계별로 찾아 들어가기\n",
    "    tableTag = htmlObj.find(name=\"table\", attrs={\"id\":\"holidays-table\"})\n",
    "    tbodyTags = tableTag.find(name=\"tbody\")\n",
    "    trs = tbodyTags.findAll(name=\"tr\")\n",
    "    \n",
    "    #rowList.append(str(y) + \"년\") 이렇게 하면 안됨.\n",
    "    rowList.append([\"--------------\", \"--------------\", str(y) + \"년\", \"--------------\"])\n",
    "\n",
    "    for i in range(0, len(trs)):\n",
    "        thtdTags = trs[i].findAll(name = [\"th\", \"td\"])\n",
    "\n",
    "        # 6. th, td태그를 다 가지고 있는 정상 테이블이 아니면 continue로 패스!\n",
    "        if thtdTags == []:\n",
    "            continue\n",
    "\n",
    "        for j in range(0, len(thtdTags)):\n",
    "            eachColums = thtdTags[j].text\n",
    "            columnList.append(eachColums)\n",
    "\n",
    "        rowList.append(columnList)\n",
    "        # 7. rowList에 담고 columnList 초기화\n",
    "        columnList = []\n",
    "\n",
    "timeDate = pd.DataFrame(rowList, columns = [\"날짜\", \"요일\", \"이름\", \"종류\"])\n",
    "timeDate"
   ]
  },
  {
   "cell_type": "code",
   "execution_count": 9,
   "metadata": {},
   "outputs": [
    {
     "data": {
      "text/plain": [
       "'https://browse.gmarket.co.kr/search?keyword=ps4타이틀&p=5'"
      ]
     },
     "execution_count": 9,
     "metadata": {},
     "output_type": "execute_result"
    }
   ],
   "source": [
    "targetUrl"
   ]
  },
  {
   "cell_type": "code",
   "execution_count": 2,
   "metadata": {},
   "outputs": [
    {
     "data": {
      "text/plain": [
       "105"
      ]
     },
     "execution_count": 2,
     "metadata": {},
     "output_type": "execute_result"
    }
   ],
   "source": [
    "len(targetName)"
   ]
  },
  {
   "cell_type": "code",
   "execution_count": 4,
   "metadata": {},
   "outputs": [
    {
     "data": {
      "text/plain": [
       "' PS4 포트로얄4 한글판 / 보너스DLC포함 '"
      ]
     },
     "execution_count": 4,
     "metadata": {},
     "output_type": "execute_result"
    }
   ],
   "source": [
    "targetName[104].text"
   ]
  },
  {
   "cell_type": "code",
   "execution_count": 5,
   "metadata": {},
   "outputs": [
    {
     "data": {
      "text/plain": [
       "'16,900'"
      ]
     },
     "execution_count": 5,
     "metadata": {},
     "output_type": "execute_result"
    }
   ],
   "source": [
    "targetPrice[10].text"
   ]
  },
  {
   "cell_type": "code",
   "execution_count": null,
   "metadata": {},
   "outputs": [],
   "source": [
    "len(targetName)"
   ]
  },
  {
   "cell_type": "code",
   "execution_count": null,
   "metadata": {},
   "outputs": [],
   "source": [
    "len(targetPrice)"
   ]
  }
 ],
 "metadata": {
  "kernelspec": {
   "display_name": "Python 3",
   "language": "python",
   "name": "python3"
  },
  "language_info": {
   "codemirror_mode": {
    "name": "ipython",
    "version": 3
   },
   "file_extension": ".py",
   "mimetype": "text/x-python",
   "name": "python",
   "nbconvert_exporter": "python",
   "pygments_lexer": "ipython3",
   "version": "3.8.5"
  }
 },
 "nbformat": 4,
 "nbformat_minor": 4
}
