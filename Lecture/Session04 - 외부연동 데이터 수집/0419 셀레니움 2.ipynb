{
 "cells": [
  {
   "cell_type": "code",
   "execution_count": 1,
   "metadata": {},
   "outputs": [],
   "source": [
    "from selenium import webdriver    # 셀레니움\n",
    "import pandas as pd\n",
    "import time\n",
    "from selenium.webdriver.common.keys import Keys"
   ]
  },
  {
   "cell_type": "code",
   "execution_count": null,
   "metadata": {},
   "outputs": [],
   "source": [
    "# 드라이버 옵션 설정\n",
    "options = webdriver.ChromeOptions()  \n",
    "options.add_argument(\"window-size=1920x1080\")\n",
    "\n",
    "# 드라이버 위치 설정\n",
    "driverLoc = \"../addon/chromedriver/chromedriver.exe\"\n",
    "driver = webdriver.Chrome(driverLoc, options=options)\n",
    "options.add_argument(\"window-size=1920x1080\")"
   ]
  },
  {
   "cell_type": "markdown",
   "metadata": {},
   "source": [
    "## 메일 자동화"
   ]
  },
  {
   "cell_type": "code",
   "execution_count": 2,
   "metadata": {},
   "outputs": [],
   "source": [
    "# SMTP 프로토콜 로드\n",
    "import smtplib\n",
    "\n",
    "# 이메일을 간단하게 보낼수 있는 라이브러리 로드\n",
    "from email.message import EmailMessage"
   ]
  },
  {
   "cell_type": "code",
   "execution_count": 7,
   "metadata": {},
   "outputs": [],
   "source": [
    "smtp_gmail = smtplib.SMTP('smtp.gmail.com',587)\n",
    "smtp_gmail.ehlo()\n",
    "smtp_gmail.starttls()\n",
    "\n",
    "# 로그인\n",
    "userid = \"qodudgus0220\""
   ]
  },
  {
   "cell_type": "code",
   "execution_count": 3,
   "metadata": {},
   "outputs": [],
   "source": [
    "# userpw = \"oiprpwitfthwowzs\""
   ]
  },
  {
   "cell_type": "code",
   "execution_count": 18,
   "metadata": {},
   "outputs": [],
   "source": [
    "import pickle  # 패스워드 암호화"
   ]
  },
  {
   "cell_type": "code",
   "execution_count": 19,
   "metadata": {},
   "outputs": [],
   "source": [
    "mypass = \"oiprpwitfthwowzs\""
   ]
  },
  {
   "cell_type": "code",
   "execution_count": 20,
   "metadata": {},
   "outputs": [],
   "source": [
    "# 데이터를 저장"
   ]
  },
  {
   "cell_type": "code",
   "execution_count": 13,
   "metadata": {},
   "outputs": [],
   "source": [
    "# with open('pw.pickel', 'wb') as handle:\n",
    "#     pickle.dump(mypass, handle, protocol=pickle.HIGHEST_PROTOCOL)"
   ]
  },
  {
   "cell_type": "code",
   "execution_count": 21,
   "metadata": {},
   "outputs": [],
   "source": [
    "with open('pw.pickel', 'rb') as handle:\n",
    "    pwpickle = pickle.load(handle)"
   ]
  },
  {
   "cell_type": "code",
   "execution_count": 22,
   "metadata": {},
   "outputs": [
    {
     "data": {
      "text/plain": [
       "'oiprpwitfthwowzs'"
      ]
     },
     "execution_count": 22,
     "metadata": {},
     "output_type": "execute_result"
    }
   ],
   "source": [
    "pwpickle"
   ]
  },
  {
   "cell_type": "code",
   "execution_count": 23,
   "metadata": {},
   "outputs": [
    {
     "data": {
      "text/plain": [
       "(503, b'5.5.1 MAIL first. w2sm3220246pfi.104 - gsmtp')"
      ]
     },
     "execution_count": 23,
     "metadata": {},
     "output_type": "execute_result"
    }
   ],
   "source": [
    "smtp_gmail.login(userid, pwpickle)"
   ]
  },
  {
   "cell_type": "code",
   "execution_count": null,
   "metadata": {},
   "outputs": [],
   "source": [
    "to = [\"haiteam@kopo.ac.kr\"]"
   ]
  },
  {
   "cell_type": "code",
   "execution_count": null,
   "metadata": {},
   "outputs": [],
   "source": [
    "import getpass\n",
    "\n",
    "pw = getpass.getpass()  # 안보이게 암호화 -> 컴퓨터용 앱비밀번호 적어넣기\n",
    "pw"
   ]
  },
  {
   "cell_type": "code",
   "execution_count": null,
   "metadata": {},
   "outputs": [],
   "source": [
    "import getpass\n",
    "pw = getpass.getpass()\n",
    "\n",
    "import pickle  # 패쓰워드 암호화\n",
    "\n",
    "# save\n",
    "with open('data.pickle', 'wb') as f:\n",
    "    pickle.dump(pw, f, pickle.HIGHEST_PROTOCOL)\n",
    "\n",
    "# load\n",
    "with open('data.pickle', 'rb') as f:\n",
    "    data = pickle.load(f)"
   ]
  },
  {
   "cell_type": "code",
   "execution_count": null,
   "metadata": {},
   "outputs": [],
   "source": [
    "import pickle  # 패쓰워드 암호화\n",
    "mypass = zmjrhohanhnbrtfv # ->(컴퓨터용 앱비밀번호)\n",
    "\n",
    "# save\n",
    "with open('pw.pickle', 'wb') as f:\n",
    "    pickle.dump(pw, f, pickle.HIGHEST_PROTOCOL)\n",
    "\n",
    "# load\n",
    "with open('pw.pickle', 'rb') as f:\n",
    "    pw = pickle.load(f)"
   ]
  }
 ],
 "metadata": {
  "kernelspec": {
   "display_name": "Python 3",
   "language": "python",
   "name": "python3"
  },
  "language_info": {
   "codemirror_mode": {
    "name": "ipython",
    "version": 3
   },
   "file_extension": ".py",
   "mimetype": "text/x-python",
   "name": "python",
   "nbconvert_exporter": "python",
   "pygments_lexer": "ipython3",
   "version": "3.8.5"
  }
 },
 "nbformat": 4,
 "nbformat_minor": 4
}
