{
 "cells": [
  {
   "cell_type": "markdown",
   "metadata": {},
   "source": [
    "## 1. 라이브러리 선언"
   ]
  },
  {
   "cell_type": "code",
   "execution_count": null,
   "metadata": {},
   "outputs": [],
   "source": [
    "import pandas as pd"
   ]
  },
  {
   "cell_type": "markdown",
   "metadata": {},
   "source": [
    "## 2. 공공데이터 (파일데이터 불러오기)"
   ]
  },
  {
   "cell_type": "code",
   "execution_count": null,
   "metadata": {},
   "outputs": [],
   "source": [
    "pirLirUrl = \"https://www.data.go.kr/cmm/cmm/fileDownload.do?atchFileId=FILE_000000002340074&fileDetailSn=1&dataNm=%ED%95%9C%EA%B5%AD%EC%A3%BC%ED%83%9D%EA%B8%88%EC%9C%B5%EA%B3%B5%EC%82%AC_%EC%A7%80%EC%97%AD%EB%B3%84%20PIR%20%EB%B0%8F%20LIR\""
   ]
  },
  {
   "cell_type": "code",
   "execution_count": null,
   "metadata": {},
   "outputs": [],
   "source": [
    "indata = pd.read_csv(pirLirUrl, encoding=\"ms949\")\n",
    "indata"
   ]
  },
  {
   "cell_type": "code",
   "execution_count": null,
   "metadata": {},
   "outputs": [],
   "source": [
    "# 최상위 5개 행 데이터 show -> head / tail\n",
    "indata.head()"
   ]
  },
  {
   "cell_type": "markdown",
   "metadata": {},
   "source": [
    "## 실습. 공공데이터포털에서 한국부동산원 오피스텔 동향조사 현황 자료를 검색하여 원하는 자료를 불러오세요\n"
   ]
  },
  {
   "cell_type": "code",
   "execution_count": null,
   "metadata": {},
   "outputs": [],
   "source": [
    "officetelsUrl = \"https://www.data.go.kr/cmm/cmm/fileDownload.do?atchFileId=FILE_000000002312810&fileDetailSn=1&dataNm=%ED%95%9C%EA%B5%AD%EB%B6%80%EB%8F%99%EC%82%B0%EC%9B%90_%EC%98%A4%ED%94%BC%EC%8A%A4%ED%85%94%20%EC%9B%94%EC%84%B8%EA%B0%80%EA%B2%A9(%EC%9B%94%EB%B3%84)_20201014\""
   ]
  },
  {
   "cell_type": "code",
   "execution_count": null,
   "metadata": {
    "scrolled": true
   },
   "outputs": [],
   "source": [
    "data = pd.read_csv(officetelsUrl, encoding=\"ms949\")\n",
    "data"
   ]
  },
  {
   "cell_type": "code",
   "execution_count": null,
   "metadata": {},
   "outputs": [],
   "source": [
    "data.head()"
   ]
  },
  {
   "cell_type": "code",
   "execution_count": null,
   "metadata": {},
   "outputs": [],
   "source": [
    "# 데이터 접속 주소 입력\n",
    "url = \"https://kosis.kr/openapi/statisticsData.do?method=getList&apiKey=YjgwY2U3MTk1Yjc5MjU4NWQxMTMwYzRmYjIwYTBkZjM=&format=json&jsonVD=Y&userStatsId=qodudgus0220/101/DT_1B040A3/2/1/20210412145639&prdSe=M&newEstPrdCnt=1\"\n",
    "json = pd.DataFrame()\n",
    "\n",
    "try:\n",
    "    json = pd.read_json(url)\n",
    "except Exception as e:\n",
    "    print(e)"
   ]
  },
  {
   "cell_type": "code",
   "execution_count": null,
   "metadata": {
    "scrolled": true
   },
   "outputs": [],
   "source": [
    "json"
   ]
  },
  {
   "cell_type": "code",
   "execution_count": null,
   "metadata": {},
   "outputs": [],
   "source": [
    "# 데이터 접속 주소 입력\n",
    "seoulUrl = \"https://kosis.kr/openapi/statisticsData.do?method=getList&apiKey=YjgwY2U3MTk1Yjc5MjU4NWQxMTMwYzRmYjIwYTBkZjM=&format=json&jsonVD=Y&userStatsId=qodudgus0220/101/DT_1B040A3/2/1/20210412150657_1&prdSe=M&newEstPrdCnt=3\"\n",
    "json = pd.DataFrame()\n",
    "\n",
    "try:\n",
    "    json = pd.read_json(seoulUrl)\n",
    "except Exception as e:\n",
    "    print(e)"
   ]
  },
  {
   "cell_type": "code",
   "execution_count": null,
   "metadata": {},
   "outputs": [],
   "source": [
    "json"
   ]
  },
  {
   "cell_type": "markdown",
   "metadata": {},
   "source": [
    "## 실습 금융 검색 후 “시도별 금융권 대출잔액 수준별 인구＂~ 4/12"
   ]
  },
  {
   "cell_type": "code",
   "execution_count": null,
   "metadata": {},
   "outputs": [],
   "source": [
    "import requests\n",
    "from lxml import html\n",
    "from bs4 import BeautifulSoup\n",
    "import pandas as pd\n",
    "from urllib.request import Request, urlopen\n",
    "from urllib.parse import urlencode, quote_plus, unquote\n",
    "# 밑에 2줄이 인코딩 관련 라이브러리\n",
    "\n",
    "API_Key = \"AT33s775KYpJOkUBJu0dxkJuUeIfDIOJRzAH084EQS3JN%2BzFjErLHuk%2FGZa9L4gBTSGCzeA69tI9PwLp7B37IQ%3D%3D\"\n",
    "url = \"http://openapi.molit.go.kr/OpenAPI_ToolInstallPackage/service/rest/RTMSOBJSvc/getRTMSDataSvcAptTradeDev\"\n",
    "# 순수 url만 추출 ? 전까지\n",
    "queryParams = '?' + urlencode(\n",
    "    {quote_plus('ServiceKey') : API_Key,\n",
    "     quote_plus('LAWD_CD'): '11110',\n",
    "     quote_plus('DEAL_YMD'): '201512'\n",
    "    }\n",
    ")"
   ]
  },
  {
   "cell_type": "code",
   "execution_count": null,
   "metadata": {},
   "outputs": [],
   "source": [
    "response = requests.get(url + queryParams)\n",
    "response.encoding='utf-8'"
   ]
  },
  {
   "cell_type": "code",
   "execution_count": null,
   "metadata": {},
   "outputs": [],
   "source": [
    "pageSource = response.text"
   ]
  },
  {
   "cell_type": "code",
   "execution_count": null,
   "metadata": {},
   "outputs": [],
   "source": [
    "xmlobj = BeautifulSoup(pageSource, \"lxml-xml\")"
   ]
  },
  {
   "cell_type": "code",
   "execution_count": null,
   "metadata": {},
   "outputs": [],
   "source": [
    "xmlobj.find(\"item\")"
   ]
  },
  {
   "cell_type": "code",
   "execution_count": null,
   "metadata": {},
   "outputs": [],
   "source": [
    "response = requests.get(\"http://openapi.molit.go.kr/OpenAPI_ToolInstallPackage/service/rest/RTMSOBJSvc/getRTMSDataSvcAptTradeDev?serviceKey=AT33s775KYpJOkUBJu0dxkJuUeIfDIOJRzAH084EQS3JN%2BzFjErLHuk%2FGZa9L4gBTSGCzeA69tI9PwLp7B37IQ%3D%3D&pageNo=1&numOfRows=10&LAWD_CD=11110&DEAL_YMD=201512\")\n",
    "# 쿼리 스트링 형태로 해야한다!\n",
    "response.encoding='utf-8'\n",
    "\n",
    "xmlobj = BeautifulSoup(response.text,\"lxml-xml\") # parser 추출한다."
   ]
  },
  {
   "cell_type": "code",
   "execution_count": null,
   "metadata": {},
   "outputs": [],
   "source": [
    "response.text"
   ]
  },
  {
   "cell_type": "code",
   "execution_count": null,
   "metadata": {},
   "outputs": [],
   "source": [
    "rows = xmlobj.findAll('item')"
   ]
  },
  {
   "cell_type": "code",
   "execution_count": null,
   "metadata": {},
   "outputs": [],
   "source": [
    "len(rows)"
   ]
  },
  {
   "cell_type": "code",
   "execution_count": null,
   "metadata": {},
   "outputs": [],
   "source": [
    "# 한개의 행에 있는 모든 태그를 찾아라!\n",
    "columns = eachRow.find_all()"
   ]
  },
  {
   "cell_type": "code",
   "execution_count": null,
   "metadata": {},
   "outputs": [],
   "source": [
    "columns = rows[0].findAll()\n",
    "columns"
   ]
  },
  {
   "cell_type": "code",
   "execution_count": null,
   "metadata": {},
   "outputs": [],
   "source": [
    "columns[0]"
   ]
  },
  {
   "cell_type": "code",
   "execution_count": null,
   "metadata": {},
   "outputs": [],
   "source": [
    "columns[0].name"
   ]
  },
  {
   "cell_type": "code",
   "execution_count": null,
   "metadata": {},
   "outputs": [],
   "source": [
    "columns[0].text"
   ]
  },
  {
   "cell_type": "code",
   "execution_count": null,
   "metadata": {},
   "outputs": [],
   "source": [
    "eachColumn = columns[0].text\n",
    "eachColumn"
   ]
  },
  {
   "cell_type": "code",
   "execution_count": null,
   "metadata": {},
   "outputs": [],
   "source": [
    "rowList = []\n",
    "columnList = []"
   ]
  },
  {
   "cell_type": "code",
   "execution_count": null,
   "metadata": {},
   "outputs": [],
   "source": [
    "columnList.append((eachColumn).replace(\" \", \"\") )\n",
    "columnList"
   ]
  },
  {
   "cell_type": "code",
   "execution_count": null,
   "metadata": {},
   "outputs": [],
   "source": [
    "# 첫번째 row를 수집할 때 컬럼이름을 반복해서 columnNameList에 담는다\n",
    "if i == 0:\n",
    "    columnNameList.append(eachColumn.name)\n",
    "# 이건 나중에 ㄱㄱ"
   ]
  },
  {
   "cell_type": "code",
   "execution_count": null,
   "metadata": {},
   "outputs": [],
   "source": [
    "eachColumn = columns[1].text\n",
    "columnList.append(eachColumn)\n",
    "columnList"
   ]
  },
  {
   "cell_type": "code",
   "execution_count": null,
   "metadata": {},
   "outputs": [],
   "source": [
    "len(columns)"
   ]
  },
  {
   "cell_type": "code",
   "execution_count": null,
   "metadata": {},
   "outputs": [],
   "source": [
    "eachRow = rows[1]\n",
    "eachRow"
   ]
  },
  {
   "cell_type": "code",
   "execution_count": null,
   "metadata": {},
   "outputs": [],
   "source": [
    "# 전체 Row를 담을 리스트\n",
    "rowList = []\n",
    "# 한 행의 컬럼값을 담을 리스트\n",
    "columnList = []\n",
    "columnNameList = []\n",
    "# 행 값을 담고 있는 모든 태그를 검색\n",
    "rows = xmlobj.findAll(\"item\")\n",
    "\n",
    "# 각 행에 대한 반복문 수행\n",
    "for j in range(0, len(rows)):\n",
    "    eachRow = rows[j]\n",
    "    columns = eachRow.find_all()\n",
    "\n",
    "    # 첫번째 내부 반복문 : 컬럼 값 전부 담아라!!!\n",
    "    for i in range(0, len(columns)):\n",
    "\n",
    "        eachColumn = columns[i]\n",
    "        # 첫번 째 행인경우에만 columnName을 수집해라\n",
    "        if j == 0:\n",
    "            columnNameList.append( eachColumn.name )\n",
    "        columnList.append( eachColumn.text.replace(\" \", \"\") )\n",
    "        \n",
    "    rowList.append(columnList)\n",
    "    columnList = []"
   ]
  },
  {
   "cell_type": "code",
   "execution_count": null,
   "metadata": {},
   "outputs": [],
   "source": [
    "columnNameList"
   ]
  },
  {
   "cell_type": "code",
   "execution_count": null,
   "metadata": {},
   "outputs": [],
   "source": [
    "indata = pd.DataFrame(rowList)\n",
    "\n",
    "indata.columns = columnNameList\n",
    "indata"
   ]
  },
  {
   "cell_type": "code",
   "execution_count": null,
   "metadata": {},
   "outputs": [],
   "source": [
    "# 디버깅"
   ]
  },
  {
   "cell_type": "code",
   "execution_count": null,
   "metadata": {},
   "outputs": [],
   "source": [
    "# 전체 Row를 담을 리스트\n",
    "rowList = []\n",
    "# 한 행의 컬럼값을 담을 리스트\n",
    "columnList = []\n",
    "# 행 값을 담고 있는 모든 태그를 검색\n",
    "rows = xmlobj.findAll(\"item\")"
   ]
  },
  {
   "cell_type": "code",
   "execution_count": null,
   "metadata": {},
   "outputs": [],
   "source": [
    "eachColumn = c"
   ]
  },
  {
   "cell_type": "code",
   "execution_count": null,
   "metadata": {},
   "outputs": [],
   "source": [
    "# 각 행에 대한 반복문 수행\n",
    "for j in range(0, len(rows)):\n",
    "    eachRow = rows[j]\n",
    "    columns = eachRow.find_all()\n",
    "\n",
    "    # 컬럼 값 반복문 수행\n",
    "    for i in range(0, len(columns)):\n",
    "        eachColumn = columns[i]\n",
    "        columnList.append( eachColumn.text.replace(\" \", \"\") )\n",
    "        \n",
    "    rowList.append(columnList)\n",
    "    columnList = []"
   ]
  },
  {
   "cell_type": "markdown",
   "metadata": {},
   "source": [
    "## 실습 실시간 아파트 매매 거래 데이터 수집\n",
    "- 단, 컬럼이름 맵핑!\n"
   ]
  },
  {
   "cell_type": "code",
   "execution_count": null,
   "metadata": {},
   "outputs": [],
   "source": [
    "import requests\n",
    "from lxml import html\n",
    "from bs4 import BeautifulSoup\n",
    "import pandas as pd\n",
    "from urllib.request import Request, urlopen\n",
    "from urllib.parse import urlencode, quote_plus, unquote\n",
    "# 밑에 2줄이 인코딩 관련 라이브러리\n",
    "\n",
    "API_Key = \"AT33s775KYpJOkUBJu0dxkJuUeIfDIOJRzAH084EQS3JN%2BzFjErLHuk%2FGZa9L4gBTSGCzeA69tI9PwLp7B37IQ%3D%3D\"\n",
    "url = \"http://openapi.molit.go.kr/OpenAPI_ToolInstallPackage/service/rest/RTMSOBJSvc/getRTMSDataSvcAptTradeDev\"\n",
    "# 순수 url만 추출 ? 전까지\n",
    "queryParams = '?' + urlencode(\n",
    "    {quote_plus('ServiceKey') : API_Key,\n",
    "     quote_plus('LAWD_CD'): '11110',\n",
    "     quote_plus('DEAL_YMD'): '201512'\n",
    "    }\n",
    ")\n",
    "\n",
    "response = requests.get(\"http://openapi.molit.go.kr/OpenAPI_ToolInstallPackage/service/rest/RTMSOBJSvc/getRTMSDataSvcAptTradeDev?serviceKey=AT33s775KYpJOkUBJu0dxkJuUeIfDIOJRzAH084EQS3JN%2BzFjErLHuk%2FGZa9L4gBTSGCzeA69tI9PwLp7B37IQ%3D%3D&pageNo=1&numOfRows=10&LAWD_CD=11110&DEAL_YMD=201512\")\n",
    "# 쿼리 스트링 형태로 해야한다! (다만 지금 정확히 쳤으나 안되므로 쌩 url로 간다)\n",
    "response.encoding='utf-8'\n",
    "xmlobj = BeautifulSoup(response.text,\"lxml-xml\") # parser 추출한다.\n",
    "\n",
    "# 전체 Row를 담을 리스트\n",
    "rowList = []\n",
    "# 한 행의 컬럼값을 담을 리스트\n",
    "columnList = []\n",
    "# 컬럼이름 담을 리스트\n",
    "columnNameList = []\n",
    "# 행 값을 담고 있는 모든 태그를 검색\n",
    "rows = xmlobj.findAll(\"item\")\n",
    "\n",
    "# 각 행에 대한 반복문 수행\n",
    "for j in range(0, len(rows)):\n",
    "    eachRow = rows[j]\n",
    "    columns = eachRow.find_all()\n",
    "\n",
    "    # 첫번째 내부 반복문 : 컬럼 값 전부 담아라!!!\n",
    "    for i in range(0, len(columns)):\n",
    "\n",
    "        eachColumn = columns[i]\n",
    "        # 첫번 째 행인경우에만 columnName을 수집해라\n",
    "        if j == 0:\n",
    "            columnNameList.append( eachColumn.name )\n",
    "        columnList.append( eachColumn.text.replace(\" \", \"\") )\n",
    "        \n",
    "    rowList.append(columnList)\n",
    "    columnList = []\n",
    "\n",
    "# 데이터 프레임 완성\n",
    "indata = pd.DataFrame(rowList)\n",
    "\n",
    "# 컬럼 이름 바꾸기\n",
    "indata.columns = columnNameList\n",
    "indata"
   ]
  },
  {
   "cell_type": "markdown",
   "metadata": {},
   "source": [
    "## 실습 금융 검색 후 “시도별 금융권 대출잔액 수준별 인구＂~ 4/12"
   ]
  },
  {
   "cell_type": "code",
   "execution_count": null,
   "metadata": {},
   "outputs": [],
   "source": [
    "# 라이브러리 선언\n",
    "import pandas as pd\n",
    "\n",
    "# URl 불러오기\n",
    "financeUrl = \"https://kosis.kr/openapi/statisticsData.do?method=getList&apiKey=YjgwY2U3MTk1Yjc5MjU4NWQxMTMwYzRmYjIwYTBkZjM=&format=json&jsonVD=Y&userStatsId=qodudgus0220/101/DT_1MA0028/2/1/20210412173634&prdSe=Y&newEstPrdCnt=1\"\n",
    "json = pd.DataFrame()\n",
    "\n",
    "# 데이터프레임 완성\n",
    "try:\n",
    "    json = pd.read_json(financeUrl)\n",
    "except Exception as e:\n",
    "    print(e)\n",
    "json"
   ]
  }
 ],
 "metadata": {
  "kernelspec": {
   "display_name": "Python 3",
   "language": "python",
   "name": "python3"
  },
  "language_info": {
   "codemirror_mode": {
    "name": "ipython",
    "version": 3
   },
   "file_extension": ".py",
   "mimetype": "text/x-python",
   "name": "python",
   "nbconvert_exporter": "python",
   "pygments_lexer": "ipython3",
   "version": "3.8.5"
  }
 },
 "nbformat": 4,
 "nbformat_minor": 4
}
