{
 "cells": [
  {
   "cell_type": "code",
   "execution_count": 13,
   "metadata": {},
   "outputs": [],
   "source": [
    "# Python 3.7\n",
    "# file : script.py\n",
    "# author : blabla\n",
    "\n",
    "import sys\n",
    "\n",
    "\n",
    "if __name__ == '__main__':\n",
    "    argument = sys.argv\n",
    "    \n",
    "    \n",
    "    del argument[0]\t\t\t# 첫번째 인자는 script.py 배영현 즉 실행시킨 파일명이 되기 때문에 지운다\n",
    "    \n",
    "    realArgument = ','.join(argument)\n",
    "    print(type(realArgument))\n",
    "    \n",
    "    print(str(argument))\n",
    "    print(str(realArgument))\n",
    "    print(type(argument))\n",
    "    print(type(realArgument))\n",
    "    \n",
    "    \n",
    "#     print(\"안녕\")\n",
    "#     print('Argument : {}'.format(str(argument)))\n",
    "#     print(type(str(argument)))\n",
    "#     print(type(argument))"
   ]
  },
  {
   "cell_type": "code",
   "execution_count": 5,
   "metadata": {},
   "outputs": [
    {
     "data": {
      "text/plain": [
       "['배영현']"
      ]
     },
     "execution_count": 5,
     "metadata": {},
     "output_type": "execute_result"
    }
   ],
   "source": [
    "a = ['asdf.py', '배영현']\n",
    "del a[0]\n",
    "a"
   ]
  },
  {
   "cell_type": "code",
   "execution_count": 7,
   "metadata": {},
   "outputs": [
    {
     "data": {
      "text/plain": [
       "'배영현'"
      ]
     },
     "execution_count": 7,
     "metadata": {},
     "output_type": "execute_result"
    }
   ],
   "source": [
    "realArgument = ','.join(a)\n",
    "realArgument"
   ]
  },
  {
   "cell_type": "code",
   "execution_count": 8,
   "metadata": {},
   "outputs": [
    {
     "data": {
      "text/plain": [
       "str"
      ]
     },
     "execution_count": 8,
     "metadata": {},
     "output_type": "execute_result"
    }
   ],
   "source": [
    "type(realArgument)"
   ]
  }
 ],
 "metadata": {
  "kernelspec": {
   "display_name": "Python 3",
   "language": "python",
   "name": "python3"
  },
  "language_info": {
   "codemirror_mode": {
    "name": "ipython",
    "version": 3
   },
   "file_extension": ".py",
   "mimetype": "text/x-python",
   "name": "python",
   "nbconvert_exporter": "python",
   "pygments_lexer": "ipython3",
   "version": "3.8.8"
  }
 },
 "nbformat": 4,
 "nbformat_minor": 4
}
