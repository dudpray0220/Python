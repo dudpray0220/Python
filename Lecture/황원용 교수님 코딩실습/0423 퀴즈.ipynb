{
 "cells": [
  {
   "cell_type": "code",
   "execution_count": 44,
   "metadata": {},
   "outputs": [
    {
     "name": "stdin",
     "output_type": "stream",
     "text": [
      "상품가격입력 1000원미만이다 340\n"
     ]
    },
    {
     "name": "stdout",
     "output_type": "stream",
     "text": [
      "4\n"
     ]
    }
   ],
   "source": [
    "arr = [500, 100, 50, 10, 5, 1]\n",
    "coinNumbers = 0;\n",
    "price = int(input(\"상품가격입력 1000원미만이다\"))\n",
    "change = 1000 - price\n",
    "\n",
    "for i in range (0, len(arr)):\n",
    "    if change >= arr[i]:\n",
    "        coinNumbers = (change // arr[i]) + coinNumbers\n",
    "        change = change % arr[i]\n",
    "        \n",
    "print(coinNumbers)"
   ]
  },
  {
   "cell_type": "code",
   "execution_count": 45,
   "metadata": {},
   "outputs": [
    {
     "name": "stdin",
     "output_type": "stream",
     "text": [
      " 754\n"
     ]
    },
    {
     "name": "stdout",
     "output_type": "stream",
     "text": [
      "8\n"
     ]
    }
   ],
   "source": [
    "k= int(input())\n",
    "\n",
    "arr=[500,100,50,10,5,1]\n",
    "result = 1000-k\n",
    "count=0\n",
    "\n",
    "for i in range (0,len(arr)):\n",
    "      if result>=arr[i]:\n",
    "        count += result // arr[i]\n",
    "        result = result % arr[i]\n",
    "\n",
    "print(count)"
   ]
  }
 ],
 "metadata": {
  "kernelspec": {
   "display_name": "Python 3",
   "language": "python",
   "name": "python3"
  },
  "language_info": {
   "codemirror_mode": {
    "name": "ipython",
    "version": 3
   },
   "file_extension": ".py",
   "mimetype": "text/x-python",
   "name": "python",
   "nbconvert_exporter": "python",
   "pygments_lexer": "ipython3",
   "version": "3.8.5"
  }
 },
 "nbformat": 4,
 "nbformat_minor": 4
}
