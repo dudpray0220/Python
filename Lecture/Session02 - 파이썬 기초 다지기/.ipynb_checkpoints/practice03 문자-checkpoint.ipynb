{
 "cells": [
  {
   "cell_type": "markdown",
   "metadata": {},
   "source": [
    "# 문자"
   ]
  },
  {
   "cell_type": "code",
   "execution_count": 3,
   "metadata": {},
   "outputs": [],
   "source": [
    "import pandas as pd"
   ]
  },
  {
   "cell_type": "code",
   "execution_count": 1,
   "metadata": {},
   "outputs": [],
   "source": [
    "firstLetter = \"smart\"\n",
    "secondLetter = \"fintech\""
   ]
  },
  {
   "cell_type": "code",
   "execution_count": 2,
   "metadata": {},
   "outputs": [
    {
     "data": {
      "text/plain": [
       "'smartfintech'"
      ]
     },
     "execution_count": 2,
     "metadata": {},
     "output_type": "execute_result"
    }
   ],
   "source": [
    "firstLetter + secondLetter"
   ]
  },
  {
   "cell_type": "code",
   "execution_count": 4,
   "metadata": {},
   "outputs": [
    {
     "data": {
      "text/plain": [
       "'smart \"fintech\" lecture'"
      ]
     },
     "execution_count": 4,
     "metadata": {},
     "output_type": "execute_result"
    }
   ],
   "source": [
    "firstLetter = 'smart \"fintech\" lecture'\n",
    "firstLetter"
   ]
  },
  {
   "cell_type": "code",
   "execution_count": 5,
   "metadata": {},
   "outputs": [
    {
     "data": {
      "text/plain": [
       "\"smart 'fintech' lecture\""
      ]
     },
     "execution_count": 5,
     "metadata": {},
     "output_type": "execute_result"
    }
   ],
   "source": [
    "firstLetter = \"smart 'fintech' lecture\"\n",
    "firstLetter"
   ]
  },
  {
   "cell_type": "code",
   "execution_count": 6,
   "metadata": {},
   "outputs": [
    {
     "data": {
      "text/plain": [
       "'smart \\'fintech\\' \"aa\" lecture'"
      ]
     },
     "execution_count": 6,
     "metadata": {},
     "output_type": "execute_result"
    }
   ],
   "source": [
    "firstLetter = \"\"\"smart 'fintech' \"aa\" lecture\"\"\"\n",
    "firstLetter"
   ]
  },
  {
   "cell_type": "code",
   "execution_count": 7,
   "metadata": {},
   "outputs": [],
   "source": [
    "inputVal1 = 1\n",
    "inputVal2 = \"1\""
   ]
  },
  {
   "cell_type": "code",
   "execution_count": 8,
   "metadata": {},
   "outputs": [
    {
     "ename": "TypeError",
     "evalue": "unsupported operand type(s) for +: 'int' and 'str'",
     "output_type": "error",
     "traceback": [
      "\u001b[1;31m---------------------------------------------------------------------------\u001b[0m",
      "\u001b[1;31mTypeError\u001b[0m                                 Traceback (most recent call last)",
      "\u001b[1;32m<ipython-input-8-90e2ab53ff03>\u001b[0m in \u001b[0;36m<module>\u001b[1;34m\u001b[0m\n\u001b[1;32m----> 1\u001b[1;33m \u001b[0minputVal1\u001b[0m \u001b[1;33m+\u001b[0m \u001b[0minputVal2\u001b[0m\u001b[1;33m\u001b[0m\u001b[1;33m\u001b[0m\u001b[0m\n\u001b[0m",
      "\u001b[1;31mTypeError\u001b[0m: unsupported operand type(s) for +: 'int' and 'str'"
     ]
    }
   ],
   "source": [
    "inputVal1 + inputVal2"
   ]
  },
  {
   "cell_type": "code",
   "execution_count": 11,
   "metadata": {},
   "outputs": [
    {
     "name": "stdout",
     "output_type": "stream",
     "text": [
      "<class 'int'>\n",
      "<class 'str'>\n"
     ]
    }
   ],
   "source": [
    "print(type(inputVal1))\n",
    "print(type(inputVal2))"
   ]
  },
  {
   "cell_type": "code",
   "execution_count": 12,
   "metadata": {},
   "outputs": [],
   "source": [
    "commentMulti = 20\n",
    "startFlag = \"START\"\n",
    "endFlag = \"END\""
   ]
  },
  {
   "cell_type": "code",
   "execution_count": 15,
   "metadata": {},
   "outputs": [
    {
     "data": {
      "text/plain": [
       "'**********'"
      ]
     },
     "execution_count": 15,
     "metadata": {},
     "output_type": "execute_result"
    }
   ],
   "source": [
    "\"*\"*10"
   ]
  },
  {
   "cell_type": "code",
   "execution_count": 17,
   "metadata": {},
   "outputs": [
    {
     "name": "stdout",
     "output_type": "stream",
     "text": [
      "********************START********************\n"
     ]
    }
   ],
   "source": [
    "print(\"*\"*commentMulti+\\\n",
    "     startFlag+\\\n",
    "     \"*\"*commentMulti)"
   ]
  },
  {
   "cell_type": "markdown",
   "metadata": {},
   "source": [
    "## 인덱싱\n",
    "- 파이썬 인덱싱의 특징 : 첫번째 인덱스는 포함한다. 마지막 인덱스는 포함하지 않는다."
   ]
  },
  {
   "cell_type": "code",
   "execution_count": 19,
   "metadata": {},
   "outputs": [],
   "source": [
    "# 연, 주차 정보 길이 설정\n",
    "YEARLEN = 4\n",
    "WEEKLEN = 2\n",
    "\n",
    "# 입력 데이터\n",
    "inValue = \"202103\""
   ]
  },
  {
   "cell_type": "code",
   "execution_count": 24,
   "metadata": {},
   "outputs": [
    {
     "data": {
      "text/plain": [
       "'2021'"
      ]
     },
     "execution_count": 24,
     "metadata": {},
     "output_type": "execute_result"
    }
   ],
   "source": [
    "yearInfo = inValue[:YEARLEN]\n",
    "yearInfo"
   ]
  },
  {
   "cell_type": "code",
   "execution_count": 23,
   "metadata": {},
   "outputs": [
    {
     "data": {
      "text/plain": [
       "'03'"
      ]
     },
     "execution_count": 23,
     "metadata": {},
     "output_type": "execute_result"
    }
   ],
   "source": [
    "weekInfo = inValue[YEARLEN:]\n",
    "weekInfo"
   ]
  },
  {
   "cell_type": "code",
   "execution_count": 25,
   "metadata": {},
   "outputs": [
    {
     "name": "stdout",
     "output_type": "stream",
     "text": [
      "2\n",
      "2018\n"
     ]
    }
   ],
   "source": [
    "yearweek = \"201801\"\n",
    "print(yearweek[0])       # 첫번째 문자열\n",
    "print(yearweek[0:4])     # 0~4번째 전 문자열"
   ]
  },
  {
   "cell_type": "code",
   "execution_count": 32,
   "metadata": {},
   "outputs": [
    {
     "name": "stdout",
     "output_type": "stream",
     "text": [
      "2\n",
      "5\n"
     ]
    }
   ],
   "source": [
    "# 문자열 개수세기 (count)\n",
    "yearweek = \"2017W83W8888\"\n",
    "print(yearweek.count(\"W\"))\n",
    "print(yearweek.count(\"8\"))"
   ]
  },
  {
   "cell_type": "code",
   "execution_count": 33,
   "metadata": {},
   "outputs": [
    {
     "name": "stdout",
     "output_type": "stream",
     "text": [
      "2\n",
      "4\n"
     ]
    }
   ],
   "source": [
    "# index\n",
    "inValue = \"21W03\"\n",
    "print(inValue.index(\"W\"))\n",
    "print(inValue.index(\"3\"))"
   ]
  },
  {
   "cell_type": "code",
   "execution_count": 34,
   "metadata": {},
   "outputs": [
    {
     "data": {
      "text/plain": [
       "'LED_TV'"
      ]
     },
     "execution_count": 34,
     "metadata": {},
     "output_type": "execute_result"
    }
   ],
   "source": [
    "# 대소문자 (로그인 시 응용가능)\n",
    "letters = \"LeD_tv\"\n",
    "letters.upper()"
   ]
  },
  {
   "cell_type": "code",
   "execution_count": 35,
   "metadata": {},
   "outputs": [
    {
     "data": {
      "text/plain": [
       "'led_tv'"
      ]
     },
     "execution_count": 35,
     "metadata": {},
     "output_type": "execute_result"
    }
   ],
   "source": [
    "letters.lower()"
   ]
  },
  {
   "cell_type": "code",
   "execution_count": 36,
   "metadata": {},
   "outputs": [],
   "source": [
    "# 대소문자 (로그인 시 응용가능)(사용자 편의)\n",
    "userInput = \"haiteam\"\n",
    "dbValue = \"HAITEAM\""
   ]
  },
  {
   "cell_type": "code",
   "execution_count": 37,
   "metadata": {},
   "outputs": [
    {
     "data": {
      "text/plain": [
       "True"
      ]
     },
     "execution_count": 37,
     "metadata": {},
     "output_type": "execute_result"
    }
   ],
   "source": [
    "userInput.upper() == dbValue.upper()"
   ]
  },
  {
   "cell_type": "code",
   "execution_count": 38,
   "metadata": {},
   "outputs": [
    {
     "data": {
      "text/plain": [
       "True"
      ]
     },
     "execution_count": 38,
     "metadata": {},
     "output_type": "execute_result"
    }
   ],
   "source": [
    "userInput.lower() == dbValue.lower()"
   ]
  },
  {
   "cell_type": "code",
   "execution_count": 62,
   "metadata": {},
   "outputs": [],
   "source": [
    "# replace\n",
    "a = \"haiteam                                                 seoul\"\n",
    "b = \"team                                    busan\""
   ]
  },
  {
   "cell_type": "code",
   "execution_count": 65,
   "metadata": {},
   "outputs": [
    {
     "data": {
      "text/plain": [
       "['2018', '18']"
      ]
     },
     "execution_count": 65,
     "metadata": {},
     "output_type": "execute_result"
    }
   ],
   "source": [
    "\"2018w18\".replace(\"w\",\"_\").replace(\"_\",\"W\").split(\"W\")"
   ]
  },
  {
   "cell_type": "code",
   "execution_count": 63,
   "metadata": {},
   "outputs": [
    {
     "data": {
      "text/plain": [
       "'haiteam seoul'"
      ]
     },
     "execution_count": 63,
     "metadata": {},
     "output_type": "execute_result"
    }
   ],
   "source": [
    "a.replace(\"  \",\"\").replace(\"  \",\" \")"
   ]
  },
  {
   "cell_type": "code",
   "execution_count": 47,
   "metadata": {},
   "outputs": [
    {
     "data": {
      "text/plain": [
       "['2021', '03']"
      ]
     },
     "execution_count": 47,
     "metadata": {},
     "output_type": "execute_result"
    }
   ],
   "source": [
    "# split\n",
    "outValue = \"2021W03\".split(\"W\")\n",
    "outValue"
   ]
  },
  {
   "cell_type": "code",
   "execution_count": 49,
   "metadata": {},
   "outputs": [
    {
     "data": {
      "text/plain": [
       "'2021'"
      ]
     },
     "execution_count": 49,
     "metadata": {},
     "output_type": "execute_result"
    }
   ],
   "source": [
    "outValue[0]"
   ]
  },
  {
   "cell_type": "code",
   "execution_count": 50,
   "metadata": {},
   "outputs": [],
   "source": [
    "orgValue = \"1234\""
   ]
  },
  {
   "cell_type": "code",
   "execution_count": 55,
   "metadata": {},
   "outputs": [
    {
     "data": {
      "text/plain": [
       "1234.0"
      ]
     },
     "execution_count": 55,
     "metadata": {},
     "output_type": "execute_result"
    }
   ],
   "source": [
    "# int (정수), float(실수)\n",
    "float(orgValue)"
   ]
  },
  {
   "cell_type": "code",
   "execution_count": 52,
   "metadata": {},
   "outputs": [],
   "source": [
    "newValue = int(orgValue)"
   ]
  },
  {
   "cell_type": "code",
   "execution_count": 53,
   "metadata": {},
   "outputs": [
    {
     "data": {
      "text/plain": [
       "str"
      ]
     },
     "execution_count": 53,
     "metadata": {},
     "output_type": "execute_result"
    }
   ],
   "source": [
    "type(orgValue)"
   ]
  },
  {
   "cell_type": "code",
   "execution_count": 54,
   "metadata": {},
   "outputs": [
    {
     "data": {
      "text/plain": [
       "int"
      ]
     },
     "execution_count": 54,
     "metadata": {},
     "output_type": "execute_result"
    }
   ],
   "source": [
    "type(newValue)"
   ]
  },
  {
   "cell_type": "markdown",
   "metadata": {},
   "source": [
    "##### “SEC 20180212 250”  문자열 생성 후 stock_name, date, value로 각각 의미하는 문자열을 생성하세요\n"
   ]
  },
  {
   "cell_type": "code",
   "execution_count": 77,
   "metadata": {},
   "outputs": [
    {
     "name": "stdout",
     "output_type": "stream",
     "text": [
      "SEC \n",
      "20180212 \n",
      "250\n"
     ]
    }
   ],
   "source": [
    "# index 활용\n",
    "# 문자열 생성\n",
    "stringData = \"SEC 20180212 250\" \n",
    "\n",
    "# 인덱스로 문자열 생성\n",
    "stock_name = stringData[:4]\n",
    "date = stringData[4:13]\n",
    "value = stringData[13:]\n",
    "\n",
    "# 인덱스로 생성한 문자열 출력\n",
    "print(stock_name)\n",
    "print(date)\n",
    "print(value)"
   ]
  },
  {
   "cell_type": "code",
   "execution_count": 78,
   "metadata": {},
   "outputs": [
    {
     "name": "stdout",
     "output_type": "stream",
     "text": [
      "SEC\n",
      "20180212\n",
      "250\n"
     ]
    }
   ],
   "source": [
    "# split과 리스트 활용\n",
    "# 문자열 생성\n",
    "stringData = \"SEC 20180212 250\" \n",
    "\n",
    "# split으로 문자열 분리\n",
    "newString = stringData.split(\" \")\n",
    "\n",
    "# 리스트로 문자열 생성\n",
    "stock_name = newString[0]\n",
    "date = newString[1]\n",
    "value = newString[2]\n",
    "\n",
    "# 생성한 문자열 출력\n",
    "print(stock_name)\n",
    "print(date)\n",
    "print(value)"
   ]
  },
  {
   "cell_type": "markdown",
   "metadata": {},
   "source": [
    "##### “Sec 2018W28 250”  문자열 생성 후 stock_name, date, value로 각각 의미하는 문자열을 생성하세요 (단 모두 대문자여야 하며, ‘W’를 삭제해야함)\n"
   ]
  },
  {
   "cell_type": "code",
   "execution_count": 82,
   "metadata": {},
   "outputs": [
    {
     "name": "stdout",
     "output_type": "stream",
     "text": [
      "SEC \n",
      "201828 \n",
      "250\n"
     ]
    }
   ],
   "source": [
    "# index 활용\n",
    "# 문자열 생성\n",
    "stringData = \"Sec 2018W28 250\"\n",
    "\n",
    "# 문자열 정제\n",
    "newString = stringData.replace(\"W\",\"\").upper()\n",
    "\n",
    "# 인덱스로 문자열 생성\n",
    "stock_name = newString[:4]\n",
    "date = newString[4:11]\n",
    "value = newString[11:]\n",
    "\n",
    "# 인덱스로 생성한 문자열 출력\n",
    "print(stock_name)\n",
    "print(date)\n",
    "print(value)"
   ]
  },
  {
   "cell_type": "code",
   "execution_count": 88,
   "metadata": {},
   "outputs": [],
   "source": [
    "# split과 리스트 활용\n",
    "# 문자열 생성\n",
    "stringData = \"Sec 2018W28 250\"\n",
    "\n",
    "# 문자열 정제, split으로 문자열 분리\n",
    "newString = stringData.replace(\"W\",\"\").upper().split(\" \")\n",
    "\n",
    "# 리스트로 문자열 생성\n",
    "stock_name = newString[0]\n",
    "date = newString[1]\n",
    "value = newString[2]\n",
    "\n",
    "# 생성한 문자열 출력\n",
    "print(stock_name)\n",
    "print(date)\n",
    "print(value)"
   ]
  },
  {
   "cell_type": "code",
   "execution_count": 93,
   "metadata": {},
   "outputs": [],
   "source": [
    "# 샘플데이터\n",
    "targetValue = \"Secsdwekfnf 2018W28 250\"\n",
    "# 입력데이터를 대문자로 변환한다.\n",
    "targetValue = targetValue.upper()\n",
    "\n",
    "delimeter = \" \"\n",
    "\n",
    "delimeterIndex = targetValue.index(delimeter)\n",
    "delimeterIndex\n",
    "\n",
    "stockName = targetValue[:delimeterIndex]\n",
    "stockName\n",
    "\n",
    "leftedValue = targetValue[delimeterIndex+1:]\n",
    "\n",
    "leftedValue\n",
    "\n",
    "delimeterIndex = leftedValue.index(delimeter)\n",
    "\n",
    "date = leftedValue[:delimeterIndex].replace(\"W\",\"\")"
   ]
  },
  {
   "cell_type": "code",
   "execution_count": null,
   "metadata": {},
   "outputs": [],
   "source": []
  },
  {
   "cell_type": "markdown",
   "metadata": {},
   "source": [
    "# 리스트"
   ]
  },
  {
   "cell_type": "code",
   "execution_count": 100,
   "metadata": {},
   "outputs": [],
   "source": [
    "emptyList = []"
   ]
  },
  {
   "cell_type": "code",
   "execution_count": 111,
   "metadata": {},
   "outputs": [],
   "source": [
    "# 리스트\n",
    "priceList = [100,150,300,1000]"
   ]
  },
  {
   "cell_type": "code",
   "execution_count": 112,
   "metadata": {},
   "outputs": [
    {
     "data": {
      "text/plain": [
       "100"
      ]
     },
     "execution_count": 112,
     "metadata": {},
     "output_type": "execute_result"
    }
   ],
   "source": [
    "priceList[0]"
   ]
  },
  {
   "cell_type": "code",
   "execution_count": 117,
   "metadata": {},
   "outputs": [
    {
     "name": "stdout",
     "output_type": "stream",
     "text": [
      "1550\n",
      "4\n",
      "100\n",
      "1000\n"
     ]
    }
   ],
   "source": [
    "print(sum(priceList))\n",
    "print(len(priceList))\n",
    "print(min(priceList))\n",
    "print(max(priceList))"
   ]
  },
  {
   "cell_type": "code",
   "execution_count": 110,
   "metadata": {},
   "outputs": [],
   "source": [
    "# 복합리스트\n",
    "stockList = [ [\"sec\",\"201801\",100],\n",
    "              [\"posco\",\"201801\",200] ]"
   ]
  },
  {
   "cell_type": "code",
   "execution_count": 106,
   "metadata": {},
   "outputs": [
    {
     "data": {
      "text/plain": [
       "['sec', '201801', 100]"
      ]
     },
     "execution_count": 106,
     "metadata": {},
     "output_type": "execute_result"
    }
   ],
   "source": [
    "stockList[0]"
   ]
  },
  {
   "cell_type": "code",
   "execution_count": 108,
   "metadata": {},
   "outputs": [
    {
     "data": {
      "text/plain": [
       "'201801'"
      ]
     },
     "execution_count": 108,
     "metadata": {},
     "output_type": "execute_result"
    }
   ],
   "source": [
    "stockList[0][1]"
   ]
  },
  {
   "cell_type": "code",
   "execution_count": 109,
   "metadata": {},
   "outputs": [
    {
     "data": {
      "text/plain": [
       "'posco'"
      ]
     },
     "execution_count": 109,
     "metadata": {},
     "output_type": "execute_result"
    }
   ],
   "source": [
    "stockList[1][0]"
   ]
  },
  {
   "cell_type": "code",
   "execution_count": 122,
   "metadata": {},
   "outputs": [],
   "source": [
    "initList = [100,200,300,400]"
   ]
  },
  {
   "cell_type": "code",
   "execution_count": 133,
   "metadata": {},
   "outputs": [
    {
     "data": {
      "text/plain": [
       "[100, 1000000, 30]"
      ]
     },
     "execution_count": 133,
     "metadata": {},
     "output_type": "execute_result"
    }
   ],
   "source": [
    "# 인덱스 활용\n",
    "initList[0:3]\n",
    "\n",
    "# 리스트는 집합이끼때문에 집합연산이 필수\n",
    "sum(initList) # sum, Len, min, max\n",
    "\n",
    "# 리스트는 수정가능하다!!!\n",
    "initList[2] = 1000000\n",
    "initList\n",
    "initList.remove(200)\n",
    "\n",
    "# 리스트의 유용한 함수\n",
    "initList.count(500)\n",
    "initList"
   ]
  },
  {
   "cell_type": "code",
   "execution_count": 128,
   "metadata": {},
   "outputs": [],
   "source": [
    "initList.append()"
   ]
  },
  {
   "cell_type": "code",
   "execution_count": 129,
   "metadata": {},
   "outputs": [
    {
     "data": {
      "text/plain": [
       "[100, 200, 1000000, 30]"
      ]
     },
     "execution_count": 129,
     "metadata": {},
     "output_type": "execute_result"
    }
   ],
   "source": [
    "initList"
   ]
  },
  {
   "cell_type": "markdown",
   "metadata": {},
   "source": [
    "### [120,150,300,500,1000,100,2000] 값에서 최소 최대 값을 뺀 평균을 average 이름의 변수에 담으세요\n"
   ]
  },
  {
   "cell_type": "code",
   "execution_count": 1,
   "metadata": {},
   "outputs": [
    {
     "name": "stdout",
     "output_type": "stream",
     "text": [
      "리스트의 평균값은 414.0 입니다\n"
     ]
    }
   ],
   "source": [
    "# 리스트 생성\n",
    "dataList = [120,150,300,500,1000,100,2000]\n",
    "\n",
    "# 최소, 최대값 변수에 담기\n",
    "minList = min(dataList)\n",
    "maxList = max(dataList)\n",
    "\n",
    "# 리스트에서 최소, 최대값 제외\n",
    "dataList.remove(minList)\n",
    "dataList.remove(maxList)\n",
    "\n",
    "# 평균구해서 변수에 담기\n",
    "average = sum(dataList) / len(dataList)\n",
    "\n",
    "# 평균 출력\n",
    "print(\"리스트의 평균값은 {} 입니다\".format(average))"
   ]
  },
  {
   "cell_type": "code",
   "execution_count": 2,
   "metadata": {},
   "outputs": [],
   "source": [
    "testList = [1,2,3,4]"
   ]
  },
  {
   "cell_type": "code",
   "execution_count": 3,
   "metadata": {},
   "outputs": [],
   "source": [
    "testList2 = testList.remove(4)"
   ]
  },
  {
   "cell_type": "markdown",
   "metadata": {},
   "source": [
    "### [리스트 연산] 다음 예제코드를 활용하여 customerTotalList의 TOTAL_AMOUNT 컬럼의 최소, 최대값을 모두 뺀 평균을 구하세요. (hint: customerData.sort() 활용, 단 수정제출 시 작성코드도 같이 제출해주세요)"
   ]
  },
  {
   "cell_type": "code",
   "execution_count": 4,
   "metadata": {},
   "outputs": [
    {
     "name": "stdout",
     "output_type": "stream",
     "text": [
      "리스트의 평균값은 35248.91490376756 입니다\n"
     ]
    }
   ],
   "source": [
    "# csv불러오기\n",
    "customerData = pd.read_csv(\"../dataset/kopo_customerdata.csv\")\n",
    "customerData\n",
    "\n",
    "# TOTAL_AMOUNT만 리스트에 담기\n",
    "customerTotalList = customerData[\"TOTAL_AMOUNT\"].tolist()\n",
    "customerTotalList\n",
    "\n",
    "# 오름차순으로 정렬\n",
    "customerTotalList.sort()\n",
    "\n",
    "# 최소, 최댓값 변수에 담기\n",
    "minList = min(customerTotalList)\n",
    "maxList = max(customerTotalList)\n",
    "\n",
    "# 최소, 최댓값 개수 카운트\n",
    "customerTotalList.count(minList)\n",
    "customerTotalList.count(maxList)\n",
    "\n",
    "# 0이 다수이므로 del로 일괄삭제\n",
    "del customerTotalList[:256]\n",
    "# max는 1개이르모 remove로 삭제\n",
    "customerTotalList.remove(maxList)\n",
    "\n",
    "# 리스트 평균구하고 평균출력\n",
    "average = sum(customerTotalList) / len(customerTotalList)\n",
    "print(\"리스트의 평균값은 {} 입니다\".format(average))"
   ]
  },
  {
   "cell_type": "code",
   "execution_count": 2,
   "metadata": {},
   "outputs": [
    {
     "data": {
      "text/plain": [
       "'C:\\\\Users\\\\SMART-18\\\\stddev\\\\Session02 - 파이썬 기초 다지기'"
      ]
     },
     "execution_count": 2,
     "metadata": {},
     "output_type": "execute_result"
    }
   ],
   "source": [
    "pwd"
   ]
  },
  {
   "cell_type": "markdown",
   "metadata": {},
   "source": [
    "### 문제. TOTAL_AMOUNT의 평균을 구한다 (최소 / 최댓값 모두 제거)\n",
    "### STEP1 : 데이터를 정렬한다 (오름차순)"
   ]
  },
  {
   "cell_type": "code",
   "execution_count": 1,
   "metadata": {},
   "outputs": [],
   "source": [
    "import pandas as pd\n",
    "# csv불러오기\n",
    "customerData = pd.read_csv(\"../dataset/kopo_customerdata.csv\")\n",
    "customerData\n",
    "\n",
    "# TOTAL_AMOUNT만 리스트에 담기\n",
    "customerTotalList = customerData[\"TOTAL_AMOUNT\"].tolist()\n",
    "customerTotalList\n",
    "\n",
    "customerTotalList.sort()"
   ]
  },
  {
   "cell_type": "markdown",
   "metadata": {},
   "source": [
    "### STEP2 : 최소값, 최댓값을 계산한다."
   ]
  },
  {
   "cell_type": "code",
   "execution_count": 2,
   "metadata": {},
   "outputs": [],
   "source": [
    "## minValue = customerTotalList[0]\n",
    "## maxValue = customerTotalList[-1]\n",
    "## 속도 > 가독성"
   ]
  },
  {
   "cell_type": "code",
   "execution_count": 3,
   "metadata": {},
   "outputs": [],
   "source": [
    "minValue = min(customerTotalList)\n",
    "maxValue = max(customerTotalList)"
   ]
  },
  {
   "cell_type": "markdown",
   "metadata": {},
   "source": [
    "### STEP3 : 최소값, 최댓값 각각의 개수를 산출한다."
   ]
  },
  {
   "cell_type": "code",
   "execution_count": 4,
   "metadata": {},
   "outputs": [],
   "source": [
    "minValueCnt = customerTotalList.count(minValue)\n",
    "maxValueCnt = customerTotalList.count(maxValue)"
   ]
  },
  {
   "cell_type": "code",
   "execution_count": 13,
   "metadata": {},
   "outputs": [
    {
     "name": "stdout",
     "output_type": "stream",
     "text": [
      " minVaule: 0\n",
      " maxValue: 3103500\n",
      " minValueCnt: 256\n",
      " maxValueCnt: 1\n",
      "\n"
     ]
    }
   ],
   "source": [
    "print(\" minVaule: {}\\n maxValue: {}\\n minValueCnt: {}\\n maxValueCnt: {}\\n\".\n",
    "format(minValue,maxValue,minValueCnt,maxValueCnt))"
   ]
  },
  {
   "cell_type": "markdown",
   "metadata": {},
   "source": [
    "### STEP4 : 평균계산 "
   ]
  },
  {
   "cell_type": "code",
   "execution_count": 6,
   "metadata": {},
   "outputs": [],
   "source": [
    "# 초기리스트합 - (최소값 '*' 최소값개수) - (최대값*최대값개수)\n",
    "# / 초기리스트개수 - (최소값개수) - (최대값개수)"
   ]
  },
  {
   "cell_type": "code",
   "execution_count": 7,
   "metadata": {},
   "outputs": [],
   "source": [
    "finalSum = sum(customerTotalList) - (minValue*minValueCnt) - (maxValue*maxValueCnt)"
   ]
  },
  {
   "cell_type": "code",
   "execution_count": 8,
   "metadata": {},
   "outputs": [],
   "source": [
    "finalLen = len(customerTotalList) - minValueCnt - maxValueCnt"
   ]
  },
  {
   "cell_type": "code",
   "execution_count": 9,
   "metadata": {},
   "outputs": [
    {
     "data": {
      "text/plain": [
       "35248.91490376756"
      ]
     },
     "execution_count": 9,
     "metadata": {},
     "output_type": "execute_result"
    }
   ],
   "source": [
    "finalSum / finalLen"
   ]
  },
  {
   "cell_type": "code",
   "execution_count": null,
   "metadata": {},
   "outputs": [],
   "source": []
  },
  {
   "cell_type": "code",
   "execution_count": null,
   "metadata": {},
   "outputs": [],
   "source": []
  },
  {
   "cell_type": "code",
   "execution_count": null,
   "metadata": {},
   "outputs": [],
   "source": []
  },
  {
   "cell_type": "code",
   "execution_count": null,
   "metadata": {},
   "outputs": [],
   "source": []
  }
 ],
 "metadata": {
  "kernelspec": {
   "display_name": "Python 3",
   "language": "python",
   "name": "python3"
  },
  "language_info": {
   "codemirror_mode": {
    "name": "ipython",
    "version": 3
   },
   "file_extension": ".py",
   "mimetype": "text/x-python",
   "name": "python",
   "nbconvert_exporter": "python",
   "pygments_lexer": "ipython3",
   "version": "3.8.5"
  }
 },
 "nbformat": 4,
 "nbformat_minor": 4
}
